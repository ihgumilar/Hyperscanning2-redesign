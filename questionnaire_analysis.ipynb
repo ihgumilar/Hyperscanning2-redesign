{
 "cells": [
  {
   "cell_type": "code",
   "execution_count": 1,
   "metadata": {},
   "outputs": [],
   "source": [
    "import pandas as pd\n",
    "import numpy as np"
   ]
  },
  {
   "cell_type": "code",
   "execution_count": 2,
   "metadata": {},
   "outputs": [],
   "source": [
    "# Load data\n",
    "df = pd.read_csv(\"/hpc/igum002/codes/Hyperscanning2-redesign/data/S1_avertedEyesquestionnaire_5-24-2022_114733.csv\", sep=\";\")"
   ]
  },
  {
   "cell_type": "markdown",
   "metadata": {},
   "source": [
    "### Steps to-do\n",
    "1. Create score per sub-section\n",
    "2. Create a total score (combining different sub-sections). This is for q1\n",
    "3. Create total score for copresence. This is for q2\n",
    "* Do the above three steps in a loop for each file\n",
    "* Combine all dataframes into a single for each eye condition (both pre and post test)\n",
    "* Analysis :\n",
    "1.1. Correlational analysis with EEG\n",
    "b. Plot for total scores\n",
    "c. Plot for each questionnaire or subsection \n"
   ]
  },
  {
   "cell_type": "code",
   "execution_count": 4,
   "metadata": {},
   "outputs": [],
   "source": [
    "# Filter data that contains empathy\n",
    "# Add more keyword for filtering\n",
    "df_empathy = df[df[\"QuestionID\"].str.contains(\"empathy\")]"
   ]
  }
 ],
 "metadata": {
  "language_info": {
   "name": "python"
  },
  "orig_nbformat": 4
 },
 "nbformat": 4,
 "nbformat_minor": 2
}
