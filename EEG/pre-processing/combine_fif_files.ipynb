{
 "cells": [
  {
   "cell_type": "code",
   "execution_count": 8,
   "metadata": {},
   "outputs": [],
   "source": [
    "# %%\n",
    "import mne\n",
    "import tqdm\n",
    "from tqdm import tqdm\n",
    "import os"
   ]
  },
  {
   "cell_type": "markdown",
   "metadata": {},
   "source": [
    "### Define a directory where we store raw eeg files (*.fif), which are not combined yet"
   ]
  },
  {
   "cell_type": "code",
   "execution_count": 9,
   "metadata": {},
   "outputs": [],
   "source": [
    "# Go to a directory that stores raw fif file (not combined files)\n",
    "raw_dir = \"/hpc/igum002/codes/Hyperscanning2-redesign/data/EEG/raw_baseline_data\"\n",
    "os.chdir(raw_dir)"
   ]
  },
  {
   "cell_type": "markdown",
   "metadata": {},
   "source": [
    "### Combine pre averted data"
   ]
  },
  {
   "cell_type": "code",
   "execution_count": 23,
   "metadata": {},
   "outputs": [],
   "source": [
    "\n",
    "# %% Testing Odd subjects of baseline\n",
    "for i in tqdm(range(16), desc=\"Combining pre\"):  # type: ignore\n",
    "    # Pre-averted\n",
    "    if i < 9:\n",
    "        \n",
    "        averted_pre_right_odd_subject = mne.io.read_raw_fif(\n",
    "            \"EEG-S0\" + str(i + 1) + \"-averted_pre_right_point_raw.fif\", verbose=False\n",
    "        )\n",
    "        averted_pre_left_odd_subject = mne.io.read_raw_fif(\n",
    "            \"EEG-S0\" + str(i + 1) + \"-averted_pre_left_point_raw.fif\", verbose=False\n",
    "        )\n",
    "        averted_pre_files_to_combine = [\n",
    "            averted_pre_right_odd_subject,\n",
    "            averted_pre_left_odd_subject,\n",
    "        ]\n",
    "        combined_pre_averted_files = mne.concatenate_raws(averted_pre_files_to_combine)\n",
    "        combined_pre_averted_files_label = (\n",
    "            \"/hpc/igum002/codes/Hyperscanning2-redesign/data/EEG/raw_baseline_data/raw_combined_baseline_data/\"\n",
    "            + \"S0\"\n",
    "            + str(i + 1)\n",
    "            + \"-averted_pre_right_left_point_combined_raw.fif\"\n",
    "        )\n",
    "        combined_pre_averted_files.save( # type: ignore\n",
    "            combined_pre_averted_files_label, overwrite=True\n",
    "        )\n",
    "\n",
    "    else:\n",
    "\n",
    "        averted_pre_right_odd_subject = mne.io.read_raw_fif(\"EEG-S\" + str(i + 1) + \"-averted_pre_right_point_raw.fif\", verbose=False)\n",
    "        averted_pre_left_odd_subject = mne.io.read_raw_fif(\"EEG-S\" + str(i + 1) + \"-averted_pre_left_point_raw.fif\", verbose=False)\n",
    "        averted_pre_files_to_combine = [averted_pre_right_odd_subject, averted_pre_left_odd_subject]\n",
    "        combined_pre_averted_files = mne.concatenate_raws(averted_pre_files_to_combine)\n",
    "        combined_pre_averted_files_label = (\"/hpc/igum002/codes/Hyperscanning2-redesign/data/EEG/raw_baseline_data/raw_combined_baseline_data/\" + \"S\" + str(i + 1) + \"-averted_pre_right_left_point_combined_raw.fif\")\n",
    "        combined_pre_averted_files.save(combined_pre_averted_files_label, overwrite=True)"
   ]
  }
 ],
 "metadata": {
  "kernelspec": {
   "display_name": "Python 3 (ipykernel)",
   "language": "python",
   "name": "python3"
  },
  "language_info": {
   "codemirror_mode": {
    "name": "ipython",
    "version": 3
   },
   "file_extension": ".py",
   "mimetype": "text/x-python",
   "name": "python",
   "nbconvert_exporter": "python",
   "pygments_lexer": "ipython3",
   "version": "3.8.10"
  },
  "orig_nbformat": 4
 },
 "nbformat": 4,
 "nbformat_minor": 2
}
