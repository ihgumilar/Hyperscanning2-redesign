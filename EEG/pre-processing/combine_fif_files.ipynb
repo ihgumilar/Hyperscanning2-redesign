{
 "cells": [
  {
   "cell_type": "code",
   "execution_count": 31,
   "metadata": {},
   "outputs": [],
   "source": [
    "# %%\n",
    "import mne\n",
    "import tqdm\n",
    "from tqdm import tqdm\n",
    "import os"
   ]
  },
  {
   "cell_type": "markdown",
   "metadata": {},
   "source": [
    "### Baseline data"
   ]
  },
  {
   "cell_type": "markdown",
   "metadata": {},
   "source": [
    "#### Define a directory where we store raw eeg files (*.fif), which are not combined yet (Baseline data)"
   ]
  },
  {
   "cell_type": "code",
   "execution_count": 53,
   "metadata": {},
   "outputs": [],
   "source": [
    "# Go to a directory that stores raw fif file (not combined files)\n",
    "raw_dir = \"/hpc/igum002/codes/Hyperscanning2-redesign/data/EEG/raw_baseline_data/\"\n",
    "os.chdir(raw_dir)"
   ]
  },
  {
   "cell_type": "markdown",
   "metadata": {},
   "source": [
    "#### Combine pre averted baseline\n"
   ]
  },
  {
   "cell_type": "code",
   "execution_count": 54,
   "metadata": {},
   "outputs": [
    {
     "name": "stderr",
     "output_type": "stream",
     "text": [
      "Combining pre averted...:   0%|                          | 0/16 [00:00<?, ?it/s]"
     ]
    },
    {
     "name": "stdout",
     "output_type": "stream",
     "text": [
      "Writing /hpc/igum002/codes/Hyperscanning2-redesign/data/EEG/raw_baseline_data/raw_combined_baseline_data/S01-averted_pre_right_left_point_combined_raw.fif\n",
      "Closing /hpc/igum002/codes/Hyperscanning2-redesign/data/EEG/raw_baseline_data/raw_combined_baseline_data/S01-averted_pre_right_left_point_combined_raw.fif\n",
      "[done]\n",
      "Writing /hpc/igum002/codes/Hyperscanning2-redesign/data/EEG/raw_baseline_data/raw_combined_baseline_data/S02-averted_pre_left_right_point_combined_raw.fif\n",
      "Closing /hpc/igum002/codes/Hyperscanning2-redesign/data/EEG/raw_baseline_data/raw_combined_baseline_data/S02-averted_pre_left_right_point_combined_raw.fif\n",
      "[done]\n"
     ]
    },
    {
     "name": "stderr",
     "output_type": "stream",
     "text": [
      "Combining pre averted...:  12%|██▎               | 2/16 [00:00<00:01, 12.02it/s]"
     ]
    },
    {
     "name": "stdout",
     "output_type": "stream",
     "text": [
      "Writing /hpc/igum002/codes/Hyperscanning2-redesign/data/EEG/raw_baseline_data/raw_combined_baseline_data/S03-averted_pre_right_left_point_combined_raw.fif\n",
      "Closing /hpc/igum002/codes/Hyperscanning2-redesign/data/EEG/raw_baseline_data/raw_combined_baseline_data/S03-averted_pre_right_left_point_combined_raw.fif\n",
      "[done]\n",
      "Writing /hpc/igum002/codes/Hyperscanning2-redesign/data/EEG/raw_baseline_data/raw_combined_baseline_data/S04-averted_pre_left_right_point_combined_raw.fif\n",
      "Closing /hpc/igum002/codes/Hyperscanning2-redesign/data/EEG/raw_baseline_data/raw_combined_baseline_data/S04-averted_pre_left_right_point_combined_raw.fif\n",
      "[done]\n"
     ]
    },
    {
     "name": "stderr",
     "output_type": "stream",
     "text": [
      "Combining pre averted...:  25%|████▌             | 4/16 [00:00<00:01, 11.76it/s]"
     ]
    },
    {
     "name": "stdout",
     "output_type": "stream",
     "text": [
      "Writing /hpc/igum002/codes/Hyperscanning2-redesign/data/EEG/raw_baseline_data/raw_combined_baseline_data/S05-averted_pre_right_left_point_combined_raw.fif\n",
      "Closing /hpc/igum002/codes/Hyperscanning2-redesign/data/EEG/raw_baseline_data/raw_combined_baseline_data/S05-averted_pre_right_left_point_combined_raw.fif\n",
      "[done]\n",
      "Writing /hpc/igum002/codes/Hyperscanning2-redesign/data/EEG/raw_baseline_data/raw_combined_baseline_data/S06-averted_pre_left_right_point_combined_raw.fif\n",
      "Closing /hpc/igum002/codes/Hyperscanning2-redesign/data/EEG/raw_baseline_data/raw_combined_baseline_data/S06-averted_pre_left_right_point_combined_raw.fif\n",
      "[done]\n"
     ]
    },
    {
     "name": "stderr",
     "output_type": "stream",
     "text": [
      "Combining pre averted...:  38%|██████▊           | 6/16 [00:00<00:00, 11.77it/s]"
     ]
    },
    {
     "name": "stdout",
     "output_type": "stream",
     "text": [
      "Writing /hpc/igum002/codes/Hyperscanning2-redesign/data/EEG/raw_baseline_data/raw_combined_baseline_data/S07-averted_pre_right_left_point_combined_raw.fif\n",
      "Closing /hpc/igum002/codes/Hyperscanning2-redesign/data/EEG/raw_baseline_data/raw_combined_baseline_data/S07-averted_pre_right_left_point_combined_raw.fif\n",
      "[done]\n",
      "Writing /hpc/igum002/codes/Hyperscanning2-redesign/data/EEG/raw_baseline_data/raw_combined_baseline_data/S08-averted_pre_left_right_point_combined_raw.fif\n",
      "Closing /hpc/igum002/codes/Hyperscanning2-redesign/data/EEG/raw_baseline_data/raw_combined_baseline_data/S08-averted_pre_left_right_point_combined_raw.fif\n",
      "[done]\n"
     ]
    },
    {
     "name": "stderr",
     "output_type": "stream",
     "text": [
      "Combining pre averted...:  50%|█████████         | 8/16 [00:00<00:00, 11.80it/s]"
     ]
    },
    {
     "name": "stdout",
     "output_type": "stream",
     "text": [
      "Writing /hpc/igum002/codes/Hyperscanning2-redesign/data/EEG/raw_baseline_data/raw_combined_baseline_data/S09-averted_pre_right_left_point_combined_raw.fif\n",
      "Closing /hpc/igum002/codes/Hyperscanning2-redesign/data/EEG/raw_baseline_data/raw_combined_baseline_data/S09-averted_pre_right_left_point_combined_raw.fif\n",
      "[done]\n",
      "Writing /hpc/igum002/codes/Hyperscanning2-redesign/data/EEG/raw_baseline_data/raw_combined_baseline_data/S10-averted_pre_left_right_point_combined_raw.fif\n",
      "Closing /hpc/igum002/codes/Hyperscanning2-redesign/data/EEG/raw_baseline_data/raw_combined_baseline_data/S10-averted_pre_left_right_point_combined_raw.fif\n",
      "[done]\n"
     ]
    },
    {
     "name": "stderr",
     "output_type": "stream",
     "text": [
      "Combining pre averted...:  62%|██████████▋      | 10/16 [00:00<00:00, 11.07it/s]"
     ]
    },
    {
     "name": "stdout",
     "output_type": "stream",
     "text": [
      "Writing /hpc/igum002/codes/Hyperscanning2-redesign/data/EEG/raw_baseline_data/raw_combined_baseline_data/S11-averted_pre_right_left_point_combined_raw.fif\n",
      "Closing /hpc/igum002/codes/Hyperscanning2-redesign/data/EEG/raw_baseline_data/raw_combined_baseline_data/S11-averted_pre_right_left_point_combined_raw.fif\n",
      "[done]\n",
      "Writing /hpc/igum002/codes/Hyperscanning2-redesign/data/EEG/raw_baseline_data/raw_combined_baseline_data/S12-averted_pre_left_right_point_combined_raw.fif\n",
      "Closing /hpc/igum002/codes/Hyperscanning2-redesign/data/EEG/raw_baseline_data/raw_combined_baseline_data/S12-averted_pre_left_right_point_combined_raw.fif\n",
      "[done]\n"
     ]
    },
    {
     "name": "stderr",
     "output_type": "stream",
     "text": [
      "Combining pre averted...:  75%|████████████▊    | 12/16 [00:01<00:00, 10.17it/s]"
     ]
    },
    {
     "name": "stdout",
     "output_type": "stream",
     "text": [
      "Writing /hpc/igum002/codes/Hyperscanning2-redesign/data/EEG/raw_baseline_data/raw_combined_baseline_data/S13-averted_pre_right_left_point_combined_raw.fif\n",
      "Closing /hpc/igum002/codes/Hyperscanning2-redesign/data/EEG/raw_baseline_data/raw_combined_baseline_data/S13-averted_pre_right_left_point_combined_raw.fif\n",
      "[done]\n",
      "Writing /hpc/igum002/codes/Hyperscanning2-redesign/data/EEG/raw_baseline_data/raw_combined_baseline_data/S14-averted_pre_left_right_point_combined_raw.fif\n",
      "Closing /hpc/igum002/codes/Hyperscanning2-redesign/data/EEG/raw_baseline_data/raw_combined_baseline_data/S14-averted_pre_left_right_point_combined_raw.fif\n",
      "[done]\n"
     ]
    },
    {
     "name": "stderr",
     "output_type": "stream",
     "text": [
      "Combining pre averted...:  88%|██████████████▉  | 14/16 [00:01<00:00,  9.63it/s]"
     ]
    },
    {
     "name": "stdout",
     "output_type": "stream",
     "text": [
      "Writing /hpc/igum002/codes/Hyperscanning2-redesign/data/EEG/raw_baseline_data/raw_combined_baseline_data/S15-averted_pre_right_left_point_combined_raw.fif\n",
      "Closing /hpc/igum002/codes/Hyperscanning2-redesign/data/EEG/raw_baseline_data/raw_combined_baseline_data/S15-averted_pre_right_left_point_combined_raw.fif\n",
      "[done]\n"
     ]
    },
    {
     "name": "stderr",
     "output_type": "stream",
     "text": [
      "Combining pre averted...:  94%|███████████████▉ | 15/16 [00:01<00:00,  9.43it/s]"
     ]
    },
    {
     "name": "stdout",
     "output_type": "stream",
     "text": [
      "Writing /hpc/igum002/codes/Hyperscanning2-redesign/data/EEG/raw_baseline_data/raw_combined_baseline_data/S16-averted_pre_left_right_point_combined_raw.fif\n",
      "Closing /hpc/igum002/codes/Hyperscanning2-redesign/data/EEG/raw_baseline_data/raw_combined_baseline_data/S16-averted_pre_left_right_point_combined_raw.fif\n",
      "[done]\n"
     ]
    },
    {
     "name": "stderr",
     "output_type": "stream",
     "text": [
      "Combining pre averted...: 100%|█████████████████| 16/16 [00:01<00:00, 10.21it/s]\n"
     ]
    }
   ],
   "source": [
    "\n",
    "for i in tqdm(range(16), desc=\"Combining pre averted...\"):  # type: ignore\n",
    "    # Pre-averted\n",
    "    if i < 9:\n",
    "\n",
    "        averted_pre_right_odd_subject = mne.io.read_raw_fif(\n",
    "            \"EEG-S0\" + str(i + 1) + \"-averted_pre_right_point_raw.fif\", verbose=False\n",
    "        )\n",
    "        averted_pre_left_odd_subject = mne.io.read_raw_fif(\n",
    "            \"EEG-S0\" + str(i + 1) + \"-averted_pre_left_point_raw.fif\", verbose=False\n",
    "        )\n",
    "        \n",
    "        # Check if i (index in this looping) == EVEN number that takes ODD actual subject no, then labeling the file name of hand is RIGHT-LEFT\n",
    "        # For example, i = 0 actually takes S01 and keeps going...\n",
    "        if (i % 2) == 0 :\n",
    "        \n",
    "            averted_pre_files_to_combine = [\n",
    "                averted_pre_right_odd_subject,\n",
    "                averted_pre_left_odd_subject,\n",
    "            ]\n",
    "            combined_pre_averted_files = mne.concatenate_raws(averted_pre_files_to_combine)\n",
    "\n",
    "            combined_pre_averted_files_label = (\n",
    "                \"/hpc/igum002/codes/Hyperscanning2-redesign/data/EEG/raw_baseline_data/raw_combined_baseline_data/\"\n",
    "                + \"S0\"\n",
    "                + str(i + 1)\n",
    "                + \"-averted_pre_right_left_point_combined_raw.fif\"\n",
    "            )\n",
    "\n",
    "        # Check if i (index in this looping) == ODD number that takes EVEN actual subject no, then labeling the file name of hand is LEFT_RIGHT\n",
    "        # For example, i = 1 actually takes S02 and keeps going...\n",
    "\n",
    "        else:\n",
    "\n",
    "            averted_pre_files_to_combine = [ averted_pre_left_odd_subject, averted_pre_right_odd_subject]\n",
    "\n",
    "            combined_pre_averted_files = mne.concatenate_raws(averted_pre_files_to_combine)\n",
    "\n",
    "            combined_pre_averted_files_label = (\n",
    "                \"/hpc/igum002/codes/Hyperscanning2-redesign/data/EEG/raw_baseline_data/raw_combined_baseline_data/\"\n",
    "                + \"S0\"\n",
    "                + str(i + 1)\n",
    "                + \"-averted_pre_left_right_point_combined_raw.fif\"\n",
    "            )  \n",
    "\n",
    "        combined_pre_averted_files.save( # type: ignore\n",
    "            combined_pre_averted_files_label, overwrite=True\n",
    "        )\n",
    "\n",
    "    else:\n",
    "\n",
    "        averted_pre_right_odd_subject = mne.io.read_raw_fif(\"EEG-S\" + str(i + 1) + \"-averted_pre_right_point_raw.fif\", verbose=False)\n",
    "        averted_pre_left_odd_subject = mne.io.read_raw_fif(\"EEG-S\" + str(i + 1) + \"-averted_pre_left_point_raw.fif\", verbose=False)\n",
    "        averted_pre_files_to_combine = [averted_pre_right_odd_subject, averted_pre_left_odd_subject]\n",
    "        combined_pre_averted_files = mne.concatenate_raws(averted_pre_files_to_combine)\n",
    "        \n",
    "        # Check if i (index in this looping) == EVEN number that takes ODD actual subject no, then labeling the file name of hand is RIGHT-LEFT\n",
    "        # For example, i = 0 actually takes S01 and keeps going...\n",
    "        if (i % 2) == 0 :\n",
    "        \n",
    "            averted_pre_files_to_combine = [\n",
    "                averted_pre_right_odd_subject,\n",
    "                averted_pre_left_odd_subject,\n",
    "            ]\n",
    "            combined_pre_averted_files = mne.concatenate_raws(averted_pre_files_to_combine)\n",
    "\n",
    "            combined_pre_averted_files_label = (\n",
    "                \"/hpc/igum002/codes/Hyperscanning2-redesign/data/EEG/raw_baseline_data/raw_combined_baseline_data/\"\n",
    "                + \"S\"\n",
    "                + str(i + 1)\n",
    "                + \"-averted_pre_right_left_point_combined_raw.fif\"\n",
    "            )\n",
    "\n",
    "        # Check if i (index in this looping) == ODD number that takes EVEN actual subject no, then labeling the file name of hand is LEFT_RIGHT\n",
    "        # For example, i = 1 actually takes S02 and keeps going...\n",
    "\n",
    "        else:\n",
    "\n",
    "            averted_pre_files_to_combine = [ averted_pre_left_odd_subject, averted_pre_right_odd_subject]\n",
    "\n",
    "            combined_pre_averted_files = mne.concatenate_raws(averted_pre_files_to_combine)\n",
    "\n",
    "            combined_pre_averted_files_label = (\n",
    "                \"/hpc/igum002/codes/Hyperscanning2-redesign/data/EEG/raw_baseline_data/raw_combined_baseline_data/\"\n",
    "                + \"S\"\n",
    "                + str(i + 1)\n",
    "                + \"-averted_pre_left_right_point_combined_raw.fif\"\n",
    "            )  \n",
    "\n",
    "        combined_pre_averted_files.save( # type: ignore\n",
    "            combined_pre_averted_files_label, overwrite=True)"
   ]
  },
  {
   "cell_type": "markdown",
   "metadata": {},
   "source": [
    "#### Combine post averted baseline"
   ]
  },
  {
   "cell_type": "code",
   "execution_count": 55,
   "metadata": {},
   "outputs": [
    {
     "name": "stderr",
     "output_type": "stream",
     "text": [
      "Combining post averted...:   0%|                         | 0/16 [00:00<?, ?it/s]"
     ]
    },
    {
     "name": "stdout",
     "output_type": "stream",
     "text": [
      "Writing /hpc/igum002/codes/Hyperscanning2-redesign/data/EEG/raw_baseline_data/raw_combined_baseline_data/S01-averted_post_right_left_point_combined_raw.fif\n",
      "Closing /hpc/igum002/codes/Hyperscanning2-redesign/data/EEG/raw_baseline_data/raw_combined_baseline_data/S01-averted_post_right_left_point_combined_raw.fif\n",
      "[done]\n"
     ]
    },
    {
     "name": "stderr",
     "output_type": "stream",
     "text": [
      "Combining post averted...:   6%|█                | 1/16 [00:00<00:01,  9.46it/s]"
     ]
    },
    {
     "name": "stdout",
     "output_type": "stream",
     "text": [
      "Writing /hpc/igum002/codes/Hyperscanning2-redesign/data/EEG/raw_baseline_data/raw_combined_baseline_data/S02-averted_post_left_right_point_combined_raw.fif\n",
      "Closing /hpc/igum002/codes/Hyperscanning2-redesign/data/EEG/raw_baseline_data/raw_combined_baseline_data/S02-averted_post_left_right_point_combined_raw.fif\n",
      "[done]\n"
     ]
    },
    {
     "name": "stderr",
     "output_type": "stream",
     "text": [
      "Combining post averted...:  12%|██▏              | 2/16 [00:00<00:01,  9.20it/s]"
     ]
    },
    {
     "name": "stdout",
     "output_type": "stream",
     "text": [
      "Writing /hpc/igum002/codes/Hyperscanning2-redesign/data/EEG/raw_baseline_data/raw_combined_baseline_data/S03-averted_post_right_left_point_combined_raw.fif\n",
      "Closing /hpc/igum002/codes/Hyperscanning2-redesign/data/EEG/raw_baseline_data/raw_combined_baseline_data/S03-averted_post_right_left_point_combined_raw.fif\n",
      "[done]\n"
     ]
    },
    {
     "name": "stderr",
     "output_type": "stream",
     "text": [
      "Combining post averted...:  19%|███▏             | 3/16 [00:00<00:01,  9.46it/s]"
     ]
    },
    {
     "name": "stdout",
     "output_type": "stream",
     "text": [
      "Writing /hpc/igum002/codes/Hyperscanning2-redesign/data/EEG/raw_baseline_data/raw_combined_baseline_data/S04-averted_post_left_right_point_combined_raw.fif\n",
      "Closing /hpc/igum002/codes/Hyperscanning2-redesign/data/EEG/raw_baseline_data/raw_combined_baseline_data/S04-averted_post_left_right_point_combined_raw.fif\n",
      "[done]\n"
     ]
    },
    {
     "name": "stderr",
     "output_type": "stream",
     "text": [
      "Combining post averted...:  25%|████▎            | 4/16 [00:00<00:01,  9.60it/s]"
     ]
    },
    {
     "name": "stdout",
     "output_type": "stream",
     "text": [
      "Writing /hpc/igum002/codes/Hyperscanning2-redesign/data/EEG/raw_baseline_data/raw_combined_baseline_data/S05-averted_post_right_left_point_combined_raw.fif\n",
      "Closing /hpc/igum002/codes/Hyperscanning2-redesign/data/EEG/raw_baseline_data/raw_combined_baseline_data/S05-averted_post_right_left_point_combined_raw.fif\n",
      "[done]\n"
     ]
    },
    {
     "name": "stderr",
     "output_type": "stream",
     "text": [
      "Combining post averted...:  31%|█████▎           | 5/16 [00:00<00:01,  9.64it/s]"
     ]
    },
    {
     "name": "stdout",
     "output_type": "stream",
     "text": [
      "Writing /hpc/igum002/codes/Hyperscanning2-redesign/data/EEG/raw_baseline_data/raw_combined_baseline_data/S06-averted_post_left_right_point_combined_raw.fif\n",
      "Closing /hpc/igum002/codes/Hyperscanning2-redesign/data/EEG/raw_baseline_data/raw_combined_baseline_data/S06-averted_post_left_right_point_combined_raw.fif\n",
      "[done]\n",
      "Writing /hpc/igum002/codes/Hyperscanning2-redesign/data/EEG/raw_baseline_data/raw_combined_baseline_data/S07-averted_post_right_left_point_combined_raw.fif\n",
      "Closing /hpc/igum002/codes/Hyperscanning2-redesign/data/EEG/raw_baseline_data/raw_combined_baseline_data/S07-averted_post_right_left_point_combined_raw.fif\n",
      "[done]\n"
     ]
    },
    {
     "name": "stderr",
     "output_type": "stream",
     "text": [
      "Combining post averted...:  44%|███████▍         | 7/16 [00:00<00:00,  9.80it/s]"
     ]
    },
    {
     "name": "stdout",
     "output_type": "stream",
     "text": [
      "Writing /hpc/igum002/codes/Hyperscanning2-redesign/data/EEG/raw_baseline_data/raw_combined_baseline_data/S08-averted_post_left_right_point_combined_raw.fif\n",
      "Closing /hpc/igum002/codes/Hyperscanning2-redesign/data/EEG/raw_baseline_data/raw_combined_baseline_data/S08-averted_post_left_right_point_combined_raw.fif\n",
      "[done]\n",
      "Writing /hpc/igum002/codes/Hyperscanning2-redesign/data/EEG/raw_baseline_data/raw_combined_baseline_data/S09-averted_post_right_left_point_combined_raw.fif\n",
      "Closing /hpc/igum002/codes/Hyperscanning2-redesign/data/EEG/raw_baseline_data/raw_combined_baseline_data/S09-averted_post_right_left_point_combined_raw.fif\n",
      "[done]\n"
     ]
    },
    {
     "name": "stderr",
     "output_type": "stream",
     "text": [
      "Combining post averted...:  56%|█████████▌       | 9/16 [00:00<00:00, 10.10it/s]"
     ]
    },
    {
     "name": "stdout",
     "output_type": "stream",
     "text": [
      "Writing /hpc/igum002/codes/Hyperscanning2-redesign/data/EEG/raw_baseline_data/raw_combined_baseline_data/S10-averted_post_left_right_point_combined_raw.fif\n",
      "Closing /hpc/igum002/codes/Hyperscanning2-redesign/data/EEG/raw_baseline_data/raw_combined_baseline_data/S10-averted_post_left_right_point_combined_raw.fif\n",
      "[done]\n",
      "Writing /hpc/igum002/codes/Hyperscanning2-redesign/data/EEG/raw_baseline_data/raw_combined_baseline_data/S11-averted_post_right_left_point_combined_raw.fif\n",
      "Closing /hpc/igum002/codes/Hyperscanning2-redesign/data/EEG/raw_baseline_data/raw_combined_baseline_data/S11-averted_post_right_left_point_combined_raw.fif\n",
      "[done]\n"
     ]
    },
    {
     "name": "stderr",
     "output_type": "stream",
     "text": [
      "Combining post averted...:  69%|███████████     | 11/16 [00:01<00:00,  8.68it/s]"
     ]
    },
    {
     "name": "stdout",
     "output_type": "stream",
     "text": [
      "Writing /hpc/igum002/codes/Hyperscanning2-redesign/data/EEG/raw_baseline_data/raw_combined_baseline_data/S12-averted_post_left_right_point_combined_raw.fif\n",
      "Closing /hpc/igum002/codes/Hyperscanning2-redesign/data/EEG/raw_baseline_data/raw_combined_baseline_data/S12-averted_post_left_right_point_combined_raw.fif\n",
      "[done]\n"
     ]
    },
    {
     "name": "stderr",
     "output_type": "stream",
     "text": [
      "Combining post averted...:  75%|████████████    | 12/16 [00:01<00:00,  8.54it/s]"
     ]
    },
    {
     "name": "stdout",
     "output_type": "stream",
     "text": [
      "Writing /hpc/igum002/codes/Hyperscanning2-redesign/data/EEG/raw_baseline_data/raw_combined_baseline_data/S13-averted_post_right_left_point_combined_raw.fif\n",
      "Closing /hpc/igum002/codes/Hyperscanning2-redesign/data/EEG/raw_baseline_data/raw_combined_baseline_data/S13-averted_post_right_left_point_combined_raw.fif\n",
      "[done]\n"
     ]
    },
    {
     "name": "stderr",
     "output_type": "stream",
     "text": [
      "Combining post averted...:  81%|█████████████   | 13/16 [00:01<00:00,  8.38it/s]"
     ]
    },
    {
     "name": "stdout",
     "output_type": "stream",
     "text": [
      "Writing /hpc/igum002/codes/Hyperscanning2-redesign/data/EEG/raw_baseline_data/raw_combined_baseline_data/S14-averted_post_left_right_point_combined_raw.fif\n",
      "Closing /hpc/igum002/codes/Hyperscanning2-redesign/data/EEG/raw_baseline_data/raw_combined_baseline_data/S14-averted_post_left_right_point_combined_raw.fif\n",
      "[done]\n"
     ]
    },
    {
     "name": "stderr",
     "output_type": "stream",
     "text": [
      "Combining post averted...:  88%|██████████████  | 14/16 [00:01<00:00,  8.33it/s]"
     ]
    },
    {
     "name": "stdout",
     "output_type": "stream",
     "text": [
      "Writing /hpc/igum002/codes/Hyperscanning2-redesign/data/EEG/raw_baseline_data/raw_combined_baseline_data/S15-averted_post_right_left_point_combined_raw.fif\n",
      "Closing /hpc/igum002/codes/Hyperscanning2-redesign/data/EEG/raw_baseline_data/raw_combined_baseline_data/S15-averted_post_right_left_point_combined_raw.fif\n",
      "[done]\n"
     ]
    },
    {
     "name": "stderr",
     "output_type": "stream",
     "text": [
      "Combining post averted...:  94%|███████████████ | 15/16 [00:01<00:00,  8.30it/s]"
     ]
    },
    {
     "name": "stdout",
     "output_type": "stream",
     "text": [
      "Writing /hpc/igum002/codes/Hyperscanning2-redesign/data/EEG/raw_baseline_data/raw_combined_baseline_data/S16-averted_post_left_right_point_combined_raw.fif\n",
      "Closing /hpc/igum002/codes/Hyperscanning2-redesign/data/EEG/raw_baseline_data/raw_combined_baseline_data/S16-averted_post_left_right_point_combined_raw.fif\n",
      "[done]\n"
     ]
    },
    {
     "name": "stderr",
     "output_type": "stream",
     "text": [
      "Combining post averted...: 100%|████████████████| 16/16 [00:01<00:00,  8.81it/s]\n"
     ]
    }
   ],
   "source": [
    "\n",
    "for i in tqdm(range(16), desc=\"Combining post averted...\"):  # type: ignore\n",
    "    # post-averted\n",
    "    if i < 9:\n",
    "\n",
    "        averted_post_right_odd_subject = mne.io.read_raw_fif(\n",
    "            \"EEG-S0\" + str(i + 1) + \"-averted_post_right_point_raw.fif\", verbose=False\n",
    "        )\n",
    "        averted_post_left_odd_subject = mne.io.read_raw_fif(\n",
    "            \"EEG-S0\" + str(i + 1) + \"-averted_post_left_point_raw.fif\", verbose=False\n",
    "        )\n",
    "        \n",
    "        # Check if i (index in this looping) == EVEN number that takes ODD actual subject no, then labeling the file name of hand is RIGHT-LEFT\n",
    "        # For example, i = 0 actually takes S01 and keeps going...\n",
    "        if (i % 2) == 0 :\n",
    "        \n",
    "            averted_post_files_to_combine = [\n",
    "                averted_post_right_odd_subject,\n",
    "                averted_post_left_odd_subject,\n",
    "            ]\n",
    "            combined_post_averted_files = mne.concatenate_raws(averted_post_files_to_combine)\n",
    "\n",
    "            combined_post_averted_files_label = (\n",
    "                \"/hpc/igum002/codes/Hyperscanning2-redesign/data/EEG/raw_baseline_data/raw_combined_baseline_data/\"\n",
    "                + \"S0\"\n",
    "                + str(i + 1)\n",
    "                + \"-averted_post_right_left_point_combined_raw.fif\"\n",
    "            )\n",
    "\n",
    "        # Check if i (index in this looping) == ODD number that takes EVEN actual subject no, then labeling the file name of hand is LEFT_RIGHT\n",
    "        # For example, i = 1 actually takes S02 and keeps going...\n",
    "\n",
    "        else:\n",
    "\n",
    "            averted_post_files_to_combine = [ averted_post_left_odd_subject, averted_post_right_odd_subject]\n",
    "\n",
    "            combined_post_averted_files = mne.concatenate_raws(averted_post_files_to_combine)\n",
    "\n",
    "            combined_post_averted_files_label = (\n",
    "                \"/hpc/igum002/codes/Hyperscanning2-redesign/data/EEG/raw_baseline_data/raw_combined_baseline_data/\"\n",
    "                + \"S0\"\n",
    "                + str(i + 1)\n",
    "                + \"-averted_post_left_right_point_combined_raw.fif\"\n",
    "            )  \n",
    "\n",
    "        combined_post_averted_files.save( # type: ignore\n",
    "            combined_post_averted_files_label, overwrite=True\n",
    "        )\n",
    "\n",
    "    else:\n",
    "\n",
    "        averted_post_right_odd_subject = mne.io.read_raw_fif(\"EEG-S\" + str(i + 1) + \"-averted_post_right_point_raw.fif\", verbose=False)\n",
    "        averted_post_left_odd_subject = mne.io.read_raw_fif(\"EEG-S\" + str(i + 1) + \"-averted_post_left_point_raw.fif\", verbose=False)\n",
    "        averted_post_files_to_combine = [averted_post_right_odd_subject, averted_post_left_odd_subject]\n",
    "        combined_post_averted_files = mne.concatenate_raws(averted_post_files_to_combine)\n",
    "        \n",
    "        # Check if i (index in this looping) == EVEN number that takes ODD actual subject no, then labeling the file name of hand is RIGHT-LEFT\n",
    "        # For example, i = 0 actually takes S01 and keeps going...\n",
    "        if (i % 2) == 0 :\n",
    "        \n",
    "            averted_post_files_to_combine = [\n",
    "                averted_post_right_odd_subject,\n",
    "                averted_post_left_odd_subject,\n",
    "            ]\n",
    "            combined_post_averted_files = mne.concatenate_raws(averted_post_files_to_combine)\n",
    "\n",
    "            combined_post_averted_files_label = (\n",
    "                \"/hpc/igum002/codes/Hyperscanning2-redesign/data/EEG/raw_baseline_data/raw_combined_baseline_data/\"\n",
    "                + \"S\"\n",
    "                + str(i + 1)\n",
    "                + \"-averted_post_right_left_point_combined_raw.fif\"\n",
    "            )\n",
    "\n",
    "        # Check if i (index in this looping) == ODD number that takes EVEN actual subject no, then labeling the file name of hand is LEFT_RIGHT\n",
    "        # For example, i = 1 actually takes S02 and keeps going...\n",
    "\n",
    "        else:\n",
    "\n",
    "            averted_post_files_to_combine = [ averted_post_left_odd_subject, averted_post_right_odd_subject]\n",
    "\n",
    "            combined_post_averted_files = mne.concatenate_raws(averted_post_files_to_combine)\n",
    "\n",
    "            combined_post_averted_files_label = (\n",
    "                \"/hpc/igum002/codes/Hyperscanning2-redesign/data/EEG/raw_baseline_data/raw_combined_baseline_data/\"\n",
    "                + \"S\"\n",
    "                + str(i + 1)\n",
    "                + \"-averted_post_left_right_point_combined_raw.fif\"\n",
    "            )  \n",
    "\n",
    "        combined_post_averted_files.save( # type: ignore\n",
    "            combined_post_averted_files_label, overwrite=True)"
   ]
  },
  {
   "cell_type": "markdown",
   "metadata": {},
   "source": [
    "### Experimental"
   ]
  },
  {
   "cell_type": "markdown",
   "metadata": {},
   "source": [
    "#### Define a directory where we store raw eeg files (*.fif), which are not combined yet (Experimental data)"
   ]
  },
  {
   "cell_type": "code",
   "execution_count": 56,
   "metadata": {},
   "outputs": [],
   "source": [
    "# Go to a directory that stores raw fif file (not combined files)\n",
    "raw_dir = \"/hpc/igum002/codes/Hyperscanning2-redesign/data/EEG/raw_experimental_data/\"\n",
    "os.chdir(raw_dir)"
   ]
  },
  {
   "cell_type": "markdown",
   "metadata": {},
   "source": [
    "#### Combine pre averted experimental"
   ]
  },
  {
   "cell_type": "code",
   "execution_count": 48,
   "metadata": {},
   "outputs": [
    {
     "name": "stderr",
     "output_type": "stream",
     "text": [
      "Combining pre averted...:   0%|                          | 0/16 [00:00<?, ?it/s]"
     ]
    },
    {
     "name": "stdout",
     "output_type": "stream",
     "text": [
      "Writing /hpc/igum002/codes/Hyperscanning2-redesign/data/EEG/raw_experimental_data/raw_combined_experimental_data/S01-averted_pre_right_left_point_combined_raw.fif\n",
      "Closing /hpc/igum002/codes/Hyperscanning2-redesign/data/EEG/raw_experimental_data/raw_combined_experimental_data/S01-averted_pre_right_left_point_combined_raw.fif\n",
      "[done]\n",
      "Writing /hpc/igum002/codes/Hyperscanning2-redesign/data/EEG/raw_experimental_data/raw_combined_experimental_data/S02-averted_pre_left_right_point_combined_raw.fif\n",
      "Closing /hpc/igum002/codes/Hyperscanning2-redesign/data/EEG/raw_experimental_data/raw_combined_experimental_data/S02-averted_pre_left_right_point_combined_raw.fif\n",
      "[done]\n"
     ]
    },
    {
     "name": "stderr",
     "output_type": "stream",
     "text": [
      "Combining pre averted...:  12%|██▎               | 2/16 [00:00<00:01, 10.65it/s]"
     ]
    },
    {
     "name": "stdout",
     "output_type": "stream",
     "text": [
      "Writing /hpc/igum002/codes/Hyperscanning2-redesign/data/EEG/raw_experimental_data/raw_combined_experimental_data/S03-averted_pre_right_left_point_combined_raw.fif\n",
      "Closing /hpc/igum002/codes/Hyperscanning2-redesign/data/EEG/raw_experimental_data/raw_combined_experimental_data/S03-averted_pre_right_left_point_combined_raw.fif\n",
      "[done]\n",
      "Writing /hpc/igum002/codes/Hyperscanning2-redesign/data/EEG/raw_experimental_data/raw_combined_experimental_data/S04-averted_pre_left_right_point_combined_raw.fif\n",
      "Closing /hpc/igum002/codes/Hyperscanning2-redesign/data/EEG/raw_experimental_data/raw_combined_experimental_data/S04-averted_pre_left_right_point_combined_raw.fif\n",
      "[done]\n"
     ]
    },
    {
     "name": "stderr",
     "output_type": "stream",
     "text": [
      "Combining pre averted...:  25%|████▌             | 4/16 [00:00<00:01, 10.92it/s]"
     ]
    },
    {
     "name": "stdout",
     "output_type": "stream",
     "text": [
      "Writing /hpc/igum002/codes/Hyperscanning2-redesign/data/EEG/raw_experimental_data/raw_combined_experimental_data/S05-averted_pre_right_left_point_combined_raw.fif\n",
      "Closing /hpc/igum002/codes/Hyperscanning2-redesign/data/EEG/raw_experimental_data/raw_combined_experimental_data/S05-averted_pre_right_left_point_combined_raw.fif\n",
      "[done]\n",
      "Writing /hpc/igum002/codes/Hyperscanning2-redesign/data/EEG/raw_experimental_data/raw_combined_experimental_data/S06-averted_pre_left_right_point_combined_raw.fif\n",
      "Closing /hpc/igum002/codes/Hyperscanning2-redesign/data/EEG/raw_experimental_data/raw_combined_experimental_data/S06-averted_pre_left_right_point_combined_raw.fif\n",
      "[done]\n"
     ]
    },
    {
     "name": "stderr",
     "output_type": "stream",
     "text": [
      "Combining pre averted...:  38%|██████▊           | 6/16 [00:00<00:00, 10.90it/s]"
     ]
    },
    {
     "name": "stdout",
     "output_type": "stream",
     "text": [
      "Writing /hpc/igum002/codes/Hyperscanning2-redesign/data/EEG/raw_experimental_data/raw_combined_experimental_data/S07-averted_pre_right_left_point_combined_raw.fif\n",
      "Closing /hpc/igum002/codes/Hyperscanning2-redesign/data/EEG/raw_experimental_data/raw_combined_experimental_data/S07-averted_pre_right_left_point_combined_raw.fif\n",
      "[done]\n",
      "Writing /hpc/igum002/codes/Hyperscanning2-redesign/data/EEG/raw_experimental_data/raw_combined_experimental_data/S08-averted_pre_left_right_point_combined_raw.fif\n",
      "Closing /hpc/igum002/codes/Hyperscanning2-redesign/data/EEG/raw_experimental_data/raw_combined_experimental_data/S08-averted_pre_left_right_point_combined_raw.fif\n",
      "[done]\n"
     ]
    },
    {
     "name": "stderr",
     "output_type": "stream",
     "text": [
      "Combining pre averted...:  50%|█████████         | 8/16 [00:00<00:00, 11.12it/s]"
     ]
    },
    {
     "name": "stdout",
     "output_type": "stream",
     "text": [
      "Writing /hpc/igum002/codes/Hyperscanning2-redesign/data/EEG/raw_experimental_data/raw_combined_experimental_data/S09-averted_pre_right_left_point_combined_raw.fif\n",
      "Closing /hpc/igum002/codes/Hyperscanning2-redesign/data/EEG/raw_experimental_data/raw_combined_experimental_data/S09-averted_pre_right_left_point_combined_raw.fif\n",
      "[done]\n",
      "Writing /hpc/igum002/codes/Hyperscanning2-redesign/data/EEG/raw_experimental_data/raw_combined_experimental_data/S10-averted_pre_left_right_point_combined_raw.fif\n",
      "Closing /hpc/igum002/codes/Hyperscanning2-redesign/data/EEG/raw_experimental_data/raw_combined_experimental_data/S10-averted_pre_left_right_point_combined_raw.fif\n",
      "[done]\n"
     ]
    },
    {
     "name": "stderr",
     "output_type": "stream",
     "text": [
      "Combining pre averted...:  62%|██████████▋      | 10/16 [00:00<00:00, 10.55it/s]"
     ]
    },
    {
     "name": "stdout",
     "output_type": "stream",
     "text": [
      "Writing /hpc/igum002/codes/Hyperscanning2-redesign/data/EEG/raw_experimental_data/raw_combined_experimental_data/S11-averted_pre_right_left_point_combined_raw.fif\n",
      "Closing /hpc/igum002/codes/Hyperscanning2-redesign/data/EEG/raw_experimental_data/raw_combined_experimental_data/S11-averted_pre_right_left_point_combined_raw.fif\n",
      "[done]\n",
      "Writing /hpc/igum002/codes/Hyperscanning2-redesign/data/EEG/raw_experimental_data/raw_combined_experimental_data/S12-averted_pre_left_right_point_combined_raw.fif\n",
      "Closing /hpc/igum002/codes/Hyperscanning2-redesign/data/EEG/raw_experimental_data/raw_combined_experimental_data/S12-averted_pre_left_right_point_combined_raw.fif\n",
      "[done]\n"
     ]
    },
    {
     "name": "stderr",
     "output_type": "stream",
     "text": [
      "Combining pre averted...:  75%|████████████▊    | 12/16 [00:01<00:00,  9.79it/s]"
     ]
    },
    {
     "name": "stdout",
     "output_type": "stream",
     "text": [
      "Writing /hpc/igum002/codes/Hyperscanning2-redesign/data/EEG/raw_experimental_data/raw_combined_experimental_data/S13-averted_pre_right_left_point_combined_raw.fif\n",
      "Closing /hpc/igum002/codes/Hyperscanning2-redesign/data/EEG/raw_experimental_data/raw_combined_experimental_data/S13-averted_pre_right_left_point_combined_raw.fif\n",
      "[done]\n"
     ]
    },
    {
     "name": "stderr",
     "output_type": "stream",
     "text": [
      "Combining pre averted...:  81%|█████████████▊   | 13/16 [00:01<00:00,  9.51it/s]"
     ]
    },
    {
     "name": "stdout",
     "output_type": "stream",
     "text": [
      "Writing /hpc/igum002/codes/Hyperscanning2-redesign/data/EEG/raw_experimental_data/raw_combined_experimental_data/S14-averted_pre_left_right_point_combined_raw.fif\n",
      "Closing /hpc/igum002/codes/Hyperscanning2-redesign/data/EEG/raw_experimental_data/raw_combined_experimental_data/S14-averted_pre_left_right_point_combined_raw.fif\n",
      "[done]\n"
     ]
    },
    {
     "name": "stderr",
     "output_type": "stream",
     "text": [
      "Combining pre averted...:  88%|██████████████▉  | 14/16 [00:01<00:00,  9.24it/s]"
     ]
    },
    {
     "name": "stdout",
     "output_type": "stream",
     "text": [
      "Writing /hpc/igum002/codes/Hyperscanning2-redesign/data/EEG/raw_experimental_data/raw_combined_experimental_data/S15-averted_pre_right_left_point_combined_raw.fif\n",
      "Closing /hpc/igum002/codes/Hyperscanning2-redesign/data/EEG/raw_experimental_data/raw_combined_experimental_data/S15-averted_pre_right_left_point_combined_raw.fif\n",
      "[done]\n"
     ]
    },
    {
     "name": "stderr",
     "output_type": "stream",
     "text": [
      "Combining pre averted...:  94%|███████████████▉ | 15/16 [00:01<00:00,  9.07it/s]"
     ]
    },
    {
     "name": "stdout",
     "output_type": "stream",
     "text": [
      "Writing /hpc/igum002/codes/Hyperscanning2-redesign/data/EEG/raw_experimental_data/raw_combined_experimental_data/S16-averted_pre_left_right_point_combined_raw.fif\n",
      "Closing /hpc/igum002/codes/Hyperscanning2-redesign/data/EEG/raw_experimental_data/raw_combined_experimental_data/S16-averted_pre_left_right_point_combined_raw.fif\n",
      "[done]\n"
     ]
    },
    {
     "name": "stderr",
     "output_type": "stream",
     "text": [
      "Combining pre averted...: 100%|█████████████████| 16/16 [00:01<00:00,  9.77it/s]\n"
     ]
    }
   ],
   "source": [
    "\n",
    "for i in tqdm(range(16), desc=\"Combining pre averted...\"):  # type: ignore\n",
    "    # pre-averted\n",
    "    if i < 9:\n",
    "\n",
    "        averted_pre_right_odd_subject = mne.io.read_raw_fif(\n",
    "            \"EEG-S0\" + str(i + 1) + \"-averted_pre_right_point_raw.fif\", verbose=False\n",
    "        )\n",
    "        averted_pre_left_odd_subject = mne.io.read_raw_fif(\n",
    "            \"EEG-S0\" + str(i + 1) + \"-averted_pre_left_point_raw.fif\", verbose=False\n",
    "        )\n",
    "        \n",
    "        # Check if i (index in this looping) == EVEN number that takes ODD actual subject no, then labeling the file name of hand is RIGHT-LEFT\n",
    "        # For example, i = 0 actually takes S01 and keeps going...\n",
    "        if (i % 2) == 0 :\n",
    "        \n",
    "            averted_pre_files_to_combine = [\n",
    "                averted_pre_right_odd_subject,\n",
    "                averted_pre_left_odd_subject,\n",
    "            ]\n",
    "            combined_pre_averted_files = mne.concatenate_raws(averted_pre_files_to_combine)\n",
    "\n",
    "            combined_pre_averted_files_label = (\n",
    "                \"/hpc/igum002/codes/Hyperscanning2-redesign/data/EEG/raw_experimental_data/raw_combined_experimental_data/\"\n",
    "                + \"S0\"\n",
    "                + str(i + 1)\n",
    "                + \"-averted_pre_right_left_point_combined_raw.fif\"\n",
    "            )\n",
    "\n",
    "        # Check if i (index in this looping) == ODD number that takes EVEN actual subject no, then labeling the file name of hand is LEFT_RIGHT\n",
    "        # For example, i = 1 actually takes S02 and keeps going...\n",
    "\n",
    "        else:\n",
    "\n",
    "            averted_pre_files_to_combine = [ averted_pre_left_odd_subject, averted_pre_right_odd_subject]\n",
    "\n",
    "            combined_pre_averted_files = mne.concatenate_raws(averted_pre_files_to_combine)\n",
    "\n",
    "            combined_pre_averted_files_label = (\n",
    "                \"/hpc/igum002/codes/Hyperscanning2-redesign/data/EEG/raw_experimental_data/raw_combined_experimental_data/\"\n",
    "                + \"S0\"\n",
    "                + str(i + 1)\n",
    "                + \"-averted_pre_left_right_point_combined_raw.fif\"\n",
    "            )  \n",
    "\n",
    "        combined_pre_averted_files.save( # type: ignore\n",
    "            combined_pre_averted_files_label, overwrite=True\n",
    "        )\n",
    "\n",
    "    else:\n",
    "\n",
    "        averted_pre_right_odd_subject = mne.io.read_raw_fif(\"EEG-S\" + str(i + 1) + \"-averted_pre_right_point_raw.fif\", verbose=False)\n",
    "        averted_pre_left_odd_subject = mne.io.read_raw_fif(\"EEG-S\" + str(i + 1) + \"-averted_pre_left_point_raw.fif\", verbose=False)\n",
    "        averted_pre_files_to_combine = [averted_pre_right_odd_subject, averted_pre_left_odd_subject]\n",
    "        combined_pre_averted_files = mne.concatenate_raws(averted_pre_files_to_combine)\n",
    "        \n",
    "        # Check if i (index in this looping) == EVEN number that takes ODD actual subject no, then labeling the file name of hand is RIGHT-LEFT\n",
    "        # For example, i = 0 actually takes S01 and keeps going...\n",
    "        if (i % 2) == 0 :\n",
    "        \n",
    "            averted_pre_files_to_combine = [\n",
    "                averted_pre_right_odd_subject,\n",
    "                averted_pre_left_odd_subject,\n",
    "            ]\n",
    "            combined_pre_averted_files = mne.concatenate_raws(averted_pre_files_to_combine)\n",
    "\n",
    "            combined_pre_averted_files_label = (\n",
    "                \"/hpc/igum002/codes/Hyperscanning2-redesign/data/EEG/raw_experimental_data/raw_combined_experimental_data/\"\n",
    "                + \"S\"\n",
    "                + str(i + 1)\n",
    "                + \"-averted_pre_right_left_point_combined_raw.fif\"\n",
    "            )\n",
    "\n",
    "        # Check if i (index in this looping) == ODD number that takes EVEN actual subject no, then labeling the file name of hand is LEFT_RIGHT\n",
    "        # For example, i = 1 actually takes S02 and keeps going...\n",
    "\n",
    "        else:\n",
    "\n",
    "            averted_pre_files_to_combine = [ averted_pre_left_odd_subject, averted_pre_right_odd_subject]\n",
    "\n",
    "            combined_pre_averted_files = mne.concatenate_raws(averted_pre_files_to_combine)\n",
    "\n",
    "            combined_pre_averted_files_label = (\n",
    "                \"/hpc/igum002/codes/Hyperscanning2-redesign/data/EEG/raw_experimental_data/raw_combined_experimental_data/\"\n",
    "                + \"S\"\n",
    "                + str(i + 1)\n",
    "                + \"-averted_pre_left_right_point_combined_raw.fif\"\n",
    "            )  \n",
    "\n",
    "        combined_pre_averted_files.save( # type: ignore\n",
    "            combined_pre_averted_files_label, overwrite=True)"
   ]
  },
  {
   "cell_type": "markdown",
   "metadata": {},
   "source": [
    "#### Combine post averted experimental"
   ]
  },
  {
   "cell_type": "code",
   "execution_count": 57,
   "metadata": {},
   "outputs": [
    {
     "name": "stderr",
     "output_type": "stream",
     "text": [
      "Combining post averted...:   0%|                         | 0/16 [00:00<?, ?it/s]"
     ]
    },
    {
     "name": "stdout",
     "output_type": "stream",
     "text": [
      "Writing /hpc/igum002/codes/Hyperscanning2-redesign/data/EEG/raw_experimental_data/raw_combined_experimental_data/S01-averted_post_right_left_point_combined_raw.fif\n",
      "Closing /hpc/igum002/codes/Hyperscanning2-redesign/data/EEG/raw_experimental_data/raw_combined_experimental_data/S01-averted_post_right_left_point_combined_raw.fif\n",
      "[done]\n",
      "Writing /hpc/igum002/codes/Hyperscanning2-redesign/data/EEG/raw_experimental_data/raw_combined_experimental_data/S02-averted_post_left_right_point_combined_raw.fif\n",
      "Closing /hpc/igum002/codes/Hyperscanning2-redesign/data/EEG/raw_experimental_data/raw_combined_experimental_data/S02-averted_post_left_right_point_combined_raw.fif\n",
      "[done]\n"
     ]
    },
    {
     "name": "stderr",
     "output_type": "stream",
     "text": [
      "Combining post averted...:  12%|██▏              | 2/16 [00:00<00:01, 10.94it/s]"
     ]
    },
    {
     "name": "stdout",
     "output_type": "stream",
     "text": [
      "Writing /hpc/igum002/codes/Hyperscanning2-redesign/data/EEG/raw_experimental_data/raw_combined_experimental_data/S03-averted_post_right_left_point_combined_raw.fif\n",
      "Closing /hpc/igum002/codes/Hyperscanning2-redesign/data/EEG/raw_experimental_data/raw_combined_experimental_data/S03-averted_post_right_left_point_combined_raw.fif\n",
      "[done]\n",
      "Writing /hpc/igum002/codes/Hyperscanning2-redesign/data/EEG/raw_experimental_data/raw_combined_experimental_data/S04-averted_post_left_right_point_combined_raw.fif\n",
      "Closing /hpc/igum002/codes/Hyperscanning2-redesign/data/EEG/raw_experimental_data/raw_combined_experimental_data/S04-averted_post_left_right_point_combined_raw.fif\n",
      "[done]\n"
     ]
    },
    {
     "name": "stderr",
     "output_type": "stream",
     "text": [
      "Combining post averted...:  25%|████▎            | 4/16 [00:00<00:01, 11.29it/s]"
     ]
    },
    {
     "name": "stdout",
     "output_type": "stream",
     "text": [
      "Writing /hpc/igum002/codes/Hyperscanning2-redesign/data/EEG/raw_experimental_data/raw_combined_experimental_data/S05-averted_post_right_left_point_combined_raw.fif\n",
      "Closing /hpc/igum002/codes/Hyperscanning2-redesign/data/EEG/raw_experimental_data/raw_combined_experimental_data/S05-averted_post_right_left_point_combined_raw.fif\n",
      "[done]\n",
      "Writing /hpc/igum002/codes/Hyperscanning2-redesign/data/EEG/raw_experimental_data/raw_combined_experimental_data/S06-averted_post_left_right_point_combined_raw.fif\n",
      "Closing /hpc/igum002/codes/Hyperscanning2-redesign/data/EEG/raw_experimental_data/raw_combined_experimental_data/S06-averted_post_left_right_point_combined_raw.fif\n",
      "[done]\n"
     ]
    },
    {
     "name": "stderr",
     "output_type": "stream",
     "text": [
      "Combining post averted...:  38%|██████▍          | 6/16 [00:00<00:00, 11.46it/s]"
     ]
    },
    {
     "name": "stdout",
     "output_type": "stream",
     "text": [
      "Writing /hpc/igum002/codes/Hyperscanning2-redesign/data/EEG/raw_experimental_data/raw_combined_experimental_data/S07-averted_post_right_left_point_combined_raw.fif\n",
      "Closing /hpc/igum002/codes/Hyperscanning2-redesign/data/EEG/raw_experimental_data/raw_combined_experimental_data/S07-averted_post_right_left_point_combined_raw.fif\n",
      "[done]\n",
      "Writing /hpc/igum002/codes/Hyperscanning2-redesign/data/EEG/raw_experimental_data/raw_combined_experimental_data/S08-averted_post_left_right_point_combined_raw.fif\n",
      "Closing /hpc/igum002/codes/Hyperscanning2-redesign/data/EEG/raw_experimental_data/raw_combined_experimental_data/S08-averted_post_left_right_point_combined_raw.fif\n",
      "[done]\n"
     ]
    },
    {
     "name": "stderr",
     "output_type": "stream",
     "text": [
      "Combining post averted...:  50%|████████▌        | 8/16 [00:00<00:00, 11.52it/s]"
     ]
    },
    {
     "name": "stdout",
     "output_type": "stream",
     "text": [
      "Writing /hpc/igum002/codes/Hyperscanning2-redesign/data/EEG/raw_experimental_data/raw_combined_experimental_data/S09-averted_post_right_left_point_combined_raw.fif\n",
      "Closing /hpc/igum002/codes/Hyperscanning2-redesign/data/EEG/raw_experimental_data/raw_combined_experimental_data/S09-averted_post_right_left_point_combined_raw.fif\n",
      "[done]\n",
      "Writing /hpc/igum002/codes/Hyperscanning2-redesign/data/EEG/raw_experimental_data/raw_combined_experimental_data/S10-averted_post_left_right_point_combined_raw.fif\n",
      "Closing /hpc/igum002/codes/Hyperscanning2-redesign/data/EEG/raw_experimental_data/raw_combined_experimental_data/S10-averted_post_left_right_point_combined_raw.fif\n",
      "[done]\n"
     ]
    },
    {
     "name": "stderr",
     "output_type": "stream",
     "text": [
      "Combining post averted...:  62%|██████████      | 10/16 [00:00<00:00, 10.92it/s]"
     ]
    },
    {
     "name": "stdout",
     "output_type": "stream",
     "text": [
      "Writing /hpc/igum002/codes/Hyperscanning2-redesign/data/EEG/raw_experimental_data/raw_combined_experimental_data/S11-averted_post_right_left_point_combined_raw.fif\n",
      "Closing /hpc/igum002/codes/Hyperscanning2-redesign/data/EEG/raw_experimental_data/raw_combined_experimental_data/S11-averted_post_right_left_point_combined_raw.fif\n",
      "[done]\n",
      "Writing /hpc/igum002/codes/Hyperscanning2-redesign/data/EEG/raw_experimental_data/raw_combined_experimental_data/S12-averted_post_left_right_point_combined_raw.fif\n",
      "Closing /hpc/igum002/codes/Hyperscanning2-redesign/data/EEG/raw_experimental_data/raw_combined_experimental_data/S12-averted_post_left_right_point_combined_raw.fif\n",
      "[done]\n"
     ]
    },
    {
     "name": "stderr",
     "output_type": "stream",
     "text": [
      "Combining post averted...:  75%|████████████    | 12/16 [00:01<00:00, 10.08it/s]"
     ]
    },
    {
     "name": "stdout",
     "output_type": "stream",
     "text": [
      "Writing /hpc/igum002/codes/Hyperscanning2-redesign/data/EEG/raw_experimental_data/raw_combined_experimental_data/S13-averted_post_right_left_point_combined_raw.fif\n",
      "Closing /hpc/igum002/codes/Hyperscanning2-redesign/data/EEG/raw_experimental_data/raw_combined_experimental_data/S13-averted_post_right_left_point_combined_raw.fif\n",
      "[done]\n",
      "Writing /hpc/igum002/codes/Hyperscanning2-redesign/data/EEG/raw_experimental_data/raw_combined_experimental_data/S14-averted_post_left_right_point_combined_raw.fif\n",
      "Closing /hpc/igum002/codes/Hyperscanning2-redesign/data/EEG/raw_experimental_data/raw_combined_experimental_data/S14-averted_post_left_right_point_combined_raw.fif\n",
      "[done]\n"
     ]
    },
    {
     "name": "stderr",
     "output_type": "stream",
     "text": [
      "Combining post averted...:  88%|██████████████  | 14/16 [00:01<00:00,  9.62it/s]"
     ]
    },
    {
     "name": "stdout",
     "output_type": "stream",
     "text": [
      "Writing /hpc/igum002/codes/Hyperscanning2-redesign/data/EEG/raw_experimental_data/raw_combined_experimental_data/S15-averted_post_right_left_point_combined_raw.fif\n",
      "Closing /hpc/igum002/codes/Hyperscanning2-redesign/data/EEG/raw_experimental_data/raw_combined_experimental_data/S15-averted_post_right_left_point_combined_raw.fif\n",
      "[done]\n"
     ]
    },
    {
     "name": "stderr",
     "output_type": "stream",
     "text": [
      "Combining post averted...:  94%|███████████████ | 15/16 [00:01<00:00,  9.42it/s]"
     ]
    },
    {
     "name": "stdout",
     "output_type": "stream",
     "text": [
      "Writing /hpc/igum002/codes/Hyperscanning2-redesign/data/EEG/raw_experimental_data/raw_combined_experimental_data/S16-averted_post_left_right_point_combined_raw.fif\n",
      "Closing /hpc/igum002/codes/Hyperscanning2-redesign/data/EEG/raw_experimental_data/raw_combined_experimental_data/S16-averted_post_left_right_point_combined_raw.fif\n",
      "[done]\n"
     ]
    },
    {
     "name": "stderr",
     "output_type": "stream",
     "text": [
      "Combining post averted...: 100%|████████████████| 16/16 [00:01<00:00, 10.08it/s]\n"
     ]
    }
   ],
   "source": [
    "\n",
    "for i in tqdm(range(16), desc=\"Combining post averted...\"):  # type: ignore\n",
    "    # post-averted\n",
    "    if i < 9:\n",
    "\n",
    "        averted_post_right_odd_subject = mne.io.read_raw_fif(\n",
    "            \"EEG-S0\" + str(i + 1) + \"-averted_post_right_point_raw.fif\", verbose=False\n",
    "        )\n",
    "        averted_post_left_odd_subject = mne.io.read_raw_fif(\n",
    "            \"EEG-S0\" + str(i + 1) + \"-averted_post_left_point_raw.fif\", verbose=False\n",
    "        )\n",
    "        \n",
    "        # Check if i (index in this looping) == EVEN number that takes ODD actual subject no, then labeling the file name of hand is RIGHT-LEFT\n",
    "        # For example, i = 0 actually takes S01 and keeps going...\n",
    "        if (i % 2) == 0 :\n",
    "        \n",
    "            averted_post_files_to_combine = [\n",
    "                averted_post_right_odd_subject,\n",
    "                averted_post_left_odd_subject,\n",
    "            ]\n",
    "            combined_post_averted_files = mne.concatenate_raws(averted_post_files_to_combine)\n",
    "\n",
    "            combined_post_averted_files_label = (\n",
    "                \"/hpc/igum002/codes/Hyperscanning2-redesign/data/EEG/raw_experimental_data/raw_combined_experimental_data/\"\n",
    "                + \"S0\"\n",
    "                + str(i + 1)\n",
    "                + \"-averted_post_right_left_point_combined_raw.fif\"\n",
    "            )\n",
    "\n",
    "        # Check if i (index in this looping) == ODD number that takes EVEN actual subject no, then labeling the file name of hand is LEFT_RIGHT\n",
    "        # For example, i = 1 actually takes S02 and keeps going...\n",
    "\n",
    "        else:\n",
    "\n",
    "            averted_post_files_to_combine = [ averted_post_left_odd_subject, averted_post_right_odd_subject]\n",
    "\n",
    "            combined_post_averted_files = mne.concatenate_raws(averted_post_files_to_combine)\n",
    "\n",
    "            combined_post_averted_files_label = (\n",
    "                \"/hpc/igum002/codes/Hyperscanning2-redesign/data/EEG/raw_experimental_data/raw_combined_experimental_data/\"\n",
    "                + \"S0\"\n",
    "                + str(i + 1)\n",
    "                + \"-averted_post_left_right_point_combined_raw.fif\"\n",
    "            )  \n",
    "\n",
    "        combined_post_averted_files.save( # type: ignore\n",
    "            combined_post_averted_files_label, overwrite=True\n",
    "        )\n",
    "\n",
    "    else:\n",
    "\n",
    "        averted_post_right_odd_subject = mne.io.read_raw_fif(\"EEG-S\" + str(i + 1) + \"-averted_post_right_point_raw.fif\", verbose=False)\n",
    "        averted_post_left_odd_subject = mne.io.read_raw_fif(\"EEG-S\" + str(i + 1) + \"-averted_post_left_point_raw.fif\", verbose=False)\n",
    "        averted_post_files_to_combine = [averted_post_right_odd_subject, averted_post_left_odd_subject]\n",
    "        combined_post_averted_files = mne.concatenate_raws(averted_post_files_to_combine)\n",
    "        \n",
    "        # Check if i (index in this looping) == EVEN number that takes ODD actual subject no, then labeling the file name of hand is RIGHT-LEFT\n",
    "        # For example, i = 0 actually takes S01 and keeps going...\n",
    "        if (i % 2) == 0 :\n",
    "        \n",
    "            averted_post_files_to_combine = [\n",
    "                averted_post_right_odd_subject,\n",
    "                averted_post_left_odd_subject,\n",
    "            ]\n",
    "            combined_post_averted_files = mne.concatenate_raws(averted_post_files_to_combine)\n",
    "\n",
    "            combined_post_averted_files_label = (\n",
    "                \"/hpc/igum002/codes/Hyperscanning2-redesign/data/EEG/raw_experimental_data/raw_combined_experimental_data/\"\n",
    "                + \"S\"\n",
    "                + str(i + 1)\n",
    "                + \"-averted_post_right_left_point_combined_raw.fif\"\n",
    "            )\n",
    "\n",
    "        # Check if i (index in this looping) == ODD number that takes EVEN actual subject no, then labeling the file name of hand is LEFT_RIGHT\n",
    "        # For example, i = 1 actually takes S02 and keeps going...\n",
    "\n",
    "        else:\n",
    "\n",
    "            averted_post_files_to_combine = [ averted_post_left_odd_subject, averted_post_right_odd_subject]\n",
    "\n",
    "            combined_post_averted_files = mne.concatenate_raws(averted_post_files_to_combine)\n",
    "\n",
    "            combined_post_averted_files_label = (\n",
    "                \"/hpc/igum002/codes/Hyperscanning2-redesign/data/EEG/raw_experimental_data/raw_combined_experimental_data/\"\n",
    "                + \"S\"\n",
    "                + str(i + 1)\n",
    "                + \"-averted_post_left_right_point_combined_raw.fif\"\n",
    "            )  \n",
    "\n",
    "        combined_post_averted_files.save( # type: ignore\n",
    "            combined_post_averted_files_label, overwrite=True)"
   ]
  },
  {
   "cell_type": "markdown",
   "metadata": {},
   "source": [
    "#### Combine pre direct experimental"
   ]
  },
  {
   "cell_type": "code",
   "execution_count": 58,
   "metadata": {},
   "outputs": [
    {
     "name": "stderr",
     "output_type": "stream",
     "text": [
      "Combining pre direct...:   0%|                           | 0/16 [00:00<?, ?it/s]"
     ]
    },
    {
     "name": "stdout",
     "output_type": "stream",
     "text": [
      "Writing /hpc/igum002/codes/Hyperscanning2-redesign/data/EEG/raw_experimental_data/raw_combined_experimental_data/S01-direct_pre_right_left_point_combined_raw.fif\n",
      "Closing /hpc/igum002/codes/Hyperscanning2-redesign/data/EEG/raw_experimental_data/raw_combined_experimental_data/S01-direct_pre_right_left_point_combined_raw.fif\n",
      "[done]\n"
     ]
    },
    {
     "name": "stderr",
     "output_type": "stream",
     "text": [
      "Combining pre direct...:   6%|█▏                 | 1/16 [00:00<00:01,  9.45it/s]"
     ]
    },
    {
     "name": "stdout",
     "output_type": "stream",
     "text": [
      "Writing /hpc/igum002/codes/Hyperscanning2-redesign/data/EEG/raw_experimental_data/raw_combined_experimental_data/S02-direct_pre_left_right_point_combined_raw.fif\n",
      "Closing /hpc/igum002/codes/Hyperscanning2-redesign/data/EEG/raw_experimental_data/raw_combined_experimental_data/S02-direct_pre_left_right_point_combined_raw.fif\n",
      "[done]\n",
      "Writing /hpc/igum002/codes/Hyperscanning2-redesign/data/EEG/raw_experimental_data/raw_combined_experimental_data/S03-direct_pre_right_left_point_combined_raw.fif\n",
      "Closing /hpc/igum002/codes/Hyperscanning2-redesign/data/EEG/raw_experimental_data/raw_combined_experimental_data/S03-direct_pre_right_left_point_combined_raw.fif\n",
      "[done]\n"
     ]
    },
    {
     "name": "stderr",
     "output_type": "stream",
     "text": [
      "Combining pre direct...:  19%|███▌               | 3/16 [00:00<00:01, 10.43it/s]"
     ]
    },
    {
     "name": "stdout",
     "output_type": "stream",
     "text": [
      "Writing /hpc/igum002/codes/Hyperscanning2-redesign/data/EEG/raw_experimental_data/raw_combined_experimental_data/S04-direct_pre_left_right_point_combined_raw.fif\n",
      "Closing /hpc/igum002/codes/Hyperscanning2-redesign/data/EEG/raw_experimental_data/raw_combined_experimental_data/S04-direct_pre_left_right_point_combined_raw.fif\n",
      "[done]\n",
      "Writing /hpc/igum002/codes/Hyperscanning2-redesign/data/EEG/raw_experimental_data/raw_combined_experimental_data/S05-direct_pre_right_left_point_combined_raw.fif\n",
      "Closing /hpc/igum002/codes/Hyperscanning2-redesign/data/EEG/raw_experimental_data/raw_combined_experimental_data/S05-direct_pre_right_left_point_combined_raw.fif\n",
      "[done]\n"
     ]
    },
    {
     "name": "stderr",
     "output_type": "stream",
     "text": [
      "Combining pre direct...:  31%|█████▉             | 5/16 [00:00<00:01, 10.35it/s]"
     ]
    },
    {
     "name": "stdout",
     "output_type": "stream",
     "text": [
      "Writing /hpc/igum002/codes/Hyperscanning2-redesign/data/EEG/raw_experimental_data/raw_combined_experimental_data/S06-direct_pre_left_right_point_combined_raw.fif\n",
      "Closing /hpc/igum002/codes/Hyperscanning2-redesign/data/EEG/raw_experimental_data/raw_combined_experimental_data/S06-direct_pre_left_right_point_combined_raw.fif\n",
      "[done]\n",
      "Writing /hpc/igum002/codes/Hyperscanning2-redesign/data/EEG/raw_experimental_data/raw_combined_experimental_data/S07-direct_pre_right_left_point_combined_raw.fif\n",
      "Closing /hpc/igum002/codes/Hyperscanning2-redesign/data/EEG/raw_experimental_data/raw_combined_experimental_data/S07-direct_pre_right_left_point_combined_raw.fif\n",
      "[done]\n"
     ]
    },
    {
     "name": "stderr",
     "output_type": "stream",
     "text": [
      "Combining pre direct...:  44%|████████▎          | 7/16 [00:00<00:00, 10.53it/s]"
     ]
    },
    {
     "name": "stdout",
     "output_type": "stream",
     "text": [
      "Writing /hpc/igum002/codes/Hyperscanning2-redesign/data/EEG/raw_experimental_data/raw_combined_experimental_data/S08-direct_pre_left_right_point_combined_raw.fif\n",
      "Closing /hpc/igum002/codes/Hyperscanning2-redesign/data/EEG/raw_experimental_data/raw_combined_experimental_data/S08-direct_pre_left_right_point_combined_raw.fif\n",
      "[done]\n",
      "Writing /hpc/igum002/codes/Hyperscanning2-redesign/data/EEG/raw_experimental_data/raw_combined_experimental_data/S09-direct_pre_right_left_point_combined_raw.fif\n",
      "Closing /hpc/igum002/codes/Hyperscanning2-redesign/data/EEG/raw_experimental_data/raw_combined_experimental_data/S09-direct_pre_right_left_point_combined_raw.fif\n",
      "[done]\n"
     ]
    },
    {
     "name": "stderr",
     "output_type": "stream",
     "text": [
      "Combining pre direct...:  56%|██████████▋        | 9/16 [00:00<00:00, 10.77it/s]"
     ]
    },
    {
     "name": "stdout",
     "output_type": "stream",
     "text": [
      "Writing /hpc/igum002/codes/Hyperscanning2-redesign/data/EEG/raw_experimental_data/raw_combined_experimental_data/S10-direct_pre_left_right_point_combined_raw.fif\n",
      "Closing /hpc/igum002/codes/Hyperscanning2-redesign/data/EEG/raw_experimental_data/raw_combined_experimental_data/S10-direct_pre_left_right_point_combined_raw.fif\n",
      "[done]\n",
      "Writing /hpc/igum002/codes/Hyperscanning2-redesign/data/EEG/raw_experimental_data/raw_combined_experimental_data/S11-direct_pre_right_left_point_combined_raw.fif\n",
      "Closing /hpc/igum002/codes/Hyperscanning2-redesign/data/EEG/raw_experimental_data/raw_combined_experimental_data/S11-direct_pre_right_left_point_combined_raw.fif\n",
      "[done]\n"
     ]
    },
    {
     "name": "stderr",
     "output_type": "stream",
     "text": [
      "Combining pre direct...:  69%|████████████▍     | 11/16 [00:01<00:00,  9.75it/s]"
     ]
    },
    {
     "name": "stdout",
     "output_type": "stream",
     "text": [
      "Writing /hpc/igum002/codes/Hyperscanning2-redesign/data/EEG/raw_experimental_data/raw_combined_experimental_data/S12-direct_pre_left_right_point_combined_raw.fif\n",
      "Closing /hpc/igum002/codes/Hyperscanning2-redesign/data/EEG/raw_experimental_data/raw_combined_experimental_data/S12-direct_pre_left_right_point_combined_raw.fif\n",
      "[done]\n"
     ]
    },
    {
     "name": "stderr",
     "output_type": "stream",
     "text": [
      "Combining pre direct...:  75%|█████████████▌    | 12/16 [00:01<00:00,  9.41it/s]"
     ]
    },
    {
     "name": "stdout",
     "output_type": "stream",
     "text": [
      "Writing /hpc/igum002/codes/Hyperscanning2-redesign/data/EEG/raw_experimental_data/raw_combined_experimental_data/S13-direct_pre_right_left_point_combined_raw.fif\n",
      "Closing /hpc/igum002/codes/Hyperscanning2-redesign/data/EEG/raw_experimental_data/raw_combined_experimental_data/S13-direct_pre_right_left_point_combined_raw.fif\n",
      "[done]\n"
     ]
    },
    {
     "name": "stderr",
     "output_type": "stream",
     "text": [
      "Combining pre direct...:  81%|██████████████▋   | 13/16 [00:01<00:00,  9.12it/s]"
     ]
    },
    {
     "name": "stdout",
     "output_type": "stream",
     "text": [
      "Writing /hpc/igum002/codes/Hyperscanning2-redesign/data/EEG/raw_experimental_data/raw_combined_experimental_data/S14-direct_pre_left_right_point_combined_raw.fif\n",
      "Closing /hpc/igum002/codes/Hyperscanning2-redesign/data/EEG/raw_experimental_data/raw_combined_experimental_data/S14-direct_pre_left_right_point_combined_raw.fif\n",
      "[done]\n"
     ]
    },
    {
     "name": "stderr",
     "output_type": "stream",
     "text": [
      "Combining pre direct...:  88%|███████████████▊  | 14/16 [00:01<00:00,  8.85it/s]"
     ]
    },
    {
     "name": "stdout",
     "output_type": "stream",
     "text": [
      "Writing /hpc/igum002/codes/Hyperscanning2-redesign/data/EEG/raw_experimental_data/raw_combined_experimental_data/S15-direct_pre_right_left_point_combined_raw.fif\n",
      "Closing /hpc/igum002/codes/Hyperscanning2-redesign/data/EEG/raw_experimental_data/raw_combined_experimental_data/S15-direct_pre_right_left_point_combined_raw.fif\n",
      "[done]\n"
     ]
    },
    {
     "name": "stderr",
     "output_type": "stream",
     "text": [
      "Combining pre direct...:  94%|████████████████▉ | 15/16 [00:01<00:00,  8.69it/s]"
     ]
    },
    {
     "name": "stdout",
     "output_type": "stream",
     "text": [
      "Writing /hpc/igum002/codes/Hyperscanning2-redesign/data/EEG/raw_experimental_data/raw_combined_experimental_data/S16-direct_pre_left_right_point_combined_raw.fif\n",
      "Closing /hpc/igum002/codes/Hyperscanning2-redesign/data/EEG/raw_experimental_data/raw_combined_experimental_data/S16-direct_pre_left_right_point_combined_raw.fif\n",
      "[done]\n"
     ]
    },
    {
     "name": "stderr",
     "output_type": "stream",
     "text": [
      "Combining pre direct...: 100%|██████████████████| 16/16 [00:01<00:00,  9.42it/s]\n"
     ]
    }
   ],
   "source": [
    "\n",
    "for i in tqdm(range(16), desc=\"Combining pre direct...\"):  # type: ignore\n",
    "    # pre-direct\n",
    "    if i < 9:\n",
    "\n",
    "        direct_pre_right_odd_subject = mne.io.read_raw_fif(\n",
    "            \"EEG-S0\" + str(i + 1) + \"-direct_pre_right_point_raw.fif\", verbose=False\n",
    "        )\n",
    "        direct_pre_left_odd_subject = mne.io.read_raw_fif(\n",
    "            \"EEG-S0\" + str(i + 1) + \"-direct_pre_left_point_raw.fif\", verbose=False\n",
    "        )\n",
    "        \n",
    "        # Check if i (index in this looping) == EVEN number that takes ODD actual subject no, then labeling the file name of hand is RIGHT-LEFT\n",
    "        # For example, i = 0 actually takes S01 and keeps going...\n",
    "        if (i % 2) == 0 :\n",
    "        \n",
    "            direct_pre_files_to_combine = [\n",
    "                direct_pre_right_odd_subject,\n",
    "                direct_pre_left_odd_subject,\n",
    "            ]\n",
    "            combined_pre_direct_files = mne.concatenate_raws(direct_pre_files_to_combine)\n",
    "\n",
    "            combined_pre_direct_files_label = (\n",
    "                \"/hpc/igum002/codes/Hyperscanning2-redesign/data/EEG/raw_experimental_data/raw_combined_experimental_data/\"\n",
    "                + \"S0\"\n",
    "                + str(i + 1)\n",
    "                + \"-direct_pre_right_left_point_combined_raw.fif\"\n",
    "            )\n",
    "\n",
    "        # Check if i (index in this looping) == ODD number that takes EVEN actual subject no, then labeling the file name of hand is LEFT_RIGHT\n",
    "        # For example, i = 1 actually takes S02 and keeps going...\n",
    "\n",
    "        else:\n",
    "\n",
    "            direct_pre_files_to_combine = [ direct_pre_left_odd_subject, direct_pre_right_odd_subject]\n",
    "\n",
    "            combined_pre_direct_files = mne.concatenate_raws(direct_pre_files_to_combine)\n",
    "\n",
    "            combined_pre_direct_files_label = (\n",
    "                \"/hpc/igum002/codes/Hyperscanning2-redesign/data/EEG/raw_experimental_data/raw_combined_experimental_data/\"\n",
    "                + \"S0\"\n",
    "                + str(i + 1)\n",
    "                + \"-direct_pre_left_right_point_combined_raw.fif\"\n",
    "            )  \n",
    "\n",
    "        combined_pre_direct_files.save( # type: ignore\n",
    "            combined_pre_direct_files_label, overwrite=True\n",
    "        )\n",
    "\n",
    "    else:\n",
    "\n",
    "        direct_pre_right_odd_subject = mne.io.read_raw_fif(\"EEG-S\" + str(i + 1) + \"-direct_pre_right_point_raw.fif\", verbose=False)\n",
    "        direct_pre_left_odd_subject = mne.io.read_raw_fif(\"EEG-S\" + str(i + 1) + \"-direct_pre_left_point_raw.fif\", verbose=False)\n",
    "        direct_pre_files_to_combine = [direct_pre_right_odd_subject, direct_pre_left_odd_subject]\n",
    "        combined_pre_direct_files = mne.concatenate_raws(direct_pre_files_to_combine)\n",
    "        \n",
    "        # Check if i (index in this looping) == EVEN number that takes ODD actual subject no, then labeling the file name of hand is RIGHT-LEFT\n",
    "        # For example, i = 0 actually takes S01 and keeps going...\n",
    "        if (i % 2) == 0 :\n",
    "        \n",
    "            direct_pre_files_to_combine = [\n",
    "                direct_pre_right_odd_subject,\n",
    "                direct_pre_left_odd_subject,\n",
    "            ]\n",
    "            combined_pre_direct_files = mne.concatenate_raws(direct_pre_files_to_combine)\n",
    "\n",
    "            combined_pre_direct_files_label = (\n",
    "                \"/hpc/igum002/codes/Hyperscanning2-redesign/data/EEG/raw_experimental_data/raw_combined_experimental_data/\"\n",
    "                + \"S\"\n",
    "                + str(i + 1)\n",
    "                + \"-direct_pre_right_left_point_combined_raw.fif\"\n",
    "            )\n",
    "\n",
    "        # Check if i (index in this looping) == ODD number that takes EVEN actual subject no, then labeling the file name of hand is LEFT_RIGHT\n",
    "        # For example, i = 1 actually takes S02 and keeps going...\n",
    "\n",
    "        else:\n",
    "\n",
    "            direct_pre_files_to_combine = [ direct_pre_left_odd_subject, direct_pre_right_odd_subject]\n",
    "\n",
    "            combined_pre_direct_files = mne.concatenate_raws(direct_pre_files_to_combine)\n",
    "\n",
    "            combined_pre_direct_files_label = (\n",
    "                \"/hpc/igum002/codes/Hyperscanning2-redesign/data/EEG/raw_experimental_data/raw_combined_experimental_data/\"\n",
    "                + \"S\"\n",
    "                + str(i + 1)\n",
    "                + \"-direct_pre_left_right_point_combined_raw.fif\"\n",
    "            )  \n",
    "\n",
    "        combined_pre_direct_files.save( # type: ignore\n",
    "            combined_pre_direct_files_label, overwrite=True)"
   ]
  },
  {
   "cell_type": "markdown",
   "metadata": {},
   "source": [
    "#### Combine post direct experimental"
   ]
  },
  {
   "cell_type": "code",
   "execution_count": 59,
   "metadata": {},
   "outputs": [
    {
     "name": "stderr",
     "output_type": "stream",
     "text": [
      "Combining post direct...:   0%|                          | 0/16 [00:00<?, ?it/s]"
     ]
    },
    {
     "name": "stdout",
     "output_type": "stream",
     "text": [
      "Writing /hpc/igum002/codes/Hyperscanning2-redesign/data/EEG/raw_experimental_data/raw_combined_experimental_data/S01-direct_post_right_left_point_combined_raw.fif\n",
      "Closing /hpc/igum002/codes/Hyperscanning2-redesign/data/EEG/raw_experimental_data/raw_combined_experimental_data/S01-direct_post_right_left_point_combined_raw.fif\n",
      "[done]\n"
     ]
    },
    {
     "name": "stderr",
     "output_type": "stream",
     "text": [
      "Combining post direct...:   6%|█▏                | 1/16 [00:00<00:01,  9.91it/s]"
     ]
    },
    {
     "name": "stdout",
     "output_type": "stream",
     "text": [
      "Writing /hpc/igum002/codes/Hyperscanning2-redesign/data/EEG/raw_experimental_data/raw_combined_experimental_data/S02-direct_post_left_right_point_combined_raw.fif\n",
      "Closing /hpc/igum002/codes/Hyperscanning2-redesign/data/EEG/raw_experimental_data/raw_combined_experimental_data/S02-direct_post_left_right_point_combined_raw.fif\n",
      "[done]\n",
      "Writing /hpc/igum002/codes/Hyperscanning2-redesign/data/EEG/raw_experimental_data/raw_combined_experimental_data/S03-direct_post_right_left_point_combined_raw.fif\n",
      "Closing /hpc/igum002/codes/Hyperscanning2-redesign/data/EEG/raw_experimental_data/raw_combined_experimental_data/S03-direct_post_right_left_point_combined_raw.fif\n",
      "[done]\n"
     ]
    },
    {
     "name": "stderr",
     "output_type": "stream",
     "text": [
      "Combining post direct...:  19%|███▍              | 3/16 [00:00<00:01, 10.54it/s]"
     ]
    },
    {
     "name": "stdout",
     "output_type": "stream",
     "text": [
      "Writing /hpc/igum002/codes/Hyperscanning2-redesign/data/EEG/raw_experimental_data/raw_combined_experimental_data/S04-direct_post_left_right_point_combined_raw.fif\n",
      "Closing /hpc/igum002/codes/Hyperscanning2-redesign/data/EEG/raw_experimental_data/raw_combined_experimental_data/S04-direct_post_left_right_point_combined_raw.fif\n",
      "[done]\n",
      "Writing /hpc/igum002/codes/Hyperscanning2-redesign/data/EEG/raw_experimental_data/raw_combined_experimental_data/S05-direct_post_right_left_point_combined_raw.fif\n",
      "Closing /hpc/igum002/codes/Hyperscanning2-redesign/data/EEG/raw_experimental_data/raw_combined_experimental_data/S05-direct_post_right_left_point_combined_raw.fif\n",
      "[done]\n"
     ]
    },
    {
     "name": "stderr",
     "output_type": "stream",
     "text": [
      "Combining post direct...:  31%|█████▋            | 5/16 [00:00<00:01, 10.58it/s]"
     ]
    },
    {
     "name": "stdout",
     "output_type": "stream",
     "text": [
      "Writing /hpc/igum002/codes/Hyperscanning2-redesign/data/EEG/raw_experimental_data/raw_combined_experimental_data/S06-direct_post_left_right_point_combined_raw.fif\n",
      "Closing /hpc/igum002/codes/Hyperscanning2-redesign/data/EEG/raw_experimental_data/raw_combined_experimental_data/S06-direct_post_left_right_point_combined_raw.fif\n",
      "[done]\n",
      "Writing /hpc/igum002/codes/Hyperscanning2-redesign/data/EEG/raw_experimental_data/raw_combined_experimental_data/S07-direct_post_right_left_point_combined_raw.fif\n",
      "Closing /hpc/igum002/codes/Hyperscanning2-redesign/data/EEG/raw_experimental_data/raw_combined_experimental_data/S07-direct_post_right_left_point_combined_raw.fif\n",
      "[done]\n"
     ]
    },
    {
     "name": "stderr",
     "output_type": "stream",
     "text": [
      "Combining post direct...:  44%|███████▉          | 7/16 [00:00<00:00, 10.71it/s]"
     ]
    },
    {
     "name": "stdout",
     "output_type": "stream",
     "text": [
      "Writing /hpc/igum002/codes/Hyperscanning2-redesign/data/EEG/raw_experimental_data/raw_combined_experimental_data/S08-direct_post_left_right_point_combined_raw.fif\n",
      "Closing /hpc/igum002/codes/Hyperscanning2-redesign/data/EEG/raw_experimental_data/raw_combined_experimental_data/S08-direct_post_left_right_point_combined_raw.fif\n",
      "[done]\n",
      "Writing /hpc/igum002/codes/Hyperscanning2-redesign/data/EEG/raw_experimental_data/raw_combined_experimental_data/S09-direct_post_right_left_point_combined_raw.fif\n",
      "Closing /hpc/igum002/codes/Hyperscanning2-redesign/data/EEG/raw_experimental_data/raw_combined_experimental_data/S09-direct_post_right_left_point_combined_raw.fif\n",
      "[done]\n"
     ]
    },
    {
     "name": "stderr",
     "output_type": "stream",
     "text": [
      "Combining post direct...:  56%|██████████▏       | 9/16 [00:00<00:00, 10.87it/s]"
     ]
    },
    {
     "name": "stdout",
     "output_type": "stream",
     "text": [
      "Writing /hpc/igum002/codes/Hyperscanning2-redesign/data/EEG/raw_experimental_data/raw_combined_experimental_data/S10-direct_post_left_right_point_combined_raw.fif\n",
      "Closing /hpc/igum002/codes/Hyperscanning2-redesign/data/EEG/raw_experimental_data/raw_combined_experimental_data/S10-direct_post_left_right_point_combined_raw.fif\n",
      "[done]\n",
      "Writing /hpc/igum002/codes/Hyperscanning2-redesign/data/EEG/raw_experimental_data/raw_combined_experimental_data/S11-direct_post_right_left_point_combined_raw.fif\n",
      "Closing /hpc/igum002/codes/Hyperscanning2-redesign/data/EEG/raw_experimental_data/raw_combined_experimental_data/S11-direct_post_right_left_point_combined_raw.fif\n",
      "[done]\n"
     ]
    },
    {
     "name": "stderr",
     "output_type": "stream",
     "text": [
      "Combining post direct...:  69%|███████████▋     | 11/16 [00:01<00:00,  9.75it/s]"
     ]
    },
    {
     "name": "stdout",
     "output_type": "stream",
     "text": [
      "Writing /hpc/igum002/codes/Hyperscanning2-redesign/data/EEG/raw_experimental_data/raw_combined_experimental_data/S12-direct_post_left_right_point_combined_raw.fif\n",
      "Closing /hpc/igum002/codes/Hyperscanning2-redesign/data/EEG/raw_experimental_data/raw_combined_experimental_data/S12-direct_post_left_right_point_combined_raw.fif\n",
      "[done]\n"
     ]
    },
    {
     "name": "stderr",
     "output_type": "stream",
     "text": [
      "Combining post direct...:  75%|████████████▊    | 12/16 [00:01<00:00,  9.40it/s]"
     ]
    },
    {
     "name": "stdout",
     "output_type": "stream",
     "text": [
      "Writing /hpc/igum002/codes/Hyperscanning2-redesign/data/EEG/raw_experimental_data/raw_combined_experimental_data/S13-direct_post_right_left_point_combined_raw.fif\n",
      "Closing /hpc/igum002/codes/Hyperscanning2-redesign/data/EEG/raw_experimental_data/raw_combined_experimental_data/S13-direct_post_right_left_point_combined_raw.fif\n",
      "[done]\n"
     ]
    },
    {
     "name": "stderr",
     "output_type": "stream",
     "text": [
      "Combining post direct...:  81%|█████████████▊   | 13/16 [00:01<00:00,  9.08it/s]"
     ]
    },
    {
     "name": "stdout",
     "output_type": "stream",
     "text": [
      "Writing /hpc/igum002/codes/Hyperscanning2-redesign/data/EEG/raw_experimental_data/raw_combined_experimental_data/S14-direct_post_left_right_point_combined_raw.fif\n",
      "Closing /hpc/igum002/codes/Hyperscanning2-redesign/data/EEG/raw_experimental_data/raw_combined_experimental_data/S14-direct_post_left_right_point_combined_raw.fif\n",
      "[done]\n"
     ]
    },
    {
     "name": "stderr",
     "output_type": "stream",
     "text": [
      "Combining post direct...:  88%|██████████████▉  | 14/16 [00:01<00:00,  8.24it/s]"
     ]
    },
    {
     "name": "stdout",
     "output_type": "stream",
     "text": [
      "Writing /hpc/igum002/codes/Hyperscanning2-redesign/data/EEG/raw_experimental_data/raw_combined_experimental_data/S15-direct_post_right_left_point_combined_raw.fif\n",
      "Closing /hpc/igum002/codes/Hyperscanning2-redesign/data/EEG/raw_experimental_data/raw_combined_experimental_data/S15-direct_post_right_left_point_combined_raw.fif\n",
      "[done]\n"
     ]
    },
    {
     "name": "stderr",
     "output_type": "stream",
     "text": [
      "Combining post direct...:  94%|███████████████▉ | 15/16 [00:01<00:00,  8.24it/s]"
     ]
    },
    {
     "name": "stdout",
     "output_type": "stream",
     "text": [
      "Writing /hpc/igum002/codes/Hyperscanning2-redesign/data/EEG/raw_experimental_data/raw_combined_experimental_data/S16-direct_post_left_right_point_combined_raw.fif\n",
      "Closing /hpc/igum002/codes/Hyperscanning2-redesign/data/EEG/raw_experimental_data/raw_combined_experimental_data/S16-direct_post_left_right_point_combined_raw.fif\n",
      "[done]\n"
     ]
    },
    {
     "name": "stderr",
     "output_type": "stream",
     "text": [
      "Combining post direct...: 100%|█████████████████| 16/16 [00:01<00:00,  9.26it/s]\n"
     ]
    }
   ],
   "source": [
    "\n",
    "for i in tqdm(range(16), desc=\"Combining post direct...\"):  # type: ignore\n",
    "    # post-direct\n",
    "    if i < 9:\n",
    "\n",
    "        direct_post_right_odd_subject = mne.io.read_raw_fif(\n",
    "            \"EEG-S0\" + str(i + 1) + \"-direct_post_right_point_raw.fif\", verbose=False\n",
    "        )\n",
    "        direct_post_left_odd_subject = mne.io.read_raw_fif(\n",
    "            \"EEG-S0\" + str(i + 1) + \"-direct_post_left_point_raw.fif\", verbose=False\n",
    "        )\n",
    "        \n",
    "        # Check if i (index in this looping) == EVEN number that takes ODD actual subject no, then labeling the file name of hand is RIGHT-LEFT\n",
    "        # For example, i = 0 actually takes S01 and keeps going...\n",
    "        if (i % 2) == 0 :\n",
    "        \n",
    "            direct_post_files_to_combine = [\n",
    "                direct_post_right_odd_subject,\n",
    "                direct_post_left_odd_subject,\n",
    "            ]\n",
    "            combined_post_direct_files = mne.concatenate_raws(direct_post_files_to_combine)\n",
    "\n",
    "            combined_post_direct_files_label = (\n",
    "                \"/hpc/igum002/codes/Hyperscanning2-redesign/data/EEG/raw_experimental_data/raw_combined_experimental_data/\"\n",
    "                + \"S0\"\n",
    "                + str(i + 1)\n",
    "                + \"-direct_post_right_left_point_combined_raw.fif\"\n",
    "            )\n",
    "\n",
    "        # Check if i (index in this looping) == ODD number that takes EVEN actual subject no, then labeling the file name of hand is LEFT_RIGHT\n",
    "        # For example, i = 1 actually takes S02 and keeps going...\n",
    "\n",
    "        else:\n",
    "\n",
    "            direct_post_files_to_combine = [ direct_post_left_odd_subject, direct_post_right_odd_subject]\n",
    "\n",
    "            combined_post_direct_files = mne.concatenate_raws(direct_post_files_to_combine)\n",
    "\n",
    "            combined_post_direct_files_label = (\n",
    "                \"/hpc/igum002/codes/Hyperscanning2-redesign/data/EEG/raw_experimental_data/raw_combined_experimental_data/\"\n",
    "                + \"S0\"\n",
    "                + str(i + 1)\n",
    "                + \"-direct_post_left_right_point_combined_raw.fif\"\n",
    "            )  \n",
    "\n",
    "        combined_post_direct_files.save( # type: ignore\n",
    "            combined_post_direct_files_label, overwrite=True\n",
    "        )\n",
    "\n",
    "    else:\n",
    "\n",
    "        direct_post_right_odd_subject = mne.io.read_raw_fif(\"EEG-S\" + str(i + 1) + \"-direct_post_right_point_raw.fif\", verbose=False)\n",
    "        direct_post_left_odd_subject = mne.io.read_raw_fif(\"EEG-S\" + str(i + 1) + \"-direct_post_left_point_raw.fif\", verbose=False)\n",
    "        direct_post_files_to_combine = [direct_post_right_odd_subject, direct_post_left_odd_subject]\n",
    "        combined_post_direct_files = mne.concatenate_raws(direct_post_files_to_combine)\n",
    "        \n",
    "        # Check if i (index in this looping) == EVEN number that takes ODD actual subject no, then labeling the file name of hand is RIGHT-LEFT\n",
    "        # For example, i = 0 actually takes S01 and keeps going...\n",
    "        if (i % 2) == 0 :\n",
    "        \n",
    "            direct_post_files_to_combine = [\n",
    "                direct_post_right_odd_subject,\n",
    "                direct_post_left_odd_subject,\n",
    "            ]\n",
    "            combined_post_direct_files = mne.concatenate_raws(direct_post_files_to_combine)\n",
    "\n",
    "            combined_post_direct_files_label = (\n",
    "                \"/hpc/igum002/codes/Hyperscanning2-redesign/data/EEG/raw_experimental_data/raw_combined_experimental_data/\"\n",
    "                + \"S\"\n",
    "                + str(i + 1)\n",
    "                + \"-direct_post_right_left_point_combined_raw.fif\"\n",
    "            )\n",
    "\n",
    "        # Check if i (index in this looping) == ODD number that takes EVEN actual subject no, then labeling the file name of hand is LEFT_RIGHT\n",
    "        # For example, i = 1 actually takes S02 and keeps going...\n",
    "\n",
    "        else:\n",
    "\n",
    "            direct_post_files_to_combine = [ direct_post_left_odd_subject, direct_post_right_odd_subject]\n",
    "\n",
    "            combined_post_direct_files = mne.concatenate_raws(direct_post_files_to_combine)\n",
    "\n",
    "            combined_post_direct_files_label = (\n",
    "                \"/hpc/igum002/codes/Hyperscanning2-redesign/data/EEG/raw_experimental_data/raw_combined_experimental_data/\"\n",
    "                + \"S\"\n",
    "                + str(i + 1)\n",
    "                + \"-direct_post_left_right_point_combined_raw.fif\"\n",
    "            )  \n",
    "\n",
    "        combined_post_direct_files.save( # type: ignore\n",
    "            combined_post_direct_files_label, overwrite=True)"
   ]
  },
  {
   "cell_type": "markdown",
   "metadata": {},
   "source": [
    "#### Combine pre natural experimental"
   ]
  },
  {
   "cell_type": "code",
   "execution_count": 60,
   "metadata": {},
   "outputs": [
    {
     "name": "stderr",
     "output_type": "stream",
     "text": [
      "Combining pre natural...:   0%|                          | 0/16 [00:00<?, ?it/s]"
     ]
    },
    {
     "name": "stdout",
     "output_type": "stream",
     "text": [
      "Writing /hpc/igum002/codes/Hyperscanning2-redesign/data/EEG/raw_experimental_data/raw_combined_experimental_data/S01-natural_pre_right_left_point_combined_raw.fif\n",
      "Closing /hpc/igum002/codes/Hyperscanning2-redesign/data/EEG/raw_experimental_data/raw_combined_experimental_data/S01-natural_pre_right_left_point_combined_raw.fif\n",
      "[done]\n",
      "Writing /hpc/igum002/codes/Hyperscanning2-redesign/data/EEG/raw_experimental_data/raw_combined_experimental_data/S02-natural_pre_left_right_point_combined_raw.fif\n",
      "Closing /hpc/igum002/codes/Hyperscanning2-redesign/data/EEG/raw_experimental_data/raw_combined_experimental_data/S02-natural_pre_left_right_point_combined_raw.fif\n",
      "[done]\n"
     ]
    },
    {
     "name": "stderr",
     "output_type": "stream",
     "text": [
      "Combining pre natural...:  12%|██▎               | 2/16 [00:00<00:01, 10.32it/s]"
     ]
    },
    {
     "name": "stdout",
     "output_type": "stream",
     "text": [
      "Writing /hpc/igum002/codes/Hyperscanning2-redesign/data/EEG/raw_experimental_data/raw_combined_experimental_data/S03-natural_pre_right_left_point_combined_raw.fif\n",
      "Closing /hpc/igum002/codes/Hyperscanning2-redesign/data/EEG/raw_experimental_data/raw_combined_experimental_data/S03-natural_pre_right_left_point_combined_raw.fif\n",
      "[done]\n",
      "Writing /hpc/igum002/codes/Hyperscanning2-redesign/data/EEG/raw_experimental_data/raw_combined_experimental_data/S04-natural_pre_left_right_point_combined_raw.fif\n",
      "Closing /hpc/igum002/codes/Hyperscanning2-redesign/data/EEG/raw_experimental_data/raw_combined_experimental_data/S04-natural_pre_left_right_point_combined_raw.fif\n",
      "[done]\n"
     ]
    },
    {
     "name": "stderr",
     "output_type": "stream",
     "text": [
      "Combining pre natural...:  25%|████▌             | 4/16 [00:00<00:01, 10.69it/s]"
     ]
    },
    {
     "name": "stdout",
     "output_type": "stream",
     "text": [
      "Writing /hpc/igum002/codes/Hyperscanning2-redesign/data/EEG/raw_experimental_data/raw_combined_experimental_data/S05-natural_pre_right_left_point_combined_raw.fif\n",
      "Closing /hpc/igum002/codes/Hyperscanning2-redesign/data/EEG/raw_experimental_data/raw_combined_experimental_data/S05-natural_pre_right_left_point_combined_raw.fif\n",
      "[done]\n",
      "Writing /hpc/igum002/codes/Hyperscanning2-redesign/data/EEG/raw_experimental_data/raw_combined_experimental_data/S06-natural_pre_left_right_point_combined_raw.fif\n",
      "Closing /hpc/igum002/codes/Hyperscanning2-redesign/data/EEG/raw_experimental_data/raw_combined_experimental_data/S06-natural_pre_left_right_point_combined_raw.fif\n",
      "[done]\n"
     ]
    },
    {
     "name": "stderr",
     "output_type": "stream",
     "text": [
      "Combining pre natural...:  38%|██████▊           | 6/16 [00:00<00:00, 10.86it/s]"
     ]
    },
    {
     "name": "stdout",
     "output_type": "stream",
     "text": [
      "Writing /hpc/igum002/codes/Hyperscanning2-redesign/data/EEG/raw_experimental_data/raw_combined_experimental_data/S07-natural_pre_right_left_point_combined_raw.fif\n",
      "Closing /hpc/igum002/codes/Hyperscanning2-redesign/data/EEG/raw_experimental_data/raw_combined_experimental_data/S07-natural_pre_right_left_point_combined_raw.fif\n",
      "[done]\n",
      "Writing /hpc/igum002/codes/Hyperscanning2-redesign/data/EEG/raw_experimental_data/raw_combined_experimental_data/S08-natural_pre_left_right_point_combined_raw.fif\n",
      "Closing /hpc/igum002/codes/Hyperscanning2-redesign/data/EEG/raw_experimental_data/raw_combined_experimental_data/S08-natural_pre_left_right_point_combined_raw.fif\n",
      "[done]\n"
     ]
    },
    {
     "name": "stderr",
     "output_type": "stream",
     "text": [
      "Combining pre natural...:  50%|█████████         | 8/16 [00:00<00:00, 10.92it/s]"
     ]
    },
    {
     "name": "stdout",
     "output_type": "stream",
     "text": [
      "Writing /hpc/igum002/codes/Hyperscanning2-redesign/data/EEG/raw_experimental_data/raw_combined_experimental_data/S09-natural_pre_right_left_point_combined_raw.fif\n",
      "Closing /hpc/igum002/codes/Hyperscanning2-redesign/data/EEG/raw_experimental_data/raw_combined_experimental_data/S09-natural_pre_right_left_point_combined_raw.fif\n",
      "[done]\n",
      "Writing /hpc/igum002/codes/Hyperscanning2-redesign/data/EEG/raw_experimental_data/raw_combined_experimental_data/S10-natural_pre_left_right_point_combined_raw.fif\n",
      "Closing /hpc/igum002/codes/Hyperscanning2-redesign/data/EEG/raw_experimental_data/raw_combined_experimental_data/S10-natural_pre_left_right_point_combined_raw.fif\n",
      "[done]\n"
     ]
    },
    {
     "name": "stderr",
     "output_type": "stream",
     "text": [
      "Combining pre natural...:  62%|██████████▋      | 10/16 [00:00<00:00, 10.32it/s]"
     ]
    },
    {
     "name": "stdout",
     "output_type": "stream",
     "text": [
      "Writing /hpc/igum002/codes/Hyperscanning2-redesign/data/EEG/raw_experimental_data/raw_combined_experimental_data/S11-natural_pre_right_left_point_combined_raw.fif\n",
      "Closing /hpc/igum002/codes/Hyperscanning2-redesign/data/EEG/raw_experimental_data/raw_combined_experimental_data/S11-natural_pre_right_left_point_combined_raw.fif\n",
      "[done]\n",
      "Writing /hpc/igum002/codes/Hyperscanning2-redesign/data/EEG/raw_experimental_data/raw_combined_experimental_data/S12-natural_pre_left_right_point_combined_raw.fif\n",
      "Closing /hpc/igum002/codes/Hyperscanning2-redesign/data/EEG/raw_experimental_data/raw_combined_experimental_data/S12-natural_pre_left_right_point_combined_raw.fif\n",
      "[done]\n"
     ]
    },
    {
     "name": "stderr",
     "output_type": "stream",
     "text": [
      "Combining pre natural...:  75%|████████████▊    | 12/16 [00:01<00:00,  9.49it/s]"
     ]
    },
    {
     "name": "stdout",
     "output_type": "stream",
     "text": [
      "Writing /hpc/igum002/codes/Hyperscanning2-redesign/data/EEG/raw_experimental_data/raw_combined_experimental_data/S13-natural_pre_right_left_point_combined_raw.fif\n",
      "Closing /hpc/igum002/codes/Hyperscanning2-redesign/data/EEG/raw_experimental_data/raw_combined_experimental_data/S13-natural_pre_right_left_point_combined_raw.fif\n",
      "[done]\n"
     ]
    },
    {
     "name": "stderr",
     "output_type": "stream",
     "text": [
      "Combining pre natural...:  81%|█████████████▊   | 13/16 [00:01<00:00,  9.18it/s]"
     ]
    },
    {
     "name": "stdout",
     "output_type": "stream",
     "text": [
      "Writing /hpc/igum002/codes/Hyperscanning2-redesign/data/EEG/raw_experimental_data/raw_combined_experimental_data/S14-natural_pre_left_right_point_combined_raw.fif\n",
      "Closing /hpc/igum002/codes/Hyperscanning2-redesign/data/EEG/raw_experimental_data/raw_combined_experimental_data/S14-natural_pre_left_right_point_combined_raw.fif\n",
      "[done]\n"
     ]
    },
    {
     "name": "stderr",
     "output_type": "stream",
     "text": [
      "Combining pre natural...:  88%|██████████████▉  | 14/16 [00:01<00:00,  8.97it/s]"
     ]
    },
    {
     "name": "stdout",
     "output_type": "stream",
     "text": [
      "Writing /hpc/igum002/codes/Hyperscanning2-redesign/data/EEG/raw_experimental_data/raw_combined_experimental_data/S15-natural_pre_right_left_point_combined_raw.fif\n",
      "Closing /hpc/igum002/codes/Hyperscanning2-redesign/data/EEG/raw_experimental_data/raw_combined_experimental_data/S15-natural_pre_right_left_point_combined_raw.fif\n",
      "[done]\n"
     ]
    },
    {
     "name": "stderr",
     "output_type": "stream",
     "text": [
      "Combining pre natural...:  94%|███████████████▉ | 15/16 [00:01<00:00,  8.73it/s]"
     ]
    },
    {
     "name": "stdout",
     "output_type": "stream",
     "text": [
      "Writing /hpc/igum002/codes/Hyperscanning2-redesign/data/EEG/raw_experimental_data/raw_combined_experimental_data/S16-natural_pre_left_right_point_combined_raw.fif\n",
      "Closing /hpc/igum002/codes/Hyperscanning2-redesign/data/EEG/raw_experimental_data/raw_combined_experimental_data/S16-natural_pre_left_right_point_combined_raw.fif\n",
      "[done]\n"
     ]
    },
    {
     "name": "stderr",
     "output_type": "stream",
     "text": [
      "Combining pre natural...: 100%|█████████████████| 16/16 [00:01<00:00,  9.49it/s]\n"
     ]
    }
   ],
   "source": [
    "\n",
    "for i in tqdm(range(16), desc=\"Combining pre natural...\"):  # type: ignore\n",
    "    # pre-natural\n",
    "    if i < 9:\n",
    "\n",
    "        natural_pre_right_odd_subject = mne.io.read_raw_fif(\n",
    "            \"EEG-S0\" + str(i + 1) + \"-natural_pre_right_point_raw.fif\", verbose=False\n",
    "        )\n",
    "        natural_pre_left_odd_subject = mne.io.read_raw_fif(\n",
    "            \"EEG-S0\" + str(i + 1) + \"-natural_pre_left_point_raw.fif\", verbose=False\n",
    "        )\n",
    "        \n",
    "        # Check if i (index in this looping) == EVEN number that takes ODD actual subject no, then labeling the file name of hand is RIGHT-LEFT\n",
    "        # For example, i = 0 actually takes S01 and keeps going...\n",
    "        if (i % 2) == 0 :\n",
    "        \n",
    "            natural_pre_files_to_combine = [\n",
    "                natural_pre_right_odd_subject,\n",
    "                natural_pre_left_odd_subject,\n",
    "            ]\n",
    "            combined_pre_natural_files = mne.concatenate_raws(natural_pre_files_to_combine)\n",
    "\n",
    "            combined_pre_natural_files_label = (\n",
    "                \"/hpc/igum002/codes/Hyperscanning2-redesign/data/EEG/raw_experimental_data/raw_combined_experimental_data/\"\n",
    "                + \"S0\"\n",
    "                + str(i + 1)\n",
    "                + \"-natural_pre_right_left_point_combined_raw.fif\"\n",
    "            )\n",
    "\n",
    "        # Check if i (index in this looping) == ODD number that takes EVEN actual subject no, then labeling the file name of hand is LEFT_RIGHT\n",
    "        # For example, i = 1 actually takes S02 and keeps going...\n",
    "\n",
    "        else:\n",
    "\n",
    "            natural_pre_files_to_combine = [ natural_pre_left_odd_subject, natural_pre_right_odd_subject]\n",
    "\n",
    "            combined_pre_natural_files = mne.concatenate_raws(natural_pre_files_to_combine)\n",
    "\n",
    "            combined_pre_natural_files_label = (\n",
    "                \"/hpc/igum002/codes/Hyperscanning2-redesign/data/EEG/raw_experimental_data/raw_combined_experimental_data/\"\n",
    "                + \"S0\"\n",
    "                + str(i + 1)\n",
    "                + \"-natural_pre_left_right_point_combined_raw.fif\"\n",
    "            )  \n",
    "\n",
    "        combined_pre_natural_files.save( # type: ignore\n",
    "            combined_pre_natural_files_label, overwrite=True\n",
    "        )\n",
    "\n",
    "    else:\n",
    "\n",
    "        natural_pre_right_odd_subject = mne.io.read_raw_fif(\"EEG-S\" + str(i + 1) + \"-natural_pre_right_point_raw.fif\", verbose=False)\n",
    "        natural_pre_left_odd_subject = mne.io.read_raw_fif(\"EEG-S\" + str(i + 1) + \"-natural_pre_left_point_raw.fif\", verbose=False)\n",
    "        natural_pre_files_to_combine = [natural_pre_right_odd_subject, natural_pre_left_odd_subject]\n",
    "        combined_pre_natural_files = mne.concatenate_raws(natural_pre_files_to_combine)\n",
    "        \n",
    "        # Check if i (index in this looping) == EVEN number that takes ODD actual subject no, then labeling the file name of hand is RIGHT-LEFT\n",
    "        # For example, i = 0 actually takes S01 and keeps going...\n",
    "        if (i % 2) == 0 :\n",
    "        \n",
    "            natural_pre_files_to_combine = [\n",
    "                natural_pre_right_odd_subject,\n",
    "                natural_pre_left_odd_subject,\n",
    "            ]\n",
    "            combined_pre_natural_files = mne.concatenate_raws(natural_pre_files_to_combine)\n",
    "\n",
    "            combined_pre_natural_files_label = (\n",
    "                \"/hpc/igum002/codes/Hyperscanning2-redesign/data/EEG/raw_experimental_data/raw_combined_experimental_data/\"\n",
    "                + \"S\"\n",
    "                + str(i + 1)\n",
    "                + \"-natural_pre_right_left_point_combined_raw.fif\"\n",
    "            )\n",
    "\n",
    "        # Check if i (index in this looping) == ODD number that takes EVEN actual subject no, then labeling the file name of hand is LEFT_RIGHT\n",
    "        # For example, i = 1 actually takes S02 and keeps going...\n",
    "\n",
    "        else:\n",
    "\n",
    "            natural_pre_files_to_combine = [ natural_pre_left_odd_subject, natural_pre_right_odd_subject]\n",
    "\n",
    "            combined_pre_natural_files = mne.concatenate_raws(natural_pre_files_to_combine)\n",
    "\n",
    "            combined_pre_natural_files_label = (\n",
    "                \"/hpc/igum002/codes/Hyperscanning2-redesign/data/EEG/raw_experimental_data/raw_combined_experimental_data/\"\n",
    "                + \"S\"\n",
    "                + str(i + 1)\n",
    "                + \"-natural_pre_left_right_point_combined_raw.fif\"\n",
    "            )  \n",
    "\n",
    "        combined_pre_natural_files.save( # type: ignore\n",
    "            combined_pre_natural_files_label, overwrite=True)"
   ]
  },
  {
   "cell_type": "markdown",
   "metadata": {},
   "source": [
    "#### Combine post natural experimental"
   ]
  },
  {
   "cell_type": "code",
   "execution_count": 61,
   "metadata": {},
   "outputs": [
    {
     "name": "stderr",
     "output_type": "stream",
     "text": [
      "Combining post natural...:   0%|                         | 0/16 [00:00<?, ?it/s]"
     ]
    },
    {
     "name": "stdout",
     "output_type": "stream",
     "text": [
      "Writing /hpc/igum002/codes/Hyperscanning2-redesign/data/EEG/raw_experimental_data/raw_combined_experimental_data/S01-natural_post_right_left_point_combined_raw.fif\n",
      "Closing /hpc/igum002/codes/Hyperscanning2-redesign/data/EEG/raw_experimental_data/raw_combined_experimental_data/S01-natural_post_right_left_point_combined_raw.fif\n",
      "[done]\n"
     ]
    },
    {
     "name": "stderr",
     "output_type": "stream",
     "text": [
      "Combining post natural...:   6%|█                | 1/16 [00:00<00:01,  9.90it/s]"
     ]
    },
    {
     "name": "stdout",
     "output_type": "stream",
     "text": [
      "Writing /hpc/igum002/codes/Hyperscanning2-redesign/data/EEG/raw_experimental_data/raw_combined_experimental_data/S02-natural_post_left_right_point_combined_raw.fif\n",
      "Closing /hpc/igum002/codes/Hyperscanning2-redesign/data/EEG/raw_experimental_data/raw_combined_experimental_data/S02-natural_post_left_right_point_combined_raw.fif\n",
      "[done]\n",
      "Writing /hpc/igum002/codes/Hyperscanning2-redesign/data/EEG/raw_experimental_data/raw_combined_experimental_data/S03-natural_post_right_left_point_combined_raw.fif\n",
      "Closing /hpc/igum002/codes/Hyperscanning2-redesign/data/EEG/raw_experimental_data/raw_combined_experimental_data/S03-natural_post_right_left_point_combined_raw.fif\n",
      "[done]\n"
     ]
    },
    {
     "name": "stderr",
     "output_type": "stream",
     "text": [
      "Combining post natural...:  19%|███▏             | 3/16 [00:00<00:01, 10.51it/s]"
     ]
    },
    {
     "name": "stdout",
     "output_type": "stream",
     "text": [
      "Writing /hpc/igum002/codes/Hyperscanning2-redesign/data/EEG/raw_experimental_data/raw_combined_experimental_data/S04-natural_post_left_right_point_combined_raw.fif\n",
      "Closing /hpc/igum002/codes/Hyperscanning2-redesign/data/EEG/raw_experimental_data/raw_combined_experimental_data/S04-natural_post_left_right_point_combined_raw.fif\n",
      "[done]\n",
      "Writing /hpc/igum002/codes/Hyperscanning2-redesign/data/EEG/raw_experimental_data/raw_combined_experimental_data/S05-natural_post_right_left_point_combined_raw.fif\n",
      "Closing /hpc/igum002/codes/Hyperscanning2-redesign/data/EEG/raw_experimental_data/raw_combined_experimental_data/S05-natural_post_right_left_point_combined_raw.fif\n",
      "[done]\n"
     ]
    },
    {
     "name": "stderr",
     "output_type": "stream",
     "text": [
      "Combining post natural...:  31%|█████▎           | 5/16 [00:00<00:01, 10.84it/s]"
     ]
    },
    {
     "name": "stdout",
     "output_type": "stream",
     "text": [
      "Writing /hpc/igum002/codes/Hyperscanning2-redesign/data/EEG/raw_experimental_data/raw_combined_experimental_data/S06-natural_post_left_right_point_combined_raw.fif\n",
      "Closing /hpc/igum002/codes/Hyperscanning2-redesign/data/EEG/raw_experimental_data/raw_combined_experimental_data/S06-natural_post_left_right_point_combined_raw.fif\n",
      "[done]\n",
      "Writing /hpc/igum002/codes/Hyperscanning2-redesign/data/EEG/raw_experimental_data/raw_combined_experimental_data/S07-natural_post_right_left_point_combined_raw.fif\n",
      "Closing /hpc/igum002/codes/Hyperscanning2-redesign/data/EEG/raw_experimental_data/raw_combined_experimental_data/S07-natural_post_right_left_point_combined_raw.fif\n",
      "[done]\n"
     ]
    },
    {
     "name": "stderr",
     "output_type": "stream",
     "text": [
      "Combining post natural...:  44%|███████▍         | 7/16 [00:00<00:00, 10.79it/s]"
     ]
    },
    {
     "name": "stdout",
     "output_type": "stream",
     "text": [
      "Writing /hpc/igum002/codes/Hyperscanning2-redesign/data/EEG/raw_experimental_data/raw_combined_experimental_data/S08-natural_post_left_right_point_combined_raw.fif\n",
      "Closing /hpc/igum002/codes/Hyperscanning2-redesign/data/EEG/raw_experimental_data/raw_combined_experimental_data/S08-natural_post_left_right_point_combined_raw.fif\n",
      "[done]\n",
      "Writing /hpc/igum002/codes/Hyperscanning2-redesign/data/EEG/raw_experimental_data/raw_combined_experimental_data/S09-natural_post_right_left_point_combined_raw.fif\n",
      "Closing /hpc/igum002/codes/Hyperscanning2-redesign/data/EEG/raw_experimental_data/raw_combined_experimental_data/S09-natural_post_right_left_point_combined_raw.fif\n",
      "[done]\n"
     ]
    },
    {
     "name": "stderr",
     "output_type": "stream",
     "text": [
      "Combining post natural...:  56%|█████████▌       | 9/16 [00:00<00:00, 10.71it/s]"
     ]
    },
    {
     "name": "stdout",
     "output_type": "stream",
     "text": [
      "Writing /hpc/igum002/codes/Hyperscanning2-redesign/data/EEG/raw_experimental_data/raw_combined_experimental_data/S10-natural_post_left_right_point_combined_raw.fif\n",
      "Closing /hpc/igum002/codes/Hyperscanning2-redesign/data/EEG/raw_experimental_data/raw_combined_experimental_data/S10-natural_post_left_right_point_combined_raw.fif\n",
      "[done]\n",
      "Writing /hpc/igum002/codes/Hyperscanning2-redesign/data/EEG/raw_experimental_data/raw_combined_experimental_data/S11-natural_post_right_left_point_combined_raw.fif\n",
      "Closing /hpc/igum002/codes/Hyperscanning2-redesign/data/EEG/raw_experimental_data/raw_combined_experimental_data/S11-natural_post_right_left_point_combined_raw.fif\n",
      "[done]\n"
     ]
    },
    {
     "name": "stderr",
     "output_type": "stream",
     "text": [
      "Combining post natural...:  69%|███████████     | 11/16 [00:01<00:00,  9.69it/s]"
     ]
    },
    {
     "name": "stdout",
     "output_type": "stream",
     "text": [
      "Writing /hpc/igum002/codes/Hyperscanning2-redesign/data/EEG/raw_experimental_data/raw_combined_experimental_data/S12-natural_post_left_right_point_combined_raw.fif\n",
      "Closing /hpc/igum002/codes/Hyperscanning2-redesign/data/EEG/raw_experimental_data/raw_combined_experimental_data/S12-natural_post_left_right_point_combined_raw.fif\n",
      "[done]\n"
     ]
    },
    {
     "name": "stderr",
     "output_type": "stream",
     "text": [
      "Combining post natural...:  75%|████████████    | 12/16 [00:01<00:00,  9.36it/s]"
     ]
    },
    {
     "name": "stdout",
     "output_type": "stream",
     "text": [
      "Writing /hpc/igum002/codes/Hyperscanning2-redesign/data/EEG/raw_experimental_data/raw_combined_experimental_data/S13-natural_post_right_left_point_combined_raw.fif\n",
      "Closing /hpc/igum002/codes/Hyperscanning2-redesign/data/EEG/raw_experimental_data/raw_combined_experimental_data/S13-natural_post_right_left_point_combined_raw.fif\n",
      "[done]\n"
     ]
    },
    {
     "name": "stderr",
     "output_type": "stream",
     "text": [
      "Combining post natural...:  81%|█████████████   | 13/16 [00:01<00:00,  9.09it/s]"
     ]
    },
    {
     "name": "stdout",
     "output_type": "stream",
     "text": [
      "Writing /hpc/igum002/codes/Hyperscanning2-redesign/data/EEG/raw_experimental_data/raw_combined_experimental_data/S14-natural_post_left_right_point_combined_raw.fif\n",
      "Closing /hpc/igum002/codes/Hyperscanning2-redesign/data/EEG/raw_experimental_data/raw_combined_experimental_data/S14-natural_post_left_right_point_combined_raw.fif\n",
      "[done]\n"
     ]
    },
    {
     "name": "stderr",
     "output_type": "stream",
     "text": [
      "Combining post natural...:  88%|██████████████  | 14/16 [00:01<00:00,  8.89it/s]"
     ]
    },
    {
     "name": "stdout",
     "output_type": "stream",
     "text": [
      "Writing /hpc/igum002/codes/Hyperscanning2-redesign/data/EEG/raw_experimental_data/raw_combined_experimental_data/S15-natural_post_right_left_point_combined_raw.fif\n",
      "Closing /hpc/igum002/codes/Hyperscanning2-redesign/data/EEG/raw_experimental_data/raw_combined_experimental_data/S15-natural_post_right_left_point_combined_raw.fif\n",
      "[done]\n"
     ]
    },
    {
     "name": "stderr",
     "output_type": "stream",
     "text": [
      "Combining post natural...:  94%|███████████████ | 15/16 [00:01<00:00,  8.70it/s]"
     ]
    },
    {
     "name": "stdout",
     "output_type": "stream",
     "text": [
      "Writing /hpc/igum002/codes/Hyperscanning2-redesign/data/EEG/raw_experimental_data/raw_combined_experimental_data/S16-natural_post_left_right_point_combined_raw.fif\n",
      "Closing /hpc/igum002/codes/Hyperscanning2-redesign/data/EEG/raw_experimental_data/raw_combined_experimental_data/S16-natural_post_left_right_point_combined_raw.fif\n",
      "[done]\n"
     ]
    },
    {
     "name": "stderr",
     "output_type": "stream",
     "text": [
      "Combining post natural...: 100%|████████████████| 16/16 [00:01<00:00,  9.46it/s]\n"
     ]
    }
   ],
   "source": [
    "\n",
    "for i in tqdm(range(16), desc=\"Combining post natural...\"):  # type: ignore\n",
    "    # post-natural\n",
    "    if i < 9:\n",
    "\n",
    "        natural_post_right_odd_subject = mne.io.read_raw_fif(\n",
    "            \"EEG-S0\" + str(i + 1) + \"-natural_post_right_point_raw.fif\", verbose=False\n",
    "        )\n",
    "        natural_post_left_odd_subject = mne.io.read_raw_fif(\n",
    "            \"EEG-S0\" + str(i + 1) + \"-natural_post_left_point_raw.fif\", verbose=False\n",
    "        )\n",
    "        \n",
    "        # Check if i (index in this looping) == EVEN number that takes ODD actual subject no, then labeling the file name of hand is RIGHT-LEFT\n",
    "        # For example, i = 0 actually takes S01 and keeps going...\n",
    "        if (i % 2) == 0 :\n",
    "        \n",
    "            natural_post_files_to_combine = [\n",
    "                natural_post_right_odd_subject,\n",
    "                natural_post_left_odd_subject,\n",
    "            ]\n",
    "            combined_post_natural_files = mne.concatenate_raws(natural_post_files_to_combine)\n",
    "\n",
    "            combined_post_natural_files_label = (\n",
    "                \"/hpc/igum002/codes/Hyperscanning2-redesign/data/EEG/raw_experimental_data/raw_combined_experimental_data/\"\n",
    "                + \"S0\"\n",
    "                + str(i + 1)\n",
    "                + \"-natural_post_right_left_point_combined_raw.fif\"\n",
    "            )\n",
    "\n",
    "        # Check if i (index in this looping) == ODD number that takes EVEN actual subject no, then labeling the file name of hand is LEFT_RIGHT\n",
    "        # For example, i = 1 actually takes S02 and keeps going...\n",
    "\n",
    "        else:\n",
    "\n",
    "            natural_post_files_to_combine = [ natural_post_left_odd_subject, natural_post_right_odd_subject]\n",
    "\n",
    "            combined_post_natural_files = mne.concatenate_raws(natural_post_files_to_combine)\n",
    "\n",
    "            combined_post_natural_files_label = (\n",
    "                \"/hpc/igum002/codes/Hyperscanning2-redesign/data/EEG/raw_experimental_data/raw_combined_experimental_data/\"\n",
    "                + \"S0\"\n",
    "                + str(i + 1)\n",
    "                + \"-natural_post_left_right_point_combined_raw.fif\"\n",
    "            )  \n",
    "\n",
    "        combined_post_natural_files.save( # type: ignore\n",
    "            combined_post_natural_files_label, overwrite=True\n",
    "        )\n",
    "\n",
    "    else:\n",
    "\n",
    "        natural_post_right_odd_subject = mne.io.read_raw_fif(\"EEG-S\" + str(i + 1) + \"-natural_post_right_point_raw.fif\", verbose=False)\n",
    "        natural_post_left_odd_subject = mne.io.read_raw_fif(\"EEG-S\" + str(i + 1) + \"-natural_post_left_point_raw.fif\", verbose=False)\n",
    "        natural_post_files_to_combine = [natural_post_right_odd_subject, natural_post_left_odd_subject]\n",
    "        combined_post_natural_files = mne.concatenate_raws(natural_post_files_to_combine)\n",
    "        \n",
    "        # Check if i (index in this looping) == EVEN number that takes ODD actual subject no, then labeling the file name of hand is RIGHT-LEFT\n",
    "        # For example, i = 0 actually takes S01 and keeps going...\n",
    "        if (i % 2) == 0 :\n",
    "        \n",
    "            natural_post_files_to_combine = [\n",
    "                natural_post_right_odd_subject,\n",
    "                natural_post_left_odd_subject,\n",
    "            ]\n",
    "            combined_post_natural_files = mne.concatenate_raws(natural_post_files_to_combine)\n",
    "\n",
    "            combined_post_natural_files_label = (\n",
    "                \"/hpc/igum002/codes/Hyperscanning2-redesign/data/EEG/raw_experimental_data/raw_combined_experimental_data/\"\n",
    "                + \"S\"\n",
    "                + str(i + 1)\n",
    "                + \"-natural_post_right_left_point_combined_raw.fif\"\n",
    "            )\n",
    "\n",
    "        # Check if i (index in this looping) == ODD number that takes EVEN actual subject no, then labeling the file name of hand is LEFT_RIGHT\n",
    "        # For example, i = 1 actually takes S02 and keeps going...\n",
    "\n",
    "        else:\n",
    "\n",
    "            natural_post_files_to_combine = [ natural_post_left_odd_subject, natural_post_right_odd_subject]\n",
    "\n",
    "            combined_post_natural_files = mne.concatenate_raws(natural_post_files_to_combine)\n",
    "\n",
    "            combined_post_natural_files_label = (\n",
    "                \"/hpc/igum002/codes/Hyperscanning2-redesign/data/EEG/raw_experimental_data/raw_combined_experimental_data/\"\n",
    "                + \"S\"\n",
    "                + str(i + 1)\n",
    "                + \"-natural_post_left_right_point_combined_raw.fif\"\n",
    "            )  \n",
    "\n",
    "        combined_post_natural_files.save( # type: ignore\n",
    "            combined_post_natural_files_label, overwrite=True)"
   ]
  },
  {
   "cell_type": "code",
   "execution_count": null,
   "metadata": {},
   "outputs": [],
   "source": []
  }
 ],
 "metadata": {
  "kernelspec": {
   "display_name": "Python 3 (ipykernel)",
   "language": "python",
   "name": "python3"
  },
  "language_info": {
   "codemirror_mode": {
    "name": "ipython",
    "version": 3
   },
   "file_extension": ".py",
   "mimetype": "text/x-python",
   "name": "python",
   "nbconvert_exporter": "python",
   "pygments_lexer": "ipython3",
   "version": "3.8.10"
  },
  "orig_nbformat": 4
 },
 "nbformat": 4,
 "nbformat_minor": 2
}
