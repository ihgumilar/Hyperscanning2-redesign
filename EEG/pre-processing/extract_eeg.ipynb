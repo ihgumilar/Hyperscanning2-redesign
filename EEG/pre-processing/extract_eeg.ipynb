{
 "cells": [
  {
   "cell_type": "markdown",
   "metadata": {},
   "source": [
    "Extract baseline eeg data function"
   ]
  },
  {
   "cell_type": "code",
   "execution_count": 1,
   "metadata": {},
   "outputs": [],
   "source": [
    "import mne\n",
    "import pandas as pd\n",
    "from tqdm import tqdm\n",
    "import warnings\n",
    "import os\n",
    "import re\n",
    "warnings.filterwarnings(\"ignore\", category=DeprecationWarning)\n",
    "\n",
    "def extract_baseline_eeg_data(path_2_csv_files, path_2_save_baseline_file, labelsequence=1, bad_files=[]):\n",
    "    \"\"\" \n",
    "\n",
    "    Objective :\n",
    "        Extract baseline data from raw EEG data which is in csv format. \\n\n",
    "        Every raw csv file of EEG data must contain 48 markers in total (opening & closing). \\n\n",
    "        Basically, there are 24 markers. However, Baseline data is in the first 6 markers. \\n\n",
    "        (12 markers if including opening & closing markers). \\n\n",
    "\n",
    "\n",
    "    Parameters :\n",
    "        - path_2_csv_files : path to raw EEG file (csv format). \\n\n",
    "        - path_2_save_baseline_file : path to save extracted baseline data of EEG (output file in *.fif format). \\n\n",
    "        - labelsequence (opt) : order of label sequence, in this case is 1 by default. \\n\n",
    "        - bad_files (opt) : raw EEG file(s) that want to be skipped to be processed by the script.\n",
    "\n",
    "    Output :\n",
    "        EEG file in *.fif format with the name formatting : Subject no_EyeCondition__TrainingCondition_HandCondition_raw.fif\n",
    "        For instance, \"EEG-S01-averted_left_tracking_raw\".\n",
    "\n",
    "    \"\"\"\n",
    "    \n",
    "\n",
    "    list_file_names = []\n",
    "    full_path_2_each_file = []\n",
    "\n",
    "    for file in os.listdir(path_2_csv_files):\n",
    "\n",
    "        if file.endswith(\".csv\"):\n",
    "\n",
    "            if (file in bad_files):\n",
    "\n",
    "                # Skip the bad file to be processed\n",
    "                print(f\"Skipped bad file : {file}\")\n",
    "                continue\n",
    "\n",
    "            # Populate all file names only\n",
    "            list_file_names.append(file)\n",
    "            list_file_names.sort()\n",
    "\n",
    "\n",
    "        for i in tqdm(range(len(list_file_names)), desc=\"In progress\"):\n",
    "\n",
    "            try:\n",
    "                labelsequence = int(labelsequence)\n",
    "\n",
    "            except IOError as err_filename:\n",
    "                print(\"The format of file name is not correct or file doesn't exist \\nThe format must be 'EEG-Sxx.csv' , xx=subject number \")\n",
    "                raise\n",
    "            except ValueError as err_integer:\n",
    "                print(\"The labelsequence input must be integer : \", err_integer)\n",
    "                raise\n",
    "\n",
    "            else:\n",
    "                if  labelsequence < 1 or labelsequence > 12:\n",
    "                    print(\"The value for labelsequence parameter is out of range. It must be be between 1 and 12\")\n",
    "                    raise IndexError\n",
    "                else:\n",
    "\n",
    "                    #%% Load the data\n",
    "                    fileName = list_file_names[i]\n",
    "                    print(\"Processing file : \" + list_file_names[i])\n",
    "\n",
    "                    # Change working directory to which raw EEG files are stored\n",
    "                    os.chdir(path_2_csv_files)\n",
    "                    \n",
    "                    # Read each file by using pandas\n",
    "                    df = pd.read_csv(fileName, delimiter=',')\n",
    "                    # %% Define columns for raw csv file\n",
    "                    df.columns = ['Index', 'FP1', 'FP2', 'F7', 'F3', 'F4', 'F8', 'T7', 'C3', 'C4', 'T8', 'P7', 'P3', 'P4', 'P8', 'O1',\n",
    "                                    'O2', 'X1', 'X2', 'X3', 'X4', 'X5',\n",
    "                                    'X6', 'X7', 'X8', 'X9', 'X10', 'X11', 'X12', 'X13', 'X14', 'Marker']\n",
    "\n",
    "                    # Converting all markers (pandas data frame to list)\n",
    "                    markers = df['Marker'].tolist()\n",
    "                   \n",
    "                    indicesOfMarkers = []  # Empty list to contain indices of markers\n",
    "                    for i, c in enumerate(markers):\n",
    "                        if \"9999999\" in str(c) : \n",
    "                            indicesOfMarkers.append(i) \n",
    "                    try:\n",
    "                        number_markers = len(indicesOfMarkers)\n",
    "                        if number_markers != 48:   # check if the number of markers = 48\n",
    "                            raise ValueError(\"The {} file has incorrect number of markers : {} ! It MUST be 48\".format(fileName,number_markers))\n",
    "                    except ValueError as err_unmatch_markers:\n",
    "                        print(err_unmatch_markers)\n",
    "                        raise\n",
    "\n",
    "\n",
    "                    # Baseline data used only averted eye condition. Since everything is turned to be white. \n",
    "                    # Participants did not see each other basically. So, different eye gaze direction does not matter.\n",
    "\n",
    "                    # This is the order for participants with odd number, e.g., 1, 3, 5, etc..\n",
    "                    oddOrder1 = [\"averted_pre_right_point\", \"averted_pre_left_point\", \"averted_left_tracking\", \"averted_right_tracking\",\n",
    "                                    \"averted_post_right_point\", \"averted_post_left_point\"]\n",
    "                    \n",
    "                    # This is the order for participants with even number, e.g., 2, 4, 6, etc..\n",
    "                    evenOrder1 = [\"averted_pre_left_point\", \"averted_pre_right_point\", \"averted_right_tracking\", \"averted_left_tracking\",\n",
    "                                    \"averted_post_left_point\", \"averted_post_right_point\"]\n",
    "\n",
    "\n",
    "                    listOfOrders = []\n",
    "                    listOfOrders.append(oddOrder1)\n",
    "                    listOfOrders.append(evenOrder1)\n",
    "\n",
    "                    # It is used to take the above label (oddOrder1 or oddOrder2)\n",
    "                    i_label_taker = 0\n",
    "                    if i % 2 == 0:\n",
    "                        # Even number\n",
    "                        i_label_taker = 0\n",
    "                    else:\n",
    "                        # Odd number\n",
    "                        i_label_taker = 1\n",
    "                    \n",
    "                    chosenOrder = listOfOrders[i_label_taker]\n",
    "\n",
    "                    ####### BASELINE DATA #######\n",
    "\n",
    "                    # %% Get the first 12 markers' indices and extract the data\n",
    "                    indicesofBaselineMarkers = indicesOfMarkers[:13]\n",
    "\n",
    "                    # Get the first 12 markers and chunk dataframe based on those indices, and convert it into numpy array\n",
    "                    # For some data, it can be 13 markers after being extracted because when we combined the data the markers of beginning are \n",
    "                    # right after the closing marker\n",
    "\n",
    "                    # %% Chunk the data based on opening and closing markers and get only the 16 channels data (columns)\n",
    "                    chunkedData = []\n",
    "                    for i in range(0, 12, 2):\n",
    "\n",
    "                        # Convert the data into numpy array type and microvolt (for some reason, the output of OpenBCI is not in microvolt)\n",
    "                        chunkedData.append(df.iloc[indicesofBaselineMarkers[i] : indicesofBaselineMarkers[i+1], 1:17].to_numpy() * 1e-6)\n",
    "\n",
    "                    # Create 16 channels montage 10-20 international standard\n",
    "                    montage = mne.channels.make_standard_montage('standard_1020')\n",
    "\n",
    "                    # Pick only 16 channels that are used in Cyton+Daisy OpenBCI\n",
    "                    # % Create info (which is used in MNE-Python)\n",
    "                    ch_names = ['FP1', 'Fp2', 'F7', 'F3', 'F4', 'F8', 'T7', 'C3', 'C4', 'T8', 'P7', 'P3', 'P4', 'P8', 'O1', 'O2']\n",
    "                    ch_types = ['eeg'] * 16\n",
    "                    info = mne.create_info(\n",
    "                        ch_names=ch_names,\n",
    "                        sfreq=125,\n",
    "                        ch_types=ch_types)\n",
    "                    info.set_montage('standard_1020', match_case=False)\n",
    "\n",
    "                    # Match pattern EEG-Sxx (xx = any number)\n",
    "                    regex = r\"\\D{3}-S\\d+\"\n",
    "\n",
    "                    # %% Create filenames for *.fif based on the sequence of labels above\n",
    "                    # filenames_fif = []\n",
    "                    extracted_file_name_4_baseline = []\n",
    "                    for i in chosenOrder:\n",
    "                        # filenames_fif.append(fileName[4:fileName.index(\".\")] + \"-\" + i + \"_raw.fif\")\n",
    "                        # Find characters (file name) that matches the regex\n",
    "                        extracted_file_name = re.search(regex,fileName)\n",
    "                        extracted_file_name_4_baseline.append(fileName[extracted_file_name.start() : extracted_file_name.end()] + \"-\" + i + \"_raw.fif\")\n",
    "\n",
    "\n",
    "                    #%% Save into *.fif files\n",
    "                    for i, val in tqdm(enumerate(chunkedData), desc = \"Saving process...\"):\n",
    "                        # Load data into MNE-Python\n",
    "                        baseline_data_needs_label = mne.io.RawArray(val.transpose(), info, verbose=False)\n",
    "                        # Define a folder where we want to save the baseline data\n",
    "                        os.chdir(path_2_save_baseline_file) \n",
    "                        # Save the data in MNE format\n",
    "                        baseline_data_needs_label.save(extracted_file_name_4_baseline[i], overwrite=True)\n",
    "\n",
    "\n",
    "    print(f\"All baseline files have been saved in fif format in this path {path_2_save_baseline_file}\")       \n",
    "            \n"
   ]
  },
  {
   "cell_type": "markdown",
   "metadata": {},
   "source": [
    "Running the function of extract_baseline_eeg_data"
   ]
  },
  {
   "cell_type": "code",
   "execution_count": 3,
   "metadata": {},
   "outputs": [],
   "source": [
    "# TODO Uncomment this when checked\n",
    "labelsequence = 1\n",
    "\n",
    "# TODO Uncomment this when checked\n",
    "path_2_csv_files = \"/hpc/igum002/codes/Hyperscanning2-redesign/data/EEG/\"\n",
    "\n",
    "# TODO Uncomment this when checked\n",
    "path_2_save_baseline_file = \"/hpc/igum002/codes/Hyperscanning2-redesign/data/EEG/raw_baseline_data\"\n",
    "\n",
    "# bad_file_list = [\"EEG-S8.csv\"]\n",
    "\n",
    "extract_baseline_eeg_data(path_2_csv_files, path_2_save_baseline_file, labelsequence)\n",
    "\n"
   ]
  },
  {
   "cell_type": "markdown",
   "metadata": {},
   "source": [
    "Extract experimental eeg data "
   ]
  },
  {
   "cell_type": "code",
   "execution_count": 25,
   "metadata": {},
   "outputs": [
    {
     "name": "stderr",
     "output_type": "stream",
     "text": [
      "In progress:   0%|                                       | 0/16 [00:00<?, ?it/s]"
     ]
    },
    {
     "name": "stdout",
     "output_type": "stream",
     "text": [
      "Processing file : EEG-S01.csv\n"
     ]
    },
    {
     "name": "stderr",
     "output_type": "stream",
     "text": [
      "100%|██████████████████████████████████████████| 6/6 [00:00<00:00, 26241.74it/s]\n"
     ]
    },
    {
     "name": "stdout",
     "output_type": "stream",
     "text": [
      "Writing /hpc/igum002/codes/Hyperscanning2-redesign/data/EEG/raw_experimental_data/EEG-S01-averted_pre_right_point_raw.fif\n",
      "Closing /hpc/igum002/codes/Hyperscanning2-redesign/data/EEG/raw_experimental_data/EEG-S01-averted_pre_right_point_raw.fif\n",
      "[done]\n",
      "Writing /hpc/igum002/codes/Hyperscanning2-redesign/data/EEG/raw_experimental_data/EEG-S01-averted_pre_left_point_raw.fif\n",
      "Closing /hpc/igum002/codes/Hyperscanning2-redesign/data/EEG/raw_experimental_data/EEG-S01-averted_pre_left_point_raw.fif\n",
      "[done]\n",
      "Writing /hpc/igum002/codes/Hyperscanning2-redesign/data/EEG/raw_experimental_data/EEG-S01-averted_left_tracking_raw.fif\n",
      "Closing /hpc/igum002/codes/Hyperscanning2-redesign/data/EEG/raw_experimental_data/EEG-S01-averted_left_tracking_raw.fif\n",
      "[done]\n",
      "Writing /hpc/igum002/codes/Hyperscanning2-redesign/data/EEG/raw_experimental_data/EEG-S01-averted_right_tracking_raw.fif\n",
      "Closing /hpc/igum002/codes/Hyperscanning2-redesign/data/EEG/raw_experimental_data/EEG-S01-averted_right_tracking_raw.fif\n",
      "[done]\n",
      "Writing /hpc/igum002/codes/Hyperscanning2-redesign/data/EEG/raw_experimental_data/EEG-S01-averted_post_right_point_raw.fif\n",
      "Closing /hpc/igum002/codes/Hyperscanning2-redesign/data/EEG/raw_experimental_data/EEG-S01-averted_post_right_point_raw.fif\n",
      "[done]\n",
      "Writing /hpc/igum002/codes/Hyperscanning2-redesign/data/EEG/raw_experimental_data/EEG-S01-averted_post_left_point_raw.fif\n",
      "Closing /hpc/igum002/codes/Hyperscanning2-redesign/data/EEG/raw_experimental_data/EEG-S01-averted_post_left_point_raw.fif\n",
      "[done]\n"
     ]
    },
    {
     "name": "stderr",
     "output_type": "stream",
     "text": [
      "Saving process...: 6it [00:00, 47.98it/s]\n",
      "In progress:   6%|█▉                             | 1/16 [00:01<00:21,  1.44s/it]"
     ]
    },
    {
     "name": "stdout",
     "output_type": "stream",
     "text": [
      "Processing file : EEG-S02.csv\n"
     ]
    },
    {
     "name": "stderr",
     "output_type": "stream",
     "text": [
      "100%|██████████████████████████████████████████| 6/6 [00:00<00:00, 29059.84it/s]\n"
     ]
    },
    {
     "name": "stdout",
     "output_type": "stream",
     "text": [
      "Writing /hpc/igum002/codes/Hyperscanning2-redesign/data/EEG/raw_experimental_data/EEG-S02-averted_pre_left_point_raw.fif\n",
      "Closing /hpc/igum002/codes/Hyperscanning2-redesign/data/EEG/raw_experimental_data/EEG-S02-averted_pre_left_point_raw.fif\n",
      "[done]\n",
      "Writing /hpc/igum002/codes/Hyperscanning2-redesign/data/EEG/raw_experimental_data/EEG-S02-averted_pre_right_point_raw.fif\n",
      "Closing /hpc/igum002/codes/Hyperscanning2-redesign/data/EEG/raw_experimental_data/EEG-S02-averted_pre_right_point_raw.fif\n",
      "[done]\n",
      "Writing /hpc/igum002/codes/Hyperscanning2-redesign/data/EEG/raw_experimental_data/EEG-S02-averted_right_tracking_raw.fif\n",
      "Closing /hpc/igum002/codes/Hyperscanning2-redesign/data/EEG/raw_experimental_data/EEG-S02-averted_right_tracking_raw.fif\n",
      "[done]\n",
      "Writing /hpc/igum002/codes/Hyperscanning2-redesign/data/EEG/raw_experimental_data/EEG-S02-averted_left_tracking_raw.fif\n",
      "Closing /hpc/igum002/codes/Hyperscanning2-redesign/data/EEG/raw_experimental_data/EEG-S02-averted_left_tracking_raw.fif\n",
      "[done]\n",
      "Writing /hpc/igum002/codes/Hyperscanning2-redesign/data/EEG/raw_experimental_data/EEG-S02-averted_post_left_point_raw.fif\n",
      "Closing /hpc/igum002/codes/Hyperscanning2-redesign/data/EEG/raw_experimental_data/EEG-S02-averted_post_left_point_raw.fif\n",
      "[done]\n",
      "Writing /hpc/igum002/codes/Hyperscanning2-redesign/data/EEG/raw_experimental_data/EEG-S02-averted_post_right_point_raw.fif\n",
      "Closing /hpc/igum002/codes/Hyperscanning2-redesign/data/EEG/raw_experimental_data/EEG-S02-averted_post_right_point_raw.fif\n",
      "[done]\n"
     ]
    },
    {
     "name": "stderr",
     "output_type": "stream",
     "text": [
      "Saving process...: 6it [00:00, 48.35it/s]\n",
      "In progress:  12%|███▉                           | 2/16 [00:02<00:20,  1.44s/it]"
     ]
    },
    {
     "name": "stdout",
     "output_type": "stream",
     "text": [
      "Processing file : EEG-S03.csv\n"
     ]
    },
    {
     "name": "stderr",
     "output_type": "stream",
     "text": [
      "100%|██████████████████████████████████████████| 6/6 [00:00<00:00, 29502.72it/s]\n"
     ]
    },
    {
     "name": "stdout",
     "output_type": "stream",
     "text": [
      "Writing /hpc/igum002/codes/Hyperscanning2-redesign/data/EEG/raw_experimental_data/EEG-S03-averted_pre_right_point_raw.fif\n",
      "Closing /hpc/igum002/codes/Hyperscanning2-redesign/data/EEG/raw_experimental_data/EEG-S03-averted_pre_right_point_raw.fif\n",
      "[done]\n",
      "Writing /hpc/igum002/codes/Hyperscanning2-redesign/data/EEG/raw_experimental_data/EEG-S03-averted_pre_left_point_raw.fif\n",
      "Closing /hpc/igum002/codes/Hyperscanning2-redesign/data/EEG/raw_experimental_data/EEG-S03-averted_pre_left_point_raw.fif\n",
      "[done]\n",
      "Writing /hpc/igum002/codes/Hyperscanning2-redesign/data/EEG/raw_experimental_data/EEG-S03-averted_left_tracking_raw.fif\n",
      "Closing /hpc/igum002/codes/Hyperscanning2-redesign/data/EEG/raw_experimental_data/EEG-S03-averted_left_tracking_raw.fif\n",
      "[done]\n",
      "Writing /hpc/igum002/codes/Hyperscanning2-redesign/data/EEG/raw_experimental_data/EEG-S03-averted_right_tracking_raw.fif\n",
      "Closing /hpc/igum002/codes/Hyperscanning2-redesign/data/EEG/raw_experimental_data/EEG-S03-averted_right_tracking_raw.fif\n",
      "[done]\n",
      "Writing /hpc/igum002/codes/Hyperscanning2-redesign/data/EEG/raw_experimental_data/EEG-S03-averted_post_right_point_raw.fif\n",
      "Closing /hpc/igum002/codes/Hyperscanning2-redesign/data/EEG/raw_experimental_data/EEG-S03-averted_post_right_point_raw.fif\n",
      "[done]\n",
      "Writing /hpc/igum002/codes/Hyperscanning2-redesign/data/EEG/raw_experimental_data/EEG-S03-averted_post_left_point_raw.fif\n",
      "Closing /hpc/igum002/codes/Hyperscanning2-redesign/data/EEG/raw_experimental_data/EEG-S03-averted_post_left_point_raw.fif\n",
      "[done]\n"
     ]
    },
    {
     "name": "stderr",
     "output_type": "stream",
     "text": [
      "Saving process...: 6it [00:00, 24.92it/s]\n",
      "In progress:  19%|█████▊                         | 3/16 [00:04<00:21,  1.64s/it]"
     ]
    },
    {
     "name": "stdout",
     "output_type": "stream",
     "text": [
      "Processing file : EEG-S04.csv\n"
     ]
    },
    {
     "name": "stderr",
     "output_type": "stream",
     "text": [
      "100%|██████████████████████████████████████████| 6/6 [00:00<00:00, 29296.65it/s]\n"
     ]
    },
    {
     "name": "stdout",
     "output_type": "stream",
     "text": [
      "Writing /hpc/igum002/codes/Hyperscanning2-redesign/data/EEG/raw_experimental_data/EEG-S04-averted_pre_left_point_raw.fif\n",
      "Closing /hpc/igum002/codes/Hyperscanning2-redesign/data/EEG/raw_experimental_data/EEG-S04-averted_pre_left_point_raw.fif\n",
      "[done]\n",
      "Writing /hpc/igum002/codes/Hyperscanning2-redesign/data/EEG/raw_experimental_data/EEG-S04-averted_pre_right_point_raw.fif\n",
      "Closing /hpc/igum002/codes/Hyperscanning2-redesign/data/EEG/raw_experimental_data/EEG-S04-averted_pre_right_point_raw.fif\n",
      "[done]\n",
      "Writing /hpc/igum002/codes/Hyperscanning2-redesign/data/EEG/raw_experimental_data/EEG-S04-averted_right_tracking_raw.fif\n",
      "Closing /hpc/igum002/codes/Hyperscanning2-redesign/data/EEG/raw_experimental_data/EEG-S04-averted_right_tracking_raw.fif\n",
      "[done]\n",
      "Writing /hpc/igum002/codes/Hyperscanning2-redesign/data/EEG/raw_experimental_data/EEG-S04-averted_left_tracking_raw.fif\n",
      "Closing /hpc/igum002/codes/Hyperscanning2-redesign/data/EEG/raw_experimental_data/EEG-S04-averted_left_tracking_raw.fif\n",
      "[done]\n",
      "Writing /hpc/igum002/codes/Hyperscanning2-redesign/data/EEG/raw_experimental_data/EEG-S04-averted_post_left_point_raw.fif\n",
      "Closing /hpc/igum002/codes/Hyperscanning2-redesign/data/EEG/raw_experimental_data/EEG-S04-averted_post_left_point_raw.fif\n",
      "[done]\n",
      "Writing /hpc/igum002/codes/Hyperscanning2-redesign/data/EEG/raw_experimental_data/EEG-S04-averted_post_right_point_raw.fif\n",
      "Closing /hpc/igum002/codes/Hyperscanning2-redesign/data/EEG/raw_experimental_data/EEG-S04-averted_post_right_point_raw.fif\n",
      "[done]\n"
     ]
    },
    {
     "name": "stderr",
     "output_type": "stream",
     "text": [
      "Saving process...: 6it [00:00, 29.08it/s]\n",
      "In progress:  25%|███████▊                       | 4/16 [00:06<00:21,  1.80s/it]"
     ]
    },
    {
     "name": "stdout",
     "output_type": "stream",
     "text": [
      "Processing file : EEG-S05.csv\n"
     ]
    },
    {
     "name": "stderr",
     "output_type": "stream",
     "text": [
      "100%|██████████████████████████████████████████| 6/6 [00:00<00:00, 28893.02it/s]\n"
     ]
    },
    {
     "name": "stdout",
     "output_type": "stream",
     "text": [
      "Writing /hpc/igum002/codes/Hyperscanning2-redesign/data/EEG/raw_experimental_data/EEG-S05-averted_pre_right_point_raw.fif\n",
      "Closing /hpc/igum002/codes/Hyperscanning2-redesign/data/EEG/raw_experimental_data/EEG-S05-averted_pre_right_point_raw.fif\n",
      "[done]\n",
      "Writing /hpc/igum002/codes/Hyperscanning2-redesign/data/EEG/raw_experimental_data/EEG-S05-averted_pre_left_point_raw.fif\n",
      "Closing /hpc/igum002/codes/Hyperscanning2-redesign/data/EEG/raw_experimental_data/EEG-S05-averted_pre_left_point_raw.fif\n",
      "[done]\n",
      "Writing /hpc/igum002/codes/Hyperscanning2-redesign/data/EEG/raw_experimental_data/EEG-S05-averted_left_tracking_raw.fif\n",
      "Closing /hpc/igum002/codes/Hyperscanning2-redesign/data/EEG/raw_experimental_data/EEG-S05-averted_left_tracking_raw.fif\n",
      "[done]\n",
      "Writing /hpc/igum002/codes/Hyperscanning2-redesign/data/EEG/raw_experimental_data/EEG-S05-averted_right_tracking_raw.fif\n",
      "Closing /hpc/igum002/codes/Hyperscanning2-redesign/data/EEG/raw_experimental_data/EEG-S05-averted_right_tracking_raw.fif\n",
      "[done]\n",
      "Writing /hpc/igum002/codes/Hyperscanning2-redesign/data/EEG/raw_experimental_data/EEG-S05-averted_post_right_point_raw.fif\n",
      "Closing /hpc/igum002/codes/Hyperscanning2-redesign/data/EEG/raw_experimental_data/EEG-S05-averted_post_right_point_raw.fif\n",
      "[done]\n",
      "Writing /hpc/igum002/codes/Hyperscanning2-redesign/data/EEG/raw_experimental_data/EEG-S05-averted_post_left_point_raw.fif\n",
      "Closing /hpc/igum002/codes/Hyperscanning2-redesign/data/EEG/raw_experimental_data/EEG-S05-averted_post_left_point_raw.fif\n",
      "[done]\n"
     ]
    },
    {
     "name": "stderr",
     "output_type": "stream",
     "text": [
      "Saving process...: 6it [00:00, 46.82it/s]\n",
      "In progress:  31%|█████████▋                     | 5/16 [00:08<00:17,  1.60s/it]"
     ]
    },
    {
     "name": "stdout",
     "output_type": "stream",
     "text": [
      "Processing file : EEG-S06.csv\n"
     ]
    },
    {
     "name": "stderr",
     "output_type": "stream",
     "text": [
      "100%|██████████████████████████████████████████| 6/6 [00:00<00:00, 28532.68it/s]\n"
     ]
    },
    {
     "name": "stdout",
     "output_type": "stream",
     "text": [
      "Writing /hpc/igum002/codes/Hyperscanning2-redesign/data/EEG/raw_experimental_data/EEG-S06-averted_pre_left_point_raw.fif\n",
      "Closing /hpc/igum002/codes/Hyperscanning2-redesign/data/EEG/raw_experimental_data/EEG-S06-averted_pre_left_point_raw.fif\n",
      "[done]\n",
      "Writing /hpc/igum002/codes/Hyperscanning2-redesign/data/EEG/raw_experimental_data/EEG-S06-averted_pre_right_point_raw.fif\n",
      "Closing /hpc/igum002/codes/Hyperscanning2-redesign/data/EEG/raw_experimental_data/EEG-S06-averted_pre_right_point_raw.fif\n",
      "[done]\n",
      "Writing /hpc/igum002/codes/Hyperscanning2-redesign/data/EEG/raw_experimental_data/EEG-S06-averted_right_tracking_raw.fif\n",
      "Closing /hpc/igum002/codes/Hyperscanning2-redesign/data/EEG/raw_experimental_data/EEG-S06-averted_right_tracking_raw.fif\n",
      "[done]\n",
      "Writing /hpc/igum002/codes/Hyperscanning2-redesign/data/EEG/raw_experimental_data/EEG-S06-averted_left_tracking_raw.fif\n",
      "Closing /hpc/igum002/codes/Hyperscanning2-redesign/data/EEG/raw_experimental_data/EEG-S06-averted_left_tracking_raw.fif\n",
      "[done]\n",
      "Writing /hpc/igum002/codes/Hyperscanning2-redesign/data/EEG/raw_experimental_data/EEG-S06-averted_post_left_point_raw.fif\n",
      "Closing /hpc/igum002/codes/Hyperscanning2-redesign/data/EEG/raw_experimental_data/EEG-S06-averted_post_left_point_raw.fif\n",
      "[done]\n",
      "Writing /hpc/igum002/codes/Hyperscanning2-redesign/data/EEG/raw_experimental_data/EEG-S06-averted_post_right_point_raw.fif\n",
      "Closing /hpc/igum002/codes/Hyperscanning2-redesign/data/EEG/raw_experimental_data/EEG-S06-averted_post_right_point_raw.fif\n",
      "[done]\n"
     ]
    },
    {
     "name": "stderr",
     "output_type": "stream",
     "text": [
      "Saving process...: 6it [00:00, 49.11it/s]\n",
      "In progress:  38%|███████████▋                   | 6/16 [00:09<00:14,  1.47s/it]"
     ]
    },
    {
     "name": "stdout",
     "output_type": "stream",
     "text": [
      "Processing file : EEG-S07.csv\n"
     ]
    },
    {
     "name": "stderr",
     "output_type": "stream",
     "text": [
      "100%|██████████████████████████████████████████| 6/6 [00:00<00:00, 29676.68it/s]\n"
     ]
    },
    {
     "name": "stdout",
     "output_type": "stream",
     "text": [
      "Writing /hpc/igum002/codes/Hyperscanning2-redesign/data/EEG/raw_experimental_data/EEG-S07-averted_pre_right_point_raw.fif\n",
      "Closing /hpc/igum002/codes/Hyperscanning2-redesign/data/EEG/raw_experimental_data/EEG-S07-averted_pre_right_point_raw.fif\n",
      "[done]\n",
      "Writing /hpc/igum002/codes/Hyperscanning2-redesign/data/EEG/raw_experimental_data/EEG-S07-averted_pre_left_point_raw.fif\n",
      "Closing /hpc/igum002/codes/Hyperscanning2-redesign/data/EEG/raw_experimental_data/EEG-S07-averted_pre_left_point_raw.fif\n",
      "[done]\n",
      "Writing /hpc/igum002/codes/Hyperscanning2-redesign/data/EEG/raw_experimental_data/EEG-S07-averted_left_tracking_raw.fif\n",
      "Closing /hpc/igum002/codes/Hyperscanning2-redesign/data/EEG/raw_experimental_data/EEG-S07-averted_left_tracking_raw.fif\n",
      "[done]\n",
      "Writing /hpc/igum002/codes/Hyperscanning2-redesign/data/EEG/raw_experimental_data/EEG-S07-averted_right_tracking_raw.fif\n",
      "Closing /hpc/igum002/codes/Hyperscanning2-redesign/data/EEG/raw_experimental_data/EEG-S07-averted_right_tracking_raw.fif\n",
      "[done]\n",
      "Writing /hpc/igum002/codes/Hyperscanning2-redesign/data/EEG/raw_experimental_data/EEG-S07-averted_post_right_point_raw.fif\n",
      "Closing /hpc/igum002/codes/Hyperscanning2-redesign/data/EEG/raw_experimental_data/EEG-S07-averted_post_right_point_raw.fif\n",
      "[done]\n",
      "Writing /hpc/igum002/codes/Hyperscanning2-redesign/data/EEG/raw_experimental_data/EEG-S07-averted_post_left_point_raw.fif\n",
      "Closing /hpc/igum002/codes/Hyperscanning2-redesign/data/EEG/raw_experimental_data/EEG-S07-averted_post_left_point_raw.fif\n",
      "[done]\n"
     ]
    },
    {
     "name": "stderr",
     "output_type": "stream",
     "text": [
      "Saving process...: 6it [00:00, 34.58it/s]\n",
      "In progress:  44%|█████████████▌                 | 7/16 [00:10<00:13,  1.47s/it]"
     ]
    },
    {
     "name": "stdout",
     "output_type": "stream",
     "text": [
      "Processing file : EEG-S08.csv\n"
     ]
    },
    {
     "name": "stderr",
     "output_type": "stream",
     "text": [
      "100%|██████████████████████████████████████████| 6/6 [00:00<00:00, 28662.67it/s]\n"
     ]
    },
    {
     "name": "stdout",
     "output_type": "stream",
     "text": [
      "Writing /hpc/igum002/codes/Hyperscanning2-redesign/data/EEG/raw_experimental_data/EEG-S08-averted_pre_left_point_raw.fif\n",
      "Closing /hpc/igum002/codes/Hyperscanning2-redesign/data/EEG/raw_experimental_data/EEG-S08-averted_pre_left_point_raw.fif\n",
      "[done]\n",
      "Writing /hpc/igum002/codes/Hyperscanning2-redesign/data/EEG/raw_experimental_data/EEG-S08-averted_pre_right_point_raw.fif\n",
      "Closing /hpc/igum002/codes/Hyperscanning2-redesign/data/EEG/raw_experimental_data/EEG-S08-averted_pre_right_point_raw.fif\n",
      "[done]\n",
      "Writing /hpc/igum002/codes/Hyperscanning2-redesign/data/EEG/raw_experimental_data/EEG-S08-averted_right_tracking_raw.fif\n",
      "Closing /hpc/igum002/codes/Hyperscanning2-redesign/data/EEG/raw_experimental_data/EEG-S08-averted_right_tracking_raw.fif\n",
      "[done]\n",
      "Writing /hpc/igum002/codes/Hyperscanning2-redesign/data/EEG/raw_experimental_data/EEG-S08-averted_left_tracking_raw.fif\n",
      "Closing /hpc/igum002/codes/Hyperscanning2-redesign/data/EEG/raw_experimental_data/EEG-S08-averted_left_tracking_raw.fif\n",
      "[done]\n",
      "Writing /hpc/igum002/codes/Hyperscanning2-redesign/data/EEG/raw_experimental_data/EEG-S08-averted_post_left_point_raw.fif\n",
      "Closing /hpc/igum002/codes/Hyperscanning2-redesign/data/EEG/raw_experimental_data/EEG-S08-averted_post_left_point_raw.fif\n",
      "[done]\n",
      "Writing /hpc/igum002/codes/Hyperscanning2-redesign/data/EEG/raw_experimental_data/EEG-S08-averted_post_right_point_raw.fif\n",
      "Closing /hpc/igum002/codes/Hyperscanning2-redesign/data/EEG/raw_experimental_data/EEG-S08-averted_post_right_point_raw.fif\n",
      "[done]\n"
     ]
    },
    {
     "name": "stderr",
     "output_type": "stream",
     "text": [
      "Saving process...: 6it [00:00, 33.63it/s]\n",
      "In progress:  50%|███████████████▌               | 8/16 [00:12<00:11,  1.48s/it]"
     ]
    },
    {
     "name": "stdout",
     "output_type": "stream",
     "text": [
      "Processing file : EEG-S09.csv\n"
     ]
    },
    {
     "name": "stderr",
     "output_type": "stream",
     "text": [
      "100%|██████████████████████████████████████████| 6/6 [00:00<00:00, 28149.69it/s]\n"
     ]
    },
    {
     "name": "stdout",
     "output_type": "stream",
     "text": [
      "Writing /hpc/igum002/codes/Hyperscanning2-redesign/data/EEG/raw_experimental_data/EEG-S09-averted_pre_right_point_raw.fif\n",
      "Closing /hpc/igum002/codes/Hyperscanning2-redesign/data/EEG/raw_experimental_data/EEG-S09-averted_pre_right_point_raw.fif\n",
      "[done]\n",
      "Writing /hpc/igum002/codes/Hyperscanning2-redesign/data/EEG/raw_experimental_data/EEG-S09-averted_pre_left_point_raw.fif\n",
      "Closing /hpc/igum002/codes/Hyperscanning2-redesign/data/EEG/raw_experimental_data/EEG-S09-averted_pre_left_point_raw.fif\n",
      "[done]\n",
      "Writing /hpc/igum002/codes/Hyperscanning2-redesign/data/EEG/raw_experimental_data/EEG-S09-averted_left_tracking_raw.fif\n",
      "Closing /hpc/igum002/codes/Hyperscanning2-redesign/data/EEG/raw_experimental_data/EEG-S09-averted_left_tracking_raw.fif\n",
      "[done]\n",
      "Writing /hpc/igum002/codes/Hyperscanning2-redesign/data/EEG/raw_experimental_data/EEG-S09-averted_right_tracking_raw.fif\n",
      "Closing /hpc/igum002/codes/Hyperscanning2-redesign/data/EEG/raw_experimental_data/EEG-S09-averted_right_tracking_raw.fif\n",
      "[done]\n",
      "Writing /hpc/igum002/codes/Hyperscanning2-redesign/data/EEG/raw_experimental_data/EEG-S09-averted_post_right_point_raw.fif\n",
      "Closing /hpc/igum002/codes/Hyperscanning2-redesign/data/EEG/raw_experimental_data/EEG-S09-averted_post_right_point_raw.fif\n",
      "[done]\n",
      "Writing /hpc/igum002/codes/Hyperscanning2-redesign/data/EEG/raw_experimental_data/EEG-S09-averted_post_left_point_raw.fif\n",
      "Closing /hpc/igum002/codes/Hyperscanning2-redesign/data/EEG/raw_experimental_data/EEG-S09-averted_post_left_point_raw.fif\n",
      "[done]\n"
     ]
    },
    {
     "name": "stderr",
     "output_type": "stream",
     "text": [
      "Saving process...: 6it [00:00, 44.81it/s]\n",
      "In progress:  56%|█████████████████▍             | 9/16 [00:13<00:10,  1.45s/it]"
     ]
    },
    {
     "name": "stdout",
     "output_type": "stream",
     "text": [
      "Processing file : EEG-S10.csv\n"
     ]
    },
    {
     "name": "stderr",
     "output_type": "stream",
     "text": [
      "100%|██████████████████████████████████████████| 6/6 [00:00<00:00, 29160.86it/s]\n"
     ]
    },
    {
     "name": "stdout",
     "output_type": "stream",
     "text": [
      "Writing /hpc/igum002/codes/Hyperscanning2-redesign/data/EEG/raw_experimental_data/EEG-S10-averted_pre_left_point_raw.fif\n",
      "Closing /hpc/igum002/codes/Hyperscanning2-redesign/data/EEG/raw_experimental_data/EEG-S10-averted_pre_left_point_raw.fif\n",
      "[done]\n",
      "Writing /hpc/igum002/codes/Hyperscanning2-redesign/data/EEG/raw_experimental_data/EEG-S10-averted_pre_right_point_raw.fif\n",
      "Closing /hpc/igum002/codes/Hyperscanning2-redesign/data/EEG/raw_experimental_data/EEG-S10-averted_pre_right_point_raw.fif\n",
      "[done]\n",
      "Writing /hpc/igum002/codes/Hyperscanning2-redesign/data/EEG/raw_experimental_data/EEG-S10-averted_right_tracking_raw.fif\n",
      "Closing /hpc/igum002/codes/Hyperscanning2-redesign/data/EEG/raw_experimental_data/EEG-S10-averted_right_tracking_raw.fif\n",
      "[done]\n",
      "Writing /hpc/igum002/codes/Hyperscanning2-redesign/data/EEG/raw_experimental_data/EEG-S10-averted_left_tracking_raw.fif\n",
      "Closing /hpc/igum002/codes/Hyperscanning2-redesign/data/EEG/raw_experimental_data/EEG-S10-averted_left_tracking_raw.fif\n",
      "[done]\n",
      "Writing /hpc/igum002/codes/Hyperscanning2-redesign/data/EEG/raw_experimental_data/EEG-S10-averted_post_left_point_raw.fif\n",
      "Closing /hpc/igum002/codes/Hyperscanning2-redesign/data/EEG/raw_experimental_data/EEG-S10-averted_post_left_point_raw.fif\n",
      "[done]\n",
      "Writing /hpc/igum002/codes/Hyperscanning2-redesign/data/EEG/raw_experimental_data/EEG-S10-averted_post_right_point_raw.fif\n",
      "Closing /hpc/igum002/codes/Hyperscanning2-redesign/data/EEG/raw_experimental_data/EEG-S10-averted_post_right_point_raw.fif\n",
      "[done]\n"
     ]
    },
    {
     "name": "stderr",
     "output_type": "stream",
     "text": [
      "Saving process...: 6it [00:00, 44.35it/s]\n",
      "In progress:  62%|██████████████████▊           | 10/16 [00:15<00:08,  1.44s/it]"
     ]
    },
    {
     "name": "stdout",
     "output_type": "stream",
     "text": [
      "Processing file : EEG-S11.csv\n"
     ]
    },
    {
     "name": "stderr",
     "output_type": "stream",
     "text": [
      "100%|██████████████████████████████████████████| 6/6 [00:00<00:00, 28695.35it/s]\n"
     ]
    },
    {
     "name": "stdout",
     "output_type": "stream",
     "text": [
      "Writing /hpc/igum002/codes/Hyperscanning2-redesign/data/EEG/raw_experimental_data/EEG-S11-averted_pre_right_point_raw.fif\n",
      "Closing /hpc/igum002/codes/Hyperscanning2-redesign/data/EEG/raw_experimental_data/EEG-S11-averted_pre_right_point_raw.fif\n",
      "[done]\n",
      "Writing /hpc/igum002/codes/Hyperscanning2-redesign/data/EEG/raw_experimental_data/EEG-S11-averted_pre_left_point_raw.fif\n",
      "Closing /hpc/igum002/codes/Hyperscanning2-redesign/data/EEG/raw_experimental_data/EEG-S11-averted_pre_left_point_raw.fif\n",
      "[done]\n",
      "Writing /hpc/igum002/codes/Hyperscanning2-redesign/data/EEG/raw_experimental_data/EEG-S11-averted_left_tracking_raw.fif\n",
      "Closing /hpc/igum002/codes/Hyperscanning2-redesign/data/EEG/raw_experimental_data/EEG-S11-averted_left_tracking_raw.fif\n",
      "[done]\n",
      "Writing /hpc/igum002/codes/Hyperscanning2-redesign/data/EEG/raw_experimental_data/EEG-S11-averted_right_tracking_raw.fif\n",
      "Closing /hpc/igum002/codes/Hyperscanning2-redesign/data/EEG/raw_experimental_data/EEG-S11-averted_right_tracking_raw.fif\n",
      "[done]\n",
      "Writing /hpc/igum002/codes/Hyperscanning2-redesign/data/EEG/raw_experimental_data/EEG-S11-averted_post_right_point_raw.fif\n",
      "Closing /hpc/igum002/codes/Hyperscanning2-redesign/data/EEG/raw_experimental_data/EEG-S11-averted_post_right_point_raw.fif\n",
      "[done]\n",
      "Writing /hpc/igum002/codes/Hyperscanning2-redesign/data/EEG/raw_experimental_data/EEG-S11-averted_post_left_point_raw.fif\n",
      "Closing /hpc/igum002/codes/Hyperscanning2-redesign/data/EEG/raw_experimental_data/EEG-S11-averted_post_left_point_raw.fif\n",
      "[done]\n"
     ]
    },
    {
     "name": "stderr",
     "output_type": "stream",
     "text": [
      "Saving process...: 6it [00:00, 42.87it/s]\n",
      "In progress:  69%|████████████████████▋         | 11/16 [00:16<00:06,  1.35s/it]"
     ]
    },
    {
     "name": "stdout",
     "output_type": "stream",
     "text": [
      "Processing file : EEG-S12.csv\n"
     ]
    },
    {
     "name": "stderr",
     "output_type": "stream",
     "text": [
      "100%|██████████████████████████████████████████| 6/6 [00:00<00:00, 28086.86it/s]\n"
     ]
    },
    {
     "name": "stdout",
     "output_type": "stream",
     "text": [
      "Writing /hpc/igum002/codes/Hyperscanning2-redesign/data/EEG/raw_experimental_data/EEG-S12-averted_pre_left_point_raw.fif\n",
      "Closing /hpc/igum002/codes/Hyperscanning2-redesign/data/EEG/raw_experimental_data/EEG-S12-averted_pre_left_point_raw.fif\n",
      "[done]\n",
      "Writing /hpc/igum002/codes/Hyperscanning2-redesign/data/EEG/raw_experimental_data/EEG-S12-averted_pre_right_point_raw.fif\n",
      "Closing /hpc/igum002/codes/Hyperscanning2-redesign/data/EEG/raw_experimental_data/EEG-S12-averted_pre_right_point_raw.fif\n",
      "[done]\n",
      "Writing /hpc/igum002/codes/Hyperscanning2-redesign/data/EEG/raw_experimental_data/EEG-S12-averted_right_tracking_raw.fif\n",
      "Closing /hpc/igum002/codes/Hyperscanning2-redesign/data/EEG/raw_experimental_data/EEG-S12-averted_right_tracking_raw.fif\n",
      "[done]\n",
      "Writing /hpc/igum002/codes/Hyperscanning2-redesign/data/EEG/raw_experimental_data/EEG-S12-averted_left_tracking_raw.fif\n",
      "Closing /hpc/igum002/codes/Hyperscanning2-redesign/data/EEG/raw_experimental_data/EEG-S12-averted_left_tracking_raw.fif\n",
      "[done]\n",
      "Writing /hpc/igum002/codes/Hyperscanning2-redesign/data/EEG/raw_experimental_data/EEG-S12-averted_post_left_point_raw.fif\n",
      "Closing /hpc/igum002/codes/Hyperscanning2-redesign/data/EEG/raw_experimental_data/EEG-S12-averted_post_left_point_raw.fif\n",
      "[done]\n",
      "Writing /hpc/igum002/codes/Hyperscanning2-redesign/data/EEG/raw_experimental_data/EEG-S12-averted_post_right_point_raw.fif\n",
      "Closing /hpc/igum002/codes/Hyperscanning2-redesign/data/EEG/raw_experimental_data/EEG-S12-averted_post_right_point_raw.fif\n",
      "[done]\n"
     ]
    },
    {
     "name": "stderr",
     "output_type": "stream",
     "text": [
      "Saving process...: 6it [00:00, 39.81it/s]\n",
      "In progress:  75%|██████████████████████▌       | 12/16 [00:17<00:05,  1.34s/it]"
     ]
    },
    {
     "name": "stdout",
     "output_type": "stream",
     "text": [
      "Processing file : EEG-S13.csv\n"
     ]
    },
    {
     "name": "stderr",
     "output_type": "stream",
     "text": [
      "100%|██████████████████████████████████████████| 6/6 [00:00<00:00, 29399.33it/s]\n"
     ]
    },
    {
     "name": "stdout",
     "output_type": "stream",
     "text": [
      "Writing /hpc/igum002/codes/Hyperscanning2-redesign/data/EEG/raw_experimental_data/EEG-S13-direct_pre_right_point_raw.fif\n",
      "Closing /hpc/igum002/codes/Hyperscanning2-redesign/data/EEG/raw_experimental_data/EEG-S13-direct_pre_right_point_raw.fif\n",
      "[done]\n",
      "Writing /hpc/igum002/codes/Hyperscanning2-redesign/data/EEG/raw_experimental_data/EEG-S13-direct_pre_left_point_raw.fif\n",
      "Closing /hpc/igum002/codes/Hyperscanning2-redesign/data/EEG/raw_experimental_data/EEG-S13-direct_pre_left_point_raw.fif\n",
      "[done]\n",
      "Writing /hpc/igum002/codes/Hyperscanning2-redesign/data/EEG/raw_experimental_data/EEG-S13-direct_left_tracking_raw.fif\n",
      "Closing /hpc/igum002/codes/Hyperscanning2-redesign/data/EEG/raw_experimental_data/EEG-S13-direct_left_tracking_raw.fif\n",
      "[done]\n",
      "Writing /hpc/igum002/codes/Hyperscanning2-redesign/data/EEG/raw_experimental_data/EEG-S13-direct_right_tracking_raw.fif\n",
      "Closing /hpc/igum002/codes/Hyperscanning2-redesign/data/EEG/raw_experimental_data/EEG-S13-direct_right_tracking_raw.fif\n",
      "[done]\n",
      "Writing /hpc/igum002/codes/Hyperscanning2-redesign/data/EEG/raw_experimental_data/EEG-S13-direct_post_right_point_raw.fif\n",
      "Closing /hpc/igum002/codes/Hyperscanning2-redesign/data/EEG/raw_experimental_data/EEG-S13-direct_post_right_point_raw.fif\n",
      "[done]\n",
      "Writing /hpc/igum002/codes/Hyperscanning2-redesign/data/EEG/raw_experimental_data/EEG-S13-direct_post_left_point_raw.fif\n",
      "Closing /hpc/igum002/codes/Hyperscanning2-redesign/data/EEG/raw_experimental_data/EEG-S13-direct_post_left_point_raw.fif\n",
      "[done]\n"
     ]
    },
    {
     "name": "stderr",
     "output_type": "stream",
     "text": [
      "Saving process...: 6it [00:00, 29.29it/s]\n",
      "In progress:  81%|████████████████████████▍     | 13/16 [00:19<00:04,  1.47s/it]"
     ]
    },
    {
     "name": "stdout",
     "output_type": "stream",
     "text": [
      "Processing file : EEG-S14.csv\n"
     ]
    },
    {
     "name": "stderr",
     "output_type": "stream",
     "text": [
      "100%|██████████████████████████████████████████| 6/6 [00:00<00:00, 29059.84it/s]\n"
     ]
    },
    {
     "name": "stdout",
     "output_type": "stream",
     "text": [
      "Writing /hpc/igum002/codes/Hyperscanning2-redesign/data/EEG/raw_experimental_data/EEG-S14-direct_pre_left_point_raw.fif\n",
      "Closing /hpc/igum002/codes/Hyperscanning2-redesign/data/EEG/raw_experimental_data/EEG-S14-direct_pre_left_point_raw.fif\n",
      "[done]\n",
      "Writing /hpc/igum002/codes/Hyperscanning2-redesign/data/EEG/raw_experimental_data/EEG-S14-direct_pre_right_point_raw.fif\n",
      "Closing /hpc/igum002/codes/Hyperscanning2-redesign/data/EEG/raw_experimental_data/EEG-S14-direct_pre_right_point_raw.fif\n",
      "[done]\n",
      "Writing /hpc/igum002/codes/Hyperscanning2-redesign/data/EEG/raw_experimental_data/EEG-S14-direct_right_tracking_raw.fif\n",
      "Closing /hpc/igum002/codes/Hyperscanning2-redesign/data/EEG/raw_experimental_data/EEG-S14-direct_right_tracking_raw.fif\n",
      "[done]\n",
      "Writing /hpc/igum002/codes/Hyperscanning2-redesign/data/EEG/raw_experimental_data/EEG-S14-direct_left_tracking_raw.fif\n",
      "Closing /hpc/igum002/codes/Hyperscanning2-redesign/data/EEG/raw_experimental_data/EEG-S14-direct_left_tracking_raw.fif\n",
      "[done]\n",
      "Writing /hpc/igum002/codes/Hyperscanning2-redesign/data/EEG/raw_experimental_data/EEG-S14-direct_post_left_point_raw.fif\n",
      "Closing /hpc/igum002/codes/Hyperscanning2-redesign/data/EEG/raw_experimental_data/EEG-S14-direct_post_left_point_raw.fif\n",
      "[done]\n",
      "Writing /hpc/igum002/codes/Hyperscanning2-redesign/data/EEG/raw_experimental_data/EEG-S14-direct_post_right_point_raw.fif\n",
      "Closing /hpc/igum002/codes/Hyperscanning2-redesign/data/EEG/raw_experimental_data/EEG-S14-direct_post_right_point_raw.fif\n",
      "[done]\n"
     ]
    },
    {
     "name": "stderr",
     "output_type": "stream",
     "text": [
      "Saving process...: 6it [00:00, 30.47it/s]\n",
      "In progress:  88%|██████████████████████████▎   | 14/16 [00:20<00:03,  1.53s/it]"
     ]
    },
    {
     "name": "stdout",
     "output_type": "stream",
     "text": [
      "Processing file : EEG-S15.csv\n"
     ]
    },
    {
     "name": "stderr",
     "output_type": "stream",
     "text": [
      "100%|██████████████████████████████████████████| 6/6 [00:00<00:00, 28695.35it/s]\n"
     ]
    },
    {
     "name": "stdout",
     "output_type": "stream",
     "text": [
      "Writing /hpc/igum002/codes/Hyperscanning2-redesign/data/EEG/raw_experimental_data/EEG-S15-direct_pre_right_point_raw.fif\n",
      "Closing /hpc/igum002/codes/Hyperscanning2-redesign/data/EEG/raw_experimental_data/EEG-S15-direct_pre_right_point_raw.fif\n",
      "[done]\n",
      "Writing /hpc/igum002/codes/Hyperscanning2-redesign/data/EEG/raw_experimental_data/EEG-S15-direct_pre_left_point_raw.fif\n",
      "Closing /hpc/igum002/codes/Hyperscanning2-redesign/data/EEG/raw_experimental_data/EEG-S15-direct_pre_left_point_raw.fif\n",
      "[done]\n",
      "Writing /hpc/igum002/codes/Hyperscanning2-redesign/data/EEG/raw_experimental_data/EEG-S15-direct_left_tracking_raw.fif\n",
      "Closing /hpc/igum002/codes/Hyperscanning2-redesign/data/EEG/raw_experimental_data/EEG-S15-direct_left_tracking_raw.fif\n",
      "[done]\n",
      "Writing /hpc/igum002/codes/Hyperscanning2-redesign/data/EEG/raw_experimental_data/EEG-S15-direct_right_tracking_raw.fif\n",
      "Closing /hpc/igum002/codes/Hyperscanning2-redesign/data/EEG/raw_experimental_data/EEG-S15-direct_right_tracking_raw.fif\n",
      "[done]\n",
      "Writing /hpc/igum002/codes/Hyperscanning2-redesign/data/EEG/raw_experimental_data/EEG-S15-direct_post_right_point_raw.fif\n",
      "Closing /hpc/igum002/codes/Hyperscanning2-redesign/data/EEG/raw_experimental_data/EEG-S15-direct_post_right_point_raw.fif\n",
      "[done]\n",
      "Writing /hpc/igum002/codes/Hyperscanning2-redesign/data/EEG/raw_experimental_data/EEG-S15-direct_post_left_point_raw.fif\n",
      "Closing /hpc/igum002/codes/Hyperscanning2-redesign/data/EEG/raw_experimental_data/EEG-S15-direct_post_left_point_raw.fif\n",
      "[done]\n"
     ]
    },
    {
     "name": "stderr",
     "output_type": "stream",
     "text": [
      "Saving process...: 6it [00:00, 47.22it/s]\n",
      "In progress:  94%|████████████████████████████▏ | 15/16 [00:22<00:01,  1.50s/it]"
     ]
    },
    {
     "name": "stdout",
     "output_type": "stream",
     "text": [
      "Processing file : EEG-S16.csv\n"
     ]
    },
    {
     "name": "stderr",
     "output_type": "stream",
     "text": [
      "100%|██████████████████████████████████████████| 6/6 [00:00<00:00, 28695.35it/s]\n"
     ]
    },
    {
     "name": "stdout",
     "output_type": "stream",
     "text": [
      "Writing /hpc/igum002/codes/Hyperscanning2-redesign/data/EEG/raw_experimental_data/EEG-S16-direct_pre_left_point_raw.fif\n",
      "Closing /hpc/igum002/codes/Hyperscanning2-redesign/data/EEG/raw_experimental_data/EEG-S16-direct_pre_left_point_raw.fif\n",
      "[done]\n",
      "Writing /hpc/igum002/codes/Hyperscanning2-redesign/data/EEG/raw_experimental_data/EEG-S16-direct_pre_right_point_raw.fif\n",
      "Closing /hpc/igum002/codes/Hyperscanning2-redesign/data/EEG/raw_experimental_data/EEG-S16-direct_pre_right_point_raw.fif\n",
      "[done]\n",
      "Writing /hpc/igum002/codes/Hyperscanning2-redesign/data/EEG/raw_experimental_data/EEG-S16-direct_right_tracking_raw.fif\n",
      "Closing /hpc/igum002/codes/Hyperscanning2-redesign/data/EEG/raw_experimental_data/EEG-S16-direct_right_tracking_raw.fif\n",
      "[done]\n",
      "Writing /hpc/igum002/codes/Hyperscanning2-redesign/data/EEG/raw_experimental_data/EEG-S16-direct_left_tracking_raw.fif\n",
      "Closing /hpc/igum002/codes/Hyperscanning2-redesign/data/EEG/raw_experimental_data/EEG-S16-direct_left_tracking_raw.fif\n",
      "[done]\n",
      "Writing /hpc/igum002/codes/Hyperscanning2-redesign/data/EEG/raw_experimental_data/EEG-S16-direct_post_left_point_raw.fif\n",
      "Closing /hpc/igum002/codes/Hyperscanning2-redesign/data/EEG/raw_experimental_data/EEG-S16-direct_post_left_point_raw.fif\n",
      "[done]\n",
      "Writing /hpc/igum002/codes/Hyperscanning2-redesign/data/EEG/raw_experimental_data/EEG-S16-direct_post_right_point_raw.fif\n",
      "Closing /hpc/igum002/codes/Hyperscanning2-redesign/data/EEG/raw_experimental_data/EEG-S16-direct_post_right_point_raw.fif\n",
      "[done]\n"
     ]
    },
    {
     "name": "stderr",
     "output_type": "stream",
     "text": [
      "Saving process...: 6it [00:00, 46.68it/s]\n",
      "In progress: 100%|██████████████████████████████| 16/16 [00:23<00:00,  1.49s/it]"
     ]
    },
    {
     "name": "stdout",
     "output_type": "stream",
     "text": [
      "All experimental files have been saved in fif format in this path /hpc/igum002/codes/Hyperscanning2-redesign/data/EEG/raw_experimental_data\n"
     ]
    },
    {
     "name": "stderr",
     "output_type": "stream",
     "text": [
      "\n"
     ]
    }
   ],
   "source": [
    "import mne\n",
    "import pandas as pd\n",
    "from tqdm import tqdm\n",
    "import warnings\n",
    "import os\n",
    "import re\n",
    "\n",
    "warnings.filterwarnings(\"ignore\", category=DeprecationWarning)\n",
    "\n",
    "\n",
    "def extract_experimental_eeg_data(\n",
    "    path_2_csv_files,\n",
    "    path_2_save_experimental_file,\n",
    "    labelsequence_experiment: list,\n",
    "    bad_files=[],\n",
    "):\n",
    "\n",
    "    \"\"\"\n",
    "\n",
    "    Objective :\n",
    "        Extract experimental data from raw EEG data which is in csv format. \\n\n",
    "        Every raw csv file of EEG data must contain 48 markers in total (opening & closing). \\n\n",
    "        Basically, there are 24 markers. However, experimental data is from marker 7 to 24. \\n\n",
    "        (36 markers if including opening & closing markers). \\n\n",
    "\n",
    "\n",
    "    Parameters :\n",
    "        - path_2_csv_files : path to raw EEG file (csv format). \\n\n",
    "        - path_2_save_experimental_file : path to save extracted experimental data of EEG (output file in *.fif format). \\n\n",
    "        - labelsequence_experiment (opt) : order of label sequence. \\n\n",
    "        - bad_files (opt) : raw EEG file(s) that want to be skipped to be processed by the script.\n",
    "\n",
    "    Output :\n",
    "        EEG file in *.fif format with the name formatting : Subject no_EyeCondition__TrainingCondition_HandCondition_raw.fif\n",
    "        For instance, \"EEG-S01-averted_left_tracking_raw\".\n",
    "\n",
    "    \"\"\"\n",
    "\n",
    "    list_file_names = []\n",
    "    full_path_2_each_file = []\n",
    "\n",
    "    for file in os.listdir(path_2_csv_files):\n",
    "\n",
    "        if file.endswith(\".csv\"):\n",
    "\n",
    "            if file in bad_files:\n",
    "\n",
    "                # Skip the bad file to be processed\n",
    "                print(f\"Skipped bad file : {file}\")\n",
    "                continue\n",
    "\n",
    "            # Populate all file names only\n",
    "            list_file_names.append(file)\n",
    "            list_file_names.sort()\n",
    "\n",
    "    for i in tqdm(range(len(list_file_names)), desc=\"In progress\"):\n",
    "\n",
    "        try:\n",
    "            labelsequence = int(labelsequence_experiment[i])\n",
    "\n",
    "        except IOError as err_filename:\n",
    "            print(\n",
    "                \"The format of file name is not correct or file doesn't exist \\nThe format must be 'EEG-Sxx.csv' , xx=subject number \"\n",
    "            )\n",
    "            raise\n",
    "        except ValueError as err_integer:\n",
    "            print(\"The labelsequence input must be integer : \", err_integer)\n",
    "            raise\n",
    "\n",
    "        else:\n",
    "            if labelsequence < 1 or labelsequence > 12:\n",
    "                print(\n",
    "                    \"The value for labelsequence parameter is out of range. It must be be between 1 and 12\"\n",
    "                )\n",
    "                raise IndexError\n",
    "            else:\n",
    "\n",
    "                #%% Load the data\n",
    "                fileName = list_file_names[i]\n",
    "                print(\"Processing file : \" + list_file_names[i])\n",
    "\n",
    "                # Change working directory to which raw EEG files are stored\n",
    "                os.chdir(path_2_csv_files)\n",
    "\n",
    "                # Read each file by using pandas\n",
    "                df = pd.read_csv(fileName, delimiter=\",\")\n",
    "                # %% Define columns for raw csv file\n",
    "                df.columns = [\n",
    "                    \"Index\",\n",
    "                    \"FP1\",\n",
    "                    \"FP2\",\n",
    "                    \"F7\",\n",
    "                    \"F3\",\n",
    "                    \"F4\",\n",
    "                    \"F8\",\n",
    "                    \"T7\",\n",
    "                    \"C3\",\n",
    "                    \"C4\",\n",
    "                    \"T8\",\n",
    "                    \"P7\",\n",
    "                    \"P3\",\n",
    "                    \"P4\",\n",
    "                    \"P8\",\n",
    "                    \"O1\",\n",
    "                    \"O2\",\n",
    "                    \"X1\",\n",
    "                    \"X2\",\n",
    "                    \"X3\",\n",
    "                    \"X4\",\n",
    "                    \"X5\",\n",
    "                    \"X6\",\n",
    "                    \"X7\",\n",
    "                    \"X8\",\n",
    "                    \"X9\",\n",
    "                    \"X10\",\n",
    "                    \"X11\",\n",
    "                    \"X12\",\n",
    "                    \"X13\",\n",
    "                    \"X14\",\n",
    "                    \"Marker\",\n",
    "                ]\n",
    "\n",
    "                # Converting all markers (pandas data frame to list)\n",
    "                markers = df[\"Marker\"].tolist()\n",
    "\n",
    "                indicesOfMarkers = []  # Empty list to contain indices of markers\n",
    "                for i, c in enumerate(markers):\n",
    "                    if \"9999999\" in str(c):\n",
    "                        indicesOfMarkers.append(i)\n",
    "                try:\n",
    "                    number_markers = len(indicesOfMarkers)\n",
    "                    if number_markers != 48:  # check if the number of markers = 48\n",
    "                        raise ValueError(\n",
    "                            \"The {} file has incorrect number of markers : {} ! It MUST be 48\".format(\n",
    "                                fileName, number_markers\n",
    "                            )\n",
    "                        )\n",
    "                except ValueError as err_unmatch_markers:\n",
    "                    print(err_unmatch_markers)\n",
    "                    raise\n",
    "\n",
    "                # Create a list of labels for experimental data.\n",
    "\n",
    "                # Order = 1 (Averted/Direct/Natural)\n",
    "                oddOrder1 = [\n",
    "                    \"averted_pre_right_point\",\n",
    "                    \"averted_pre_left_point\",\n",
    "                    \"averted_left_tracking\",\n",
    "                    \"averted_right_tracking\",\n",
    "                    \"averted_post_right_point\",\n",
    "                    \"averted_post_left_point\",\n",
    "                    \"direct_pre_right_point\",\n",
    "                    \"direct_pre_left_point\",\n",
    "                    \"direct_left_tracking\",\n",
    "                    \"direct_right_tracking\",\n",
    "                    \"direct_post_right_point\",\n",
    "                    \"direct_post_left_point\",\n",
    "                    \"natural_pre_right_point\",\n",
    "                    \"natural_pre_left_point\",\n",
    "                    \"natural_left_tracking\",\n",
    "                    \"natural_right_tracking\",\n",
    "                    \"natural_post_right_point\",\n",
    "                    \"natural_post_left_point\",\n",
    "                ]\n",
    "\n",
    "                evenOrder1 = [\n",
    "                    \"averted_pre_left_point\",\n",
    "                    \"averted_pre_right_point\",\n",
    "                    \"averted_right_tracking\",\n",
    "                    \"averted_left_tracking\",\n",
    "                    \"averted_post_left_point\",\n",
    "                    \"averted_post_right_point\",\n",
    "                    \"direct_pre_left_point\",\n",
    "                    \"direct_pre_right_point\",\n",
    "                    \"direct_right_tracking\",\n",
    "                    \"direct_left_tracking\",\n",
    "                    \"direct_post_left_point\",\n",
    "                    \"direct_post_right_point\",\n",
    "                    \"natural_pre_left_point\",\n",
    "                    \"natural_pre_right_point\",\n",
    "                    \"natural_right_tracking\",\n",
    "                    \"natural_left_tracking\",\n",
    "                    \"natural_post_left_point\",\n",
    "                    \"natural_post_right_point\",\n",
    "                ]\n",
    "\n",
    "                # Order = 2 (Averted/Natural/Direct)\n",
    "                oddOrder2 = [\n",
    "                    \"averted_pre_right_point\",\n",
    "                    \"averted_pre_left_point\",\n",
    "                    \"averted_left_tracking\",\n",
    "                    \"averted_right_tracking\",\n",
    "                    \"averted_post_right_point\",\n",
    "                    \"averted_post_left_point\",\n",
    "                    \"natural_pre_right_point\",\n",
    "                    \"natural_pre_left_point\",\n",
    "                    \"natural_left_tracking\",\n",
    "                    \"natural_right_tracking\",\n",
    "                    \"natural_post_right_point\",\n",
    "                    \"natural_post_left_point\",\n",
    "                    \"direct_pre_right_point\",\n",
    "                    \"direct_pre_left_point\",\n",
    "                    \"direct_left_tracking\",\n",
    "                    \"direct_right_tracking\",\n",
    "                    \"direct_post_right_point\",\n",
    "                    \"direct_post_left_point\",\n",
    "                ]\n",
    "\n",
    "                evenOrder2 = [\n",
    "                    \"averted_pre_left_point\",\n",
    "                    \"averted_pre_right_point\",\n",
    "                    \"averted_right_tracking\",\n",
    "                    \"averted_left_tracking\",\n",
    "                    \"averted_post_left_point\",\n",
    "                    \"averted_post_right_point\",\n",
    "                    \"natural_pre_left_point\",\n",
    "                    \"natural_pre_right_point\",\n",
    "                    \"natural_right_tracking\",\n",
    "                    \"natural_left_tracking\",\n",
    "                    \"natural_post_left_point\",\n",
    "                    \"natural_post_right_point\",\n",
    "                    \"direct_pre_left_point\",\n",
    "                    \"direct_pre_right_point\",\n",
    "                    \"direct_right_tracking\",\n",
    "                    \"direct_left_tracking\",\n",
    "                    \"direct_post_left_point\",\n",
    "                    \"direct_post_right_point\",\n",
    "                ]\n",
    "\n",
    "                # Order = 3 (Direct / Natural / Averted)\n",
    "                oddOrder3 = [\n",
    "                    \"direct_pre_right_point\",\n",
    "                    \"direct_pre_left_point\",\n",
    "                    \"direct_left_tracking\",\n",
    "                    \"direct_right_tracking\",\n",
    "                    \"direct_post_right_point\",\n",
    "                    \"direct_post_left_point\",\n",
    "                    \"natural_pre_right_point\",\n",
    "                    \"natural_pre_left_point\",\n",
    "                    \"natural_left_tracking\",\n",
    "                    \"natural_right_tracking\",\n",
    "                    \"natural_post_right_point\",\n",
    "                    \"natural_post_left_point\",\n",
    "                    \"averted_pre_right_point\",\n",
    "                    \"averted_pre_left_point\",\n",
    "                    \"averted_left_tracking\",\n",
    "                    \"averted_right_tracking\",\n",
    "                    \"averted_post_right_point\",\n",
    "                    \"averted_post_left_point\",\n",
    "                ]\n",
    "\n",
    "                evenOrder3 = [\n",
    "                    \"direct_pre_left_point\",\n",
    "                    \"direct_pre_right_point\",\n",
    "                    \"direct_right_tracking\",\n",
    "                    \"direct_left_tracking\",\n",
    "                    \"direct_post_left_point\",\n",
    "                    \"direct_post_right_point\",\n",
    "                    \"natural_pre_left_point\",\n",
    "                    \"natural_pre_right_point\",\n",
    "                    \"natural_right_tracking\",\n",
    "                    \"natural_left_tracking\",\n",
    "                    \"natural_post_left_point\",\n",
    "                    \"natural_post_right_point\",\n",
    "                    \"averted_pre_left_point\",\n",
    "                    \"averted_pre_right_point\",\n",
    "                    \"averted_right_tracking\",\n",
    "                    \"averted_left_tracking\",\n",
    "                    \"averted_post_left_point\",\n",
    "                    \"averted_post_right_point\",\n",
    "                ]\n",
    "\n",
    "                # Order = 4 (Direct/Averted/Natural)\n",
    "                oddOrder4 = [\n",
    "                    \"direct_pre_right_point\",\n",
    "                    \"direct_pre_left_point\",\n",
    "                    \"direct_left_tracking\",\n",
    "                    \"direct_right_tracking\",\n",
    "                    \"direct_post_right_point\",\n",
    "                    \"direct_post_left_point\",\n",
    "                    \"averted_pre_right_point\",\n",
    "                    \"averted_pre_left_point\",\n",
    "                    \"averted_left_tracking\",\n",
    "                    \"averted_right_tracking\",\n",
    "                    \"averted_post_right_point\",\n",
    "                    \"averted_post_left_point\",\n",
    "                    \"natural_pre_right_point\",\n",
    "                    \"natural_pre_left_point\",\n",
    "                    \"natural_left_tracking\",\n",
    "                    \"natural_right_tracking\",\n",
    "                    \"natural_post_right_point\",\n",
    "                    \"natural_post_left_point\",\n",
    "                ]\n",
    "\n",
    "                evenOrder4 = [\n",
    "                    \"direct_pre_left_point\",\n",
    "                    \"direct_pre_right_point\",\n",
    "                    \"direct_right_tracking\",\n",
    "                    \"direct_left_tracking\",\n",
    "                    \"direct_post_left_point\",\n",
    "                    \"direct_post_right_point\",\n",
    "                    \"averted_pre_left_point\",\n",
    "                    \"averted_pre_right_point\",\n",
    "                    \"averted_right_tracking\",\n",
    "                    \"averted_left_tracking\",\n",
    "                    \"averted_post_left_point\",\n",
    "                    \"averted_post_right_point\",\n",
    "                    \"natural_pre_left_point\",\n",
    "                    \"natural_pre_right_point\",\n",
    "                    \"natural_right_tracking\",\n",
    "                    \"natural_left_tracking\",\n",
    "                    \"natural_post_left_point\",\n",
    "                    \"natural_post_right_point\",\n",
    "                ]\n",
    "\n",
    "                # Order = 5 (Natural/Direct/Averted)\n",
    "                oddOrder5 = [\n",
    "                    \"natural_pre_right_point\",\n",
    "                    \"natural_pre_left_point\",\n",
    "                    \"natural_left_tracking\",\n",
    "                    \"natural_right_tracking\",\n",
    "                    \"natural_post_right_point\",\n",
    "                    \"natural_post_left_point\",\n",
    "                    \"direct_pre_right_point\",\n",
    "                    \"direct_pre_left_point\",\n",
    "                    \"direct_left_tracking\",\n",
    "                    \"direct_right_tracking\",\n",
    "                    \"direct_post_right_point\",\n",
    "                    \"direct_post_left_point\",\n",
    "                    \"averted_pre_right_point\",\n",
    "                    \"averted_pre_left_point\",\n",
    "                    \"averted_left_tracking\",\n",
    "                    \"averted_right_tracking\",\n",
    "                    \"averted_post_right_point\",\n",
    "                    \"averted_post_left_point\",\n",
    "                ]\n",
    "\n",
    "                evenOrder5 = [\n",
    "                    \"natural_pre_left_point\",\n",
    "                    \"natural_pre_right_point\",\n",
    "                    \"natural_right_tracking\",\n",
    "                    \"natural_left_tracking\",\n",
    "                    \"natural_post_left_point\",\n",
    "                    \"natural_post_right_point\",\n",
    "                    \"direct_pre_left_point\",\n",
    "                    \"direct_pre_right_point\",\n",
    "                    \"direct_right_tracking\",\n",
    "                    \"direct_left_tracking\",\n",
    "                    \"direct_post_left_point\",\n",
    "                    \"direct_post_right_point\",\n",
    "                    \"averted_pre_left_point\",\n",
    "                    \"averted_pre_right_point\",\n",
    "                    \"averted_right_tracking\",\n",
    "                    \"averted_left_tracking\",\n",
    "                    \"averted_post_left_point\",\n",
    "                    \"averted_post_right_point\",\n",
    "                ]\n",
    "\n",
    "                # Order = 6 (Natural/Averted/Direct)\n",
    "                oddOrder6 = [\n",
    "                    \"natural_pre_right_point\",\n",
    "                    \"natural_pre_left_point\",\n",
    "                    \"natural_left_tracking\",\n",
    "                    \"natural_right_tracking\",\n",
    "                    \"natural_post_right_point\",\n",
    "                    \"natural_post_left_point\",\n",
    "                    \"averted_pre_right_point\",\n",
    "                    \"averted_pre_left_point\",\n",
    "                    \"averted_left_tracking\",\n",
    "                    \"averted_right_tracking\",\n",
    "                    \"averted_post_right_point\",\n",
    "                    \"averted_post_left_point\",\n",
    "                    \"direct_pre_right_point\",\n",
    "                    \"direct_pre_left_point\",\n",
    "                    \"direct_left_tracking\",\n",
    "                    \"direct_right_tracking\",\n",
    "                    \"direct_post_right_point\",\n",
    "                    \"direct_post_left_point\",\n",
    "                ]\n",
    "\n",
    "                evenOrder6 = [\n",
    "                    \"natural_pre_left_point\",\n",
    "                    \"natural_pre_right_point\",\n",
    "                    \"natural_right_tracking\",\n",
    "                    \"natural_left_tracking\",\n",
    "                    \"natural_post_left_point\",\n",
    "                    \"natural_post_right_point\",\n",
    "                    \"averted_pre_left_point\",\n",
    "                    \"averted_pre_right_point\",\n",
    "                    \"averted_right_tracking\",\n",
    "                    \"averted_left_tracking\",\n",
    "                    \"averted_post_left_point\",\n",
    "                    \"averted_post_right_point\",\n",
    "                    \"direct_pre_left_point\",\n",
    "                    \"direct_pre_right_point\",\n",
    "                    \"direct_right_tracking\",\n",
    "                    \"direct_left_tracking\",\n",
    "                    \"direct_post_left_point\",\n",
    "                    \"direct_post_right_point\",\n",
    "                ]\n",
    "\n",
    "                # Populate all orders\n",
    "                listOfOrders = []\n",
    "                for i in tqdm(range(6)):\n",
    "                    listOfOrders.append(eval(\"oddOrder\" + str(i + 1)))\n",
    "                    listOfOrders.append(eval(\"evenOrder\" + str(i + 1)))\n",
    "\n",
    "                labelsequence = labelsequence - 1\n",
    "                chosenOrder = listOfOrders[labelsequence]\n",
    "\n",
    "                # Get the experimental markers' indices and extract the data\n",
    "                indicesofExperimentalMarkers = indicesOfMarkers[13:]\n",
    "\n",
    "                # Chunk the data based on opening and closing markers and get only the 16 channels data (columns)\n",
    "                chunkedData = []\n",
    "                for i in range(0, 12, 2):\n",
    "\n",
    "                    # Convert the data into numpy array type and microvolt (for some reason, the output of OpenBCI is not in microvolt)\n",
    "                    chunkedData.append(\n",
    "                        df.iloc[\n",
    "                            indicesofExperimentalMarkers[\n",
    "                                i\n",
    "                            ] : indicesofExperimentalMarkers[i + 1],\n",
    "                            1:17,\n",
    "                        ].to_numpy()\n",
    "                        * 1e-6\n",
    "                    )\n",
    "\n",
    "                # Create 16 channels montage 10-20 international standard\n",
    "                montage = mne.channels.make_standard_montage(\"standard_1020\")\n",
    "\n",
    "                # Pick only 16 channels that are used in Cyton+Daisy OpenBCI\n",
    "                ch_names = [\n",
    "                    \"FP1\",\n",
    "                    \"Fp2\",\n",
    "                    \"F7\",\n",
    "                    \"F3\",\n",
    "                    \"F4\",\n",
    "                    \"F8\",\n",
    "                    \"T7\",\n",
    "                    \"C3\",\n",
    "                    \"C4\",\n",
    "                    \"T8\",\n",
    "                    \"P7\",\n",
    "                    \"P3\",\n",
    "                    \"P4\",\n",
    "                    \"P8\",\n",
    "                    \"O1\",\n",
    "                    \"O2\",\n",
    "                ]\n",
    "                ch_types = [\"eeg\"] * 16\n",
    "\n",
    "                # Create info (which is used in MNE-Python)\n",
    "                info = mne.create_info(ch_names=ch_names, sfreq=125, ch_types=ch_types)\n",
    "                info.set_montage(\"standard_1020\", match_case=False)\n",
    "\n",
    "                # Match pattern EEG-Sxx (xx = any number)\n",
    "                regex = r\"\\D{3}-S\\d+\"\n",
    "\n",
    "                # Create filenames for *.fif based on the sequence of labels above\n",
    "                extracted_file_name_4_experiment = []\n",
    "                for i in chosenOrder:\n",
    "                    extracted_file_name = re.search(regex, fileName)\n",
    "                    extracted_file_name_4_experiment.append(\n",
    "                        fileName[\n",
    "                            extracted_file_name.start() : extracted_file_name.end()\n",
    "                        ]\n",
    "                        + \"-\"\n",
    "                        + i\n",
    "                        + \"_raw.fif\"\n",
    "                    )\n",
    "\n",
    "                # Save into *.fif files\n",
    "                for i, val in tqdm(enumerate(chunkedData), desc=\"Saving process...\"):\n",
    "                    # Load data into MNE-Python\n",
    "                    experiment_data_needs_label = mne.io.RawArray(\n",
    "                        val.transpose(), info, verbose=False\n",
    "                    )\n",
    "\n",
    "                    # Define a folder where we want to save the experimental data\n",
    "                    os.chdir(path_2_save_experimental_file)\n",
    "\n",
    "                    # Save the data in MNE format\n",
    "                    experiment_data_needs_label.save(\n",
    "                        extracted_file_name_4_experiment[i], overwrite=True\n",
    "                    )\n",
    "\n",
    "    print(\n",
    "        f\"All experimental files have been saved in fif format in this path {path_2_save_experimental_file}\"\n",
    "    )\n"
   ]
  },
  {
   "cell_type": "markdown",
   "metadata": {},
   "source": [
    "Running function of extract_experimental_eeg_data"
   ]
  },
  {
   "cell_type": "code",
   "execution_count": 2,
   "metadata": {},
   "outputs": [
    {
     "name": "stderr",
     "output_type": "stream",
     "text": [
      "In progress:   0%|                                       | 0/16 [00:00<?, ?it/s]"
     ]
    },
    {
     "name": "stdout",
     "output_type": "stream",
     "text": [
      "Processing file : EEG-S01.csv\n"
     ]
    },
    {
     "name": "stderr",
     "output_type": "stream",
     "text": [
      "100%|██████████████████████████████████████████| 6/6 [00:00<00:00, 32853.56it/s]\n"
     ]
    },
    {
     "name": "stdout",
     "output_type": "stream",
     "text": [
      "Writing /hpc/igum002/codes/Hyperscanning2-redesign/data/EEG/raw_experimental_data/EEG-S01-averted_pre_right_point_raw.fif\n",
      "Closing /hpc/igum002/codes/Hyperscanning2-redesign/data/EEG/raw_experimental_data/EEG-S01-averted_pre_right_point_raw.fif\n",
      "[done]\n",
      "Writing /hpc/igum002/codes/Hyperscanning2-redesign/data/EEG/raw_experimental_data/EEG-S01-averted_pre_left_point_raw.fif\n",
      "Closing /hpc/igum002/codes/Hyperscanning2-redesign/data/EEG/raw_experimental_data/EEG-S01-averted_pre_left_point_raw.fif\n",
      "[done]\n",
      "Writing /hpc/igum002/codes/Hyperscanning2-redesign/data/EEG/raw_experimental_data/EEG-S01-averted_left_tracking_raw.fif\n",
      "Closing /hpc/igum002/codes/Hyperscanning2-redesign/data/EEG/raw_experimental_data/EEG-S01-averted_left_tracking_raw.fif\n",
      "[done]\n",
      "Writing /hpc/igum002/codes/Hyperscanning2-redesign/data/EEG/raw_experimental_data/EEG-S01-averted_right_tracking_raw.fif\n",
      "Closing /hpc/igum002/codes/Hyperscanning2-redesign/data/EEG/raw_experimental_data/EEG-S01-averted_right_tracking_raw.fif\n",
      "[done]\n",
      "Writing /hpc/igum002/codes/Hyperscanning2-redesign/data/EEG/raw_experimental_data/EEG-S01-averted_post_right_point_raw.fif\n",
      "Closing /hpc/igum002/codes/Hyperscanning2-redesign/data/EEG/raw_experimental_data/EEG-S01-averted_post_right_point_raw.fif\n",
      "[done]\n",
      "Writing /hpc/igum002/codes/Hyperscanning2-redesign/data/EEG/raw_experimental_data/EEG-S01-averted_post_left_point_raw.fif\n",
      "Closing /hpc/igum002/codes/Hyperscanning2-redesign/data/EEG/raw_experimental_data/EEG-S01-averted_post_left_point_raw.fif\n",
      "[done]\n"
     ]
    },
    {
     "name": "stderr",
     "output_type": "stream",
     "text": [
      "Saving process...: 6it [00:00, 51.79it/s]\n",
      "In progress:   6%|█▉                             | 1/16 [00:01<00:21,  1.40s/it]"
     ]
    },
    {
     "name": "stdout",
     "output_type": "stream",
     "text": [
      "Processing file : EEG-S02.csv\n"
     ]
    },
    {
     "name": "stderr",
     "output_type": "stream",
     "text": [
      "100%|███████████████████████████████████████████| 6/6 [00:00<00:00, 1229.04it/s]\n"
     ]
    },
    {
     "name": "stdout",
     "output_type": "stream",
     "text": [
      "Writing /hpc/igum002/codes/Hyperscanning2-redesign/data/EEG/raw_experimental_data/EEG-S02-averted_pre_left_point_raw.fif\n",
      "Closing /hpc/igum002/codes/Hyperscanning2-redesign/data/EEG/raw_experimental_data/EEG-S02-averted_pre_left_point_raw.fif\n",
      "[done]\n",
      "Writing /hpc/igum002/codes/Hyperscanning2-redesign/data/EEG/raw_experimental_data/EEG-S02-averted_pre_right_point_raw.fif\n",
      "Closing /hpc/igum002/codes/Hyperscanning2-redesign/data/EEG/raw_experimental_data/EEG-S02-averted_pre_right_point_raw.fif\n",
      "[done]\n",
      "Writing /hpc/igum002/codes/Hyperscanning2-redesign/data/EEG/raw_experimental_data/EEG-S02-averted_right_tracking_raw.fif\n",
      "Closing /hpc/igum002/codes/Hyperscanning2-redesign/data/EEG/raw_experimental_data/EEG-S02-averted_right_tracking_raw.fif\n",
      "[done]\n",
      "Writing /hpc/igum002/codes/Hyperscanning2-redesign/data/EEG/raw_experimental_data/EEG-S02-averted_left_tracking_raw.fif\n",
      "Closing /hpc/igum002/codes/Hyperscanning2-redesign/data/EEG/raw_experimental_data/EEG-S02-averted_left_tracking_raw.fif\n",
      "[done]\n",
      "Writing /hpc/igum002/codes/Hyperscanning2-redesign/data/EEG/raw_experimental_data/EEG-S02-averted_post_left_point_raw.fif\n",
      "Closing /hpc/igum002/codes/Hyperscanning2-redesign/data/EEG/raw_experimental_data/EEG-S02-averted_post_left_point_raw.fif\n",
      "[done]\n",
      "Writing /hpc/igum002/codes/Hyperscanning2-redesign/data/EEG/raw_experimental_data/EEG-S02-averted_post_right_point_raw.fif\n",
      "Closing /hpc/igum002/codes/Hyperscanning2-redesign/data/EEG/raw_experimental_data/EEG-S02-averted_post_right_point_raw.fif\n",
      "[done]\n"
     ]
    },
    {
     "name": "stderr",
     "output_type": "stream",
     "text": [
      "Saving process...: 6it [00:00, 56.83it/s]\n",
      "In progress:  12%|███▉                           | 2/16 [00:02<00:19,  1.41s/it]"
     ]
    },
    {
     "name": "stdout",
     "output_type": "stream",
     "text": [
      "Processing file : EEG-S03.csv\n"
     ]
    },
    {
     "name": "stderr",
     "output_type": "stream",
     "text": [
      "100%|███████████████████████████████████████████| 6/6 [00:00<00:00, 1079.71it/s]\n"
     ]
    },
    {
     "name": "stdout",
     "output_type": "stream",
     "text": [
      "Writing /hpc/igum002/codes/Hyperscanning2-redesign/data/EEG/raw_experimental_data/EEG-S03-averted_pre_right_point_raw.fif\n",
      "Closing /hpc/igum002/codes/Hyperscanning2-redesign/data/EEG/raw_experimental_data/EEG-S03-averted_pre_right_point_raw.fif\n",
      "[done]\n",
      "Writing /hpc/igum002/codes/Hyperscanning2-redesign/data/EEG/raw_experimental_data/EEG-S03-averted_pre_left_point_raw.fif\n",
      "Closing /hpc/igum002/codes/Hyperscanning2-redesign/data/EEG/raw_experimental_data/EEG-S03-averted_pre_left_point_raw.fif\n",
      "[done]\n",
      "Writing /hpc/igum002/codes/Hyperscanning2-redesign/data/EEG/raw_experimental_data/EEG-S03-averted_left_tracking_raw.fif\n",
      "Closing /hpc/igum002/codes/Hyperscanning2-redesign/data/EEG/raw_experimental_data/EEG-S03-averted_left_tracking_raw.fif\n",
      "[done]\n",
      "Writing /hpc/igum002/codes/Hyperscanning2-redesign/data/EEG/raw_experimental_data/EEG-S03-averted_right_tracking_raw.fif\n",
      "Closing /hpc/igum002/codes/Hyperscanning2-redesign/data/EEG/raw_experimental_data/EEG-S03-averted_right_tracking_raw.fif\n",
      "[done]\n",
      "Writing /hpc/igum002/codes/Hyperscanning2-redesign/data/EEG/raw_experimental_data/EEG-S03-averted_post_right_point_raw.fif\n",
      "Closing /hpc/igum002/codes/Hyperscanning2-redesign/data/EEG/raw_experimental_data/EEG-S03-averted_post_right_point_raw.fif\n",
      "[done]\n",
      "Writing /hpc/igum002/codes/Hyperscanning2-redesign/data/EEG/raw_experimental_data/EEG-S03-averted_post_left_point_raw.fif\n",
      "Closing /hpc/igum002/codes/Hyperscanning2-redesign/data/EEG/raw_experimental_data/EEG-S03-averted_post_left_point_raw.fif\n",
      "[done]\n"
     ]
    },
    {
     "name": "stderr",
     "output_type": "stream",
     "text": [
      "Saving process...: 6it [00:00, 32.24it/s]\n",
      "In progress:  19%|█████▊                         | 3/16 [00:04<00:20,  1.58s/it]"
     ]
    },
    {
     "name": "stdout",
     "output_type": "stream",
     "text": [
      "Processing file : EEG-S04.csv\n"
     ]
    },
    {
     "name": "stderr",
     "output_type": "stream",
     "text": [
      "100%|███████████████████████████████████████████| 6/6 [00:00<00:00, 2034.59it/s]\n"
     ]
    },
    {
     "name": "stdout",
     "output_type": "stream",
     "text": [
      "Writing /hpc/igum002/codes/Hyperscanning2-redesign/data/EEG/raw_experimental_data/EEG-S04-averted_pre_left_point_raw.fif\n",
      "Closing /hpc/igum002/codes/Hyperscanning2-redesign/data/EEG/raw_experimental_data/EEG-S04-averted_pre_left_point_raw.fif\n",
      "[done]\n",
      "Writing /hpc/igum002/codes/Hyperscanning2-redesign/data/EEG/raw_experimental_data/EEG-S04-averted_pre_right_point_raw.fif\n",
      "Closing /hpc/igum002/codes/Hyperscanning2-redesign/data/EEG/raw_experimental_data/EEG-S04-averted_pre_right_point_raw.fif\n",
      "[done]\n",
      "Writing /hpc/igum002/codes/Hyperscanning2-redesign/data/EEG/raw_experimental_data/EEG-S04-averted_right_tracking_raw.fif\n",
      "Closing /hpc/igum002/codes/Hyperscanning2-redesign/data/EEG/raw_experimental_data/EEG-S04-averted_right_tracking_raw.fif\n",
      "[done]\n",
      "Writing /hpc/igum002/codes/Hyperscanning2-redesign/data/EEG/raw_experimental_data/EEG-S04-averted_left_tracking_raw.fif\n",
      "Closing /hpc/igum002/codes/Hyperscanning2-redesign/data/EEG/raw_experimental_data/EEG-S04-averted_left_tracking_raw.fif\n",
      "[done]\n",
      "Writing /hpc/igum002/codes/Hyperscanning2-redesign/data/EEG/raw_experimental_data/EEG-S04-averted_post_left_point_raw.fif\n",
      "Closing /hpc/igum002/codes/Hyperscanning2-redesign/data/EEG/raw_experimental_data/EEG-S04-averted_post_left_point_raw.fif\n",
      "[done]\n",
      "Writing /hpc/igum002/codes/Hyperscanning2-redesign/data/EEG/raw_experimental_data/EEG-S04-averted_post_right_point_raw.fif\n",
      "Closing /hpc/igum002/codes/Hyperscanning2-redesign/data/EEG/raw_experimental_data/EEG-S04-averted_post_right_point_raw.fif\n",
      "[done]\n"
     ]
    },
    {
     "name": "stderr",
     "output_type": "stream",
     "text": [
      "Saving process...: 6it [00:00, 35.21it/s]\n",
      "In progress:  25%|███████▊                       | 4/16 [00:06<00:20,  1.75s/it]"
     ]
    },
    {
     "name": "stdout",
     "output_type": "stream",
     "text": [
      "Processing file : EEG-S05.csv\n"
     ]
    },
    {
     "name": "stderr",
     "output_type": "stream",
     "text": [
      "100%|███████████████████████████████████████████| 6/6 [00:00<00:00, 2336.23it/s]\n"
     ]
    },
    {
     "name": "stdout",
     "output_type": "stream",
     "text": [
      "Writing /hpc/igum002/codes/Hyperscanning2-redesign/data/EEG/raw_experimental_data/EEG-S05-averted_pre_right_point_raw.fif\n",
      "Closing /hpc/igum002/codes/Hyperscanning2-redesign/data/EEG/raw_experimental_data/EEG-S05-averted_pre_right_point_raw.fif\n",
      "[done]\n",
      "Writing /hpc/igum002/codes/Hyperscanning2-redesign/data/EEG/raw_experimental_data/EEG-S05-averted_pre_left_point_raw.fif\n",
      "Closing /hpc/igum002/codes/Hyperscanning2-redesign/data/EEG/raw_experimental_data/EEG-S05-averted_pre_left_point_raw.fif\n",
      "[done]\n",
      "Writing /hpc/igum002/codes/Hyperscanning2-redesign/data/EEG/raw_experimental_data/EEG-S05-averted_left_tracking_raw.fif\n",
      "Closing /hpc/igum002/codes/Hyperscanning2-redesign/data/EEG/raw_experimental_data/EEG-S05-averted_left_tracking_raw.fif\n",
      "[done]\n",
      "Writing /hpc/igum002/codes/Hyperscanning2-redesign/data/EEG/raw_experimental_data/EEG-S05-averted_right_tracking_raw.fif\n",
      "Closing /hpc/igum002/codes/Hyperscanning2-redesign/data/EEG/raw_experimental_data/EEG-S05-averted_right_tracking_raw.fif\n",
      "[done]\n",
      "Writing /hpc/igum002/codes/Hyperscanning2-redesign/data/EEG/raw_experimental_data/EEG-S05-averted_post_right_point_raw.fif\n",
      "Closing /hpc/igum002/codes/Hyperscanning2-redesign/data/EEG/raw_experimental_data/EEG-S05-averted_post_right_point_raw.fif\n",
      "[done]\n",
      "Writing /hpc/igum002/codes/Hyperscanning2-redesign/data/EEG/raw_experimental_data/EEG-S05-averted_post_left_point_raw.fif\n",
      "Closing /hpc/igum002/codes/Hyperscanning2-redesign/data/EEG/raw_experimental_data/EEG-S05-averted_post_left_point_raw.fif\n",
      "[done]\n"
     ]
    },
    {
     "name": "stderr",
     "output_type": "stream",
     "text": [
      "Saving process...: 6it [00:00, 54.68it/s]\n",
      "In progress:  31%|█████████▋                     | 5/16 [00:07<00:16,  1.53s/it]"
     ]
    },
    {
     "name": "stdout",
     "output_type": "stream",
     "text": [
      "Processing file : EEG-S06.csv\n"
     ]
    },
    {
     "name": "stderr",
     "output_type": "stream",
     "text": [
      "100%|███████████████████████████████████████████| 6/6 [00:00<00:00, 3388.42it/s]\n"
     ]
    },
    {
     "name": "stdout",
     "output_type": "stream",
     "text": [
      "Writing /hpc/igum002/codes/Hyperscanning2-redesign/data/EEG/raw_experimental_data/EEG-S06-averted_pre_left_point_raw.fif\n",
      "Closing /hpc/igum002/codes/Hyperscanning2-redesign/data/EEG/raw_experimental_data/EEG-S06-averted_pre_left_point_raw.fif\n",
      "[done]\n",
      "Writing /hpc/igum002/codes/Hyperscanning2-redesign/data/EEG/raw_experimental_data/EEG-S06-averted_pre_right_point_raw.fif\n",
      "Closing /hpc/igum002/codes/Hyperscanning2-redesign/data/EEG/raw_experimental_data/EEG-S06-averted_pre_right_point_raw.fif\n",
      "[done]\n",
      "Writing /hpc/igum002/codes/Hyperscanning2-redesign/data/EEG/raw_experimental_data/EEG-S06-averted_right_tracking_raw.fif\n",
      "Closing /hpc/igum002/codes/Hyperscanning2-redesign/data/EEG/raw_experimental_data/EEG-S06-averted_right_tracking_raw.fif\n",
      "[done]\n",
      "Writing /hpc/igum002/codes/Hyperscanning2-redesign/data/EEG/raw_experimental_data/EEG-S06-averted_left_tracking_raw.fif\n",
      "Closing /hpc/igum002/codes/Hyperscanning2-redesign/data/EEG/raw_experimental_data/EEG-S06-averted_left_tracking_raw.fif\n",
      "[done]\n",
      "Writing /hpc/igum002/codes/Hyperscanning2-redesign/data/EEG/raw_experimental_data/EEG-S06-averted_post_left_point_raw.fif\n",
      "Closing /hpc/igum002/codes/Hyperscanning2-redesign/data/EEG/raw_experimental_data/EEG-S06-averted_post_left_point_raw.fif\n",
      "[done]\n",
      "Writing /hpc/igum002/codes/Hyperscanning2-redesign/data/EEG/raw_experimental_data/EEG-S06-averted_post_right_point_raw.fif\n",
      "Closing /hpc/igum002/codes/Hyperscanning2-redesign/data/EEG/raw_experimental_data/EEG-S06-averted_post_right_point_raw.fif\n",
      "[done]\n"
     ]
    },
    {
     "name": "stderr",
     "output_type": "stream",
     "text": [
      "Saving process...: 6it [00:00, 52.74it/s]\n",
      "In progress:  38%|███████████▋                   | 6/16 [00:08<00:14,  1.40s/it]"
     ]
    },
    {
     "name": "stdout",
     "output_type": "stream",
     "text": [
      "Processing file : EEG-S07.csv\n"
     ]
    },
    {
     "name": "stderr",
     "output_type": "stream",
     "text": [
      "100%|████████████████████████████████████████████| 6/6 [00:00<00:00, 658.48it/s]\n"
     ]
    },
    {
     "name": "stdout",
     "output_type": "stream",
     "text": [
      "Writing /hpc/igum002/codes/Hyperscanning2-redesign/data/EEG/raw_experimental_data/EEG-S07-averted_pre_right_point_raw.fif\n",
      "Closing /hpc/igum002/codes/Hyperscanning2-redesign/data/EEG/raw_experimental_data/EEG-S07-averted_pre_right_point_raw.fif\n",
      "[done]\n",
      "Writing /hpc/igum002/codes/Hyperscanning2-redesign/data/EEG/raw_experimental_data/EEG-S07-averted_pre_left_point_raw.fif\n",
      "Closing /hpc/igum002/codes/Hyperscanning2-redesign/data/EEG/raw_experimental_data/EEG-S07-averted_pre_left_point_raw.fif\n",
      "[done]\n",
      "Writing /hpc/igum002/codes/Hyperscanning2-redesign/data/EEG/raw_experimental_data/EEG-S07-averted_left_tracking_raw.fif\n",
      "Closing /hpc/igum002/codes/Hyperscanning2-redesign/data/EEG/raw_experimental_data/EEG-S07-averted_left_tracking_raw.fif\n",
      "[done]\n",
      "Writing /hpc/igum002/codes/Hyperscanning2-redesign/data/EEG/raw_experimental_data/EEG-S07-averted_right_tracking_raw.fif\n",
      "Closing /hpc/igum002/codes/Hyperscanning2-redesign/data/EEG/raw_experimental_data/EEG-S07-averted_right_tracking_raw.fif\n",
      "[done]\n",
      "Writing /hpc/igum002/codes/Hyperscanning2-redesign/data/EEG/raw_experimental_data/EEG-S07-averted_post_right_point_raw.fif\n",
      "Closing /hpc/igum002/codes/Hyperscanning2-redesign/data/EEG/raw_experimental_data/EEG-S07-averted_post_right_point_raw.fif\n",
      "[done]\n",
      "Writing /hpc/igum002/codes/Hyperscanning2-redesign/data/EEG/raw_experimental_data/EEG-S07-averted_post_left_point_raw.fif\n",
      "Closing /hpc/igum002/codes/Hyperscanning2-redesign/data/EEG/raw_experimental_data/EEG-S07-averted_post_left_point_raw.fif\n",
      "[done]\n"
     ]
    },
    {
     "name": "stderr",
     "output_type": "stream",
     "text": [
      "Saving process...: 6it [00:00, 39.54it/s]\n",
      "In progress:  44%|█████████████▌                 | 7/16 [00:10<00:12,  1.38s/it]"
     ]
    },
    {
     "name": "stdout",
     "output_type": "stream",
     "text": [
      "Processing file : EEG-S08.csv\n"
     ]
    },
    {
     "name": "stderr",
     "output_type": "stream",
     "text": [
      "100%|███████████████████████████████████████████| 6/6 [00:00<00:00, 3368.92it/s]\n"
     ]
    },
    {
     "name": "stdout",
     "output_type": "stream",
     "text": [
      "Writing /hpc/igum002/codes/Hyperscanning2-redesign/data/EEG/raw_experimental_data/EEG-S08-averted_pre_left_point_raw.fif\n",
      "Closing /hpc/igum002/codes/Hyperscanning2-redesign/data/EEG/raw_experimental_data/EEG-S08-averted_pre_left_point_raw.fif\n",
      "[done]\n",
      "Writing /hpc/igum002/codes/Hyperscanning2-redesign/data/EEG/raw_experimental_data/EEG-S08-averted_pre_right_point_raw.fif\n",
      "Closing /hpc/igum002/codes/Hyperscanning2-redesign/data/EEG/raw_experimental_data/EEG-S08-averted_pre_right_point_raw.fif\n",
      "[done]\n",
      "Writing /hpc/igum002/codes/Hyperscanning2-redesign/data/EEG/raw_experimental_data/EEG-S08-averted_right_tracking_raw.fif\n",
      "Closing /hpc/igum002/codes/Hyperscanning2-redesign/data/EEG/raw_experimental_data/EEG-S08-averted_right_tracking_raw.fif\n",
      "[done]\n",
      "Writing /hpc/igum002/codes/Hyperscanning2-redesign/data/EEG/raw_experimental_data/EEG-S08-averted_left_tracking_raw.fif\n",
      "Closing /hpc/igum002/codes/Hyperscanning2-redesign/data/EEG/raw_experimental_data/EEG-S08-averted_left_tracking_raw.fif\n",
      "[done]\n",
      "Writing /hpc/igum002/codes/Hyperscanning2-redesign/data/EEG/raw_experimental_data/EEG-S08-averted_post_left_point_raw.fif\n",
      "Closing /hpc/igum002/codes/Hyperscanning2-redesign/data/EEG/raw_experimental_data/EEG-S08-averted_post_left_point_raw.fif\n",
      "[done]\n",
      "Writing /hpc/igum002/codes/Hyperscanning2-redesign/data/EEG/raw_experimental_data/EEG-S08-averted_post_right_point_raw.fif\n",
      "Closing /hpc/igum002/codes/Hyperscanning2-redesign/data/EEG/raw_experimental_data/EEG-S08-averted_post_right_point_raw.fif\n",
      "[done]\n"
     ]
    },
    {
     "name": "stderr",
     "output_type": "stream",
     "text": [
      "Saving process...: 6it [00:00, 46.97it/s]\n",
      "In progress:  50%|███████████████▌               | 8/16 [00:11<00:11,  1.38s/it]"
     ]
    },
    {
     "name": "stdout",
     "output_type": "stream",
     "text": [
      "Processing file : EEG-S09.csv\n"
     ]
    },
    {
     "name": "stderr",
     "output_type": "stream",
     "text": [
      "100%|███████████████████████████████████████████| 6/6 [00:00<00:00, 2301.40it/s]\n"
     ]
    },
    {
     "name": "stdout",
     "output_type": "stream",
     "text": [
      "Writing /hpc/igum002/codes/Hyperscanning2-redesign/data/EEG/raw_experimental_data/EEG-S09-averted_pre_right_point_raw.fif\n",
      "Closing /hpc/igum002/codes/Hyperscanning2-redesign/data/EEG/raw_experimental_data/EEG-S09-averted_pre_right_point_raw.fif\n",
      "[done]\n",
      "Writing /hpc/igum002/codes/Hyperscanning2-redesign/data/EEG/raw_experimental_data/EEG-S09-averted_pre_left_point_raw.fif\n",
      "Closing /hpc/igum002/codes/Hyperscanning2-redesign/data/EEG/raw_experimental_data/EEG-S09-averted_pre_left_point_raw.fif\n",
      "[done]\n",
      "Writing /hpc/igum002/codes/Hyperscanning2-redesign/data/EEG/raw_experimental_data/EEG-S09-averted_left_tracking_raw.fif\n",
      "Closing /hpc/igum002/codes/Hyperscanning2-redesign/data/EEG/raw_experimental_data/EEG-S09-averted_left_tracking_raw.fif\n",
      "[done]\n",
      "Writing /hpc/igum002/codes/Hyperscanning2-redesign/data/EEG/raw_experimental_data/EEG-S09-averted_right_tracking_raw.fif\n",
      "Closing /hpc/igum002/codes/Hyperscanning2-redesign/data/EEG/raw_experimental_data/EEG-S09-averted_right_tracking_raw.fif\n",
      "[done]\n",
      "Writing /hpc/igum002/codes/Hyperscanning2-redesign/data/EEG/raw_experimental_data/EEG-S09-averted_post_right_point_raw.fif\n",
      "Closing /hpc/igum002/codes/Hyperscanning2-redesign/data/EEG/raw_experimental_data/EEG-S09-averted_post_right_point_raw.fif\n",
      "[done]\n",
      "Writing /hpc/igum002/codes/Hyperscanning2-redesign/data/EEG/raw_experimental_data/EEG-S09-averted_post_left_point_raw.fif\n",
      "Closing /hpc/igum002/codes/Hyperscanning2-redesign/data/EEG/raw_experimental_data/EEG-S09-averted_post_left_point_raw.fif\n",
      "[done]\n"
     ]
    },
    {
     "name": "stderr",
     "output_type": "stream",
     "text": [
      "Saving process...: 6it [00:00, 52.20it/s]\n",
      "In progress:  56%|█████████████████▍             | 9/16 [00:12<00:09,  1.37s/it]"
     ]
    },
    {
     "name": "stdout",
     "output_type": "stream",
     "text": [
      "Processing file : EEG-S10.csv\n"
     ]
    },
    {
     "name": "stderr",
     "output_type": "stream",
     "text": [
      "100%|████████████████████████████████████████████| 6/6 [00:00<00:00, 779.95it/s]\n"
     ]
    },
    {
     "name": "stdout",
     "output_type": "stream",
     "text": [
      "Writing /hpc/igum002/codes/Hyperscanning2-redesign/data/EEG/raw_experimental_data/EEG-S10-averted_pre_left_point_raw.fif\n",
      "Closing /hpc/igum002/codes/Hyperscanning2-redesign/data/EEG/raw_experimental_data/EEG-S10-averted_pre_left_point_raw.fif\n",
      "[done]\n",
      "Writing /hpc/igum002/codes/Hyperscanning2-redesign/data/EEG/raw_experimental_data/EEG-S10-averted_pre_right_point_raw.fif\n",
      "Closing /hpc/igum002/codes/Hyperscanning2-redesign/data/EEG/raw_experimental_data/EEG-S10-averted_pre_right_point_raw.fif\n",
      "[done]\n",
      "Writing /hpc/igum002/codes/Hyperscanning2-redesign/data/EEG/raw_experimental_data/EEG-S10-averted_right_tracking_raw.fif\n",
      "Closing /hpc/igum002/codes/Hyperscanning2-redesign/data/EEG/raw_experimental_data/EEG-S10-averted_right_tracking_raw.fif\n",
      "[done]\n",
      "Writing /hpc/igum002/codes/Hyperscanning2-redesign/data/EEG/raw_experimental_data/EEG-S10-averted_left_tracking_raw.fif\n",
      "Closing /hpc/igum002/codes/Hyperscanning2-redesign/data/EEG/raw_experimental_data/EEG-S10-averted_left_tracking_raw.fif\n",
      "[done]\n",
      "Writing /hpc/igum002/codes/Hyperscanning2-redesign/data/EEG/raw_experimental_data/EEG-S10-averted_post_left_point_raw.fif\n",
      "Closing /hpc/igum002/codes/Hyperscanning2-redesign/data/EEG/raw_experimental_data/EEG-S10-averted_post_left_point_raw.fif\n",
      "[done]\n",
      "Writing /hpc/igum002/codes/Hyperscanning2-redesign/data/EEG/raw_experimental_data/EEG-S10-averted_post_right_point_raw.fif\n",
      "Closing /hpc/igum002/codes/Hyperscanning2-redesign/data/EEG/raw_experimental_data/EEG-S10-averted_post_right_point_raw.fif\n",
      "[done]\n"
     ]
    },
    {
     "name": "stderr",
     "output_type": "stream",
     "text": [
      "Saving process...: 6it [00:00, 51.26it/s]\n",
      "In progress:  62%|██████████████████▊           | 10/16 [00:14<00:08,  1.35s/it]"
     ]
    },
    {
     "name": "stdout",
     "output_type": "stream",
     "text": [
      "Processing file : EEG-S11.csv\n"
     ]
    },
    {
     "name": "stderr",
     "output_type": "stream",
     "text": [
      "100%|████████████████████████████████████████████| 6/6 [00:00<00:00, 963.03it/s]\n"
     ]
    },
    {
     "name": "stdout",
     "output_type": "stream",
     "text": [
      "Writing /hpc/igum002/codes/Hyperscanning2-redesign/data/EEG/raw_experimental_data/EEG-S11-averted_pre_right_point_raw.fif\n",
      "Closing /hpc/igum002/codes/Hyperscanning2-redesign/data/EEG/raw_experimental_data/EEG-S11-averted_pre_right_point_raw.fif\n",
      "[done]\n",
      "Writing /hpc/igum002/codes/Hyperscanning2-redesign/data/EEG/raw_experimental_data/EEG-S11-averted_pre_left_point_raw.fif\n",
      "Closing /hpc/igum002/codes/Hyperscanning2-redesign/data/EEG/raw_experimental_data/EEG-S11-averted_pre_left_point_raw.fif\n",
      "[done]\n",
      "Writing /hpc/igum002/codes/Hyperscanning2-redesign/data/EEG/raw_experimental_data/EEG-S11-averted_left_tracking_raw.fif\n",
      "Closing /hpc/igum002/codes/Hyperscanning2-redesign/data/EEG/raw_experimental_data/EEG-S11-averted_left_tracking_raw.fif\n",
      "[done]\n",
      "Writing /hpc/igum002/codes/Hyperscanning2-redesign/data/EEG/raw_experimental_data/EEG-S11-averted_right_tracking_raw.fif\n",
      "Closing /hpc/igum002/codes/Hyperscanning2-redesign/data/EEG/raw_experimental_data/EEG-S11-averted_right_tracking_raw.fif\n",
      "[done]\n",
      "Writing /hpc/igum002/codes/Hyperscanning2-redesign/data/EEG/raw_experimental_data/EEG-S11-averted_post_right_point_raw.fif\n",
      "Closing /hpc/igum002/codes/Hyperscanning2-redesign/data/EEG/raw_experimental_data/EEG-S11-averted_post_right_point_raw.fif\n",
      "[done]\n",
      "Writing /hpc/igum002/codes/Hyperscanning2-redesign/data/EEG/raw_experimental_data/EEG-S11-averted_post_left_point_raw.fif\n",
      "Closing /hpc/igum002/codes/Hyperscanning2-redesign/data/EEG/raw_experimental_data/EEG-S11-averted_post_left_point_raw.fif\n",
      "[done]\n"
     ]
    },
    {
     "name": "stderr",
     "output_type": "stream",
     "text": [
      "Saving process...: 6it [00:00, 49.58it/s]\n",
      "In progress:  69%|████████████████████▋         | 11/16 [00:15<00:06,  1.27s/it]"
     ]
    },
    {
     "name": "stdout",
     "output_type": "stream",
     "text": [
      "Processing file : EEG-S12.csv\n"
     ]
    },
    {
     "name": "stderr",
     "output_type": "stream",
     "text": [
      "100%|███████████████████████████████████████████| 6/6 [00:00<00:00, 4454.92it/s]\n"
     ]
    },
    {
     "name": "stdout",
     "output_type": "stream",
     "text": [
      "Writing /hpc/igum002/codes/Hyperscanning2-redesign/data/EEG/raw_experimental_data/EEG-S12-averted_pre_left_point_raw.fif\n",
      "Closing /hpc/igum002/codes/Hyperscanning2-redesign/data/EEG/raw_experimental_data/EEG-S12-averted_pre_left_point_raw.fif\n",
      "[done]\n",
      "Writing /hpc/igum002/codes/Hyperscanning2-redesign/data/EEG/raw_experimental_data/EEG-S12-averted_pre_right_point_raw.fif\n",
      "Closing /hpc/igum002/codes/Hyperscanning2-redesign/data/EEG/raw_experimental_data/EEG-S12-averted_pre_right_point_raw.fif\n",
      "[done]\n",
      "Writing /hpc/igum002/codes/Hyperscanning2-redesign/data/EEG/raw_experimental_data/EEG-S12-averted_right_tracking_raw.fif\n",
      "Closing /hpc/igum002/codes/Hyperscanning2-redesign/data/EEG/raw_experimental_data/EEG-S12-averted_right_tracking_raw.fif\n",
      "[done]\n",
      "Writing /hpc/igum002/codes/Hyperscanning2-redesign/data/EEG/raw_experimental_data/EEG-S12-averted_left_tracking_raw.fif\n",
      "Closing /hpc/igum002/codes/Hyperscanning2-redesign/data/EEG/raw_experimental_data/EEG-S12-averted_left_tracking_raw.fif\n",
      "[done]\n",
      "Writing /hpc/igum002/codes/Hyperscanning2-redesign/data/EEG/raw_experimental_data/EEG-S12-averted_post_left_point_raw.fif\n",
      "Closing /hpc/igum002/codes/Hyperscanning2-redesign/data/EEG/raw_experimental_data/EEG-S12-averted_post_left_point_raw.fif\n",
      "[done]\n",
      "Writing /hpc/igum002/codes/Hyperscanning2-redesign/data/EEG/raw_experimental_data/EEG-S12-averted_post_right_point_raw.fif\n",
      "Closing /hpc/igum002/codes/Hyperscanning2-redesign/data/EEG/raw_experimental_data/EEG-S12-averted_post_right_point_raw.fif\n",
      "[done]\n"
     ]
    },
    {
     "name": "stderr",
     "output_type": "stream",
     "text": [
      "Saving process...: 6it [00:00, 48.89it/s]\n",
      "In progress:  75%|██████████████████████▌       | 12/16 [00:16<00:05,  1.26s/it]"
     ]
    },
    {
     "name": "stdout",
     "output_type": "stream",
     "text": [
      "Processing file : EEG-S13.csv\n"
     ]
    },
    {
     "name": "stderr",
     "output_type": "stream",
     "text": [
      "100%|███████████████████████████████████████████| 6/6 [00:00<00:00, 3346.52it/s]\n"
     ]
    },
    {
     "name": "stdout",
     "output_type": "stream",
     "text": [
      "Writing /hpc/igum002/codes/Hyperscanning2-redesign/data/EEG/raw_experimental_data/EEG-S13-direct_pre_right_point_raw.fif\n",
      "Closing /hpc/igum002/codes/Hyperscanning2-redesign/data/EEG/raw_experimental_data/EEG-S13-direct_pre_right_point_raw.fif\n",
      "[done]\n",
      "Writing /hpc/igum002/codes/Hyperscanning2-redesign/data/EEG/raw_experimental_data/EEG-S13-direct_pre_left_point_raw.fif\n",
      "Closing /hpc/igum002/codes/Hyperscanning2-redesign/data/EEG/raw_experimental_data/EEG-S13-direct_pre_left_point_raw.fif\n",
      "[done]\n",
      "Writing /hpc/igum002/codes/Hyperscanning2-redesign/data/EEG/raw_experimental_data/EEG-S13-direct_left_tracking_raw.fif\n",
      "Closing /hpc/igum002/codes/Hyperscanning2-redesign/data/EEG/raw_experimental_data/EEG-S13-direct_left_tracking_raw.fif\n",
      "[done]\n",
      "Writing /hpc/igum002/codes/Hyperscanning2-redesign/data/EEG/raw_experimental_data/EEG-S13-direct_right_tracking_raw.fif\n",
      "Closing /hpc/igum002/codes/Hyperscanning2-redesign/data/EEG/raw_experimental_data/EEG-S13-direct_right_tracking_raw.fif\n",
      "[done]\n",
      "Writing /hpc/igum002/codes/Hyperscanning2-redesign/data/EEG/raw_experimental_data/EEG-S13-direct_post_right_point_raw.fif\n",
      "Closing /hpc/igum002/codes/Hyperscanning2-redesign/data/EEG/raw_experimental_data/EEG-S13-direct_post_right_point_raw.fif\n",
      "[done]\n",
      "Writing /hpc/igum002/codes/Hyperscanning2-redesign/data/EEG/raw_experimental_data/EEG-S13-direct_post_left_point_raw.fif\n",
      "Closing /hpc/igum002/codes/Hyperscanning2-redesign/data/EEG/raw_experimental_data/EEG-S13-direct_post_left_point_raw.fif\n",
      "[done]\n"
     ]
    },
    {
     "name": "stderr",
     "output_type": "stream",
     "text": [
      "Saving process...: 6it [00:00, 36.98it/s]\n",
      "In progress:  81%|████████████████████████▍     | 13/16 [00:18<00:04,  1.37s/it]"
     ]
    },
    {
     "name": "stdout",
     "output_type": "stream",
     "text": [
      "Processing file : EEG-S14.csv\n"
     ]
    },
    {
     "name": "stderr",
     "output_type": "stream",
     "text": [
      "100%|███████████████████████████████████████████| 6/6 [00:00<00:00, 2848.75it/s]\n"
     ]
    },
    {
     "name": "stdout",
     "output_type": "stream",
     "text": [
      "Writing /hpc/igum002/codes/Hyperscanning2-redesign/data/EEG/raw_experimental_data/EEG-S14-direct_pre_left_point_raw.fif\n",
      "Closing /hpc/igum002/codes/Hyperscanning2-redesign/data/EEG/raw_experimental_data/EEG-S14-direct_pre_left_point_raw.fif\n",
      "[done]\n",
      "Writing /hpc/igum002/codes/Hyperscanning2-redesign/data/EEG/raw_experimental_data/EEG-S14-direct_pre_right_point_raw.fif\n",
      "Closing /hpc/igum002/codes/Hyperscanning2-redesign/data/EEG/raw_experimental_data/EEG-S14-direct_pre_right_point_raw.fif\n",
      "[done]\n",
      "Writing /hpc/igum002/codes/Hyperscanning2-redesign/data/EEG/raw_experimental_data/EEG-S14-direct_right_tracking_raw.fif\n",
      "Closing /hpc/igum002/codes/Hyperscanning2-redesign/data/EEG/raw_experimental_data/EEG-S14-direct_right_tracking_raw.fif\n",
      "[done]\n",
      "Writing /hpc/igum002/codes/Hyperscanning2-redesign/data/EEG/raw_experimental_data/EEG-S14-direct_left_tracking_raw.fif\n",
      "Closing /hpc/igum002/codes/Hyperscanning2-redesign/data/EEG/raw_experimental_data/EEG-S14-direct_left_tracking_raw.fif\n",
      "[done]\n",
      "Writing /hpc/igum002/codes/Hyperscanning2-redesign/data/EEG/raw_experimental_data/EEG-S14-direct_post_left_point_raw.fif\n",
      "Closing /hpc/igum002/codes/Hyperscanning2-redesign/data/EEG/raw_experimental_data/EEG-S14-direct_post_left_point_raw.fif\n",
      "[done]\n",
      "Writing /hpc/igum002/codes/Hyperscanning2-redesign/data/EEG/raw_experimental_data/EEG-S14-direct_post_right_point_raw.fif\n",
      "Closing /hpc/igum002/codes/Hyperscanning2-redesign/data/EEG/raw_experimental_data/EEG-S14-direct_post_right_point_raw.fif\n",
      "[done]\n"
     ]
    },
    {
     "name": "stderr",
     "output_type": "stream",
     "text": [
      "Saving process...: 6it [00:00, 33.62it/s]\n",
      "In progress:  88%|██████████████████████████▎   | 14/16 [00:19<00:02,  1.43s/it]"
     ]
    },
    {
     "name": "stdout",
     "output_type": "stream",
     "text": [
      "Processing file : EEG-S15.csv\n"
     ]
    },
    {
     "name": "stderr",
     "output_type": "stream",
     "text": [
      "100%|███████████████████████████████████████████| 6/6 [00:00<00:00, 2271.90it/s]\n"
     ]
    },
    {
     "name": "stdout",
     "output_type": "stream",
     "text": [
      "Writing /hpc/igum002/codes/Hyperscanning2-redesign/data/EEG/raw_experimental_data/EEG-S15-direct_pre_right_point_raw.fif\n",
      "Closing /hpc/igum002/codes/Hyperscanning2-redesign/data/EEG/raw_experimental_data/EEG-S15-direct_pre_right_point_raw.fif\n",
      "[done]\n",
      "Writing /hpc/igum002/codes/Hyperscanning2-redesign/data/EEG/raw_experimental_data/EEG-S15-direct_pre_left_point_raw.fif\n",
      "Closing /hpc/igum002/codes/Hyperscanning2-redesign/data/EEG/raw_experimental_data/EEG-S15-direct_pre_left_point_raw.fif\n",
      "[done]\n",
      "Writing /hpc/igum002/codes/Hyperscanning2-redesign/data/EEG/raw_experimental_data/EEG-S15-direct_left_tracking_raw.fif\n",
      "Closing /hpc/igum002/codes/Hyperscanning2-redesign/data/EEG/raw_experimental_data/EEG-S15-direct_left_tracking_raw.fif\n",
      "[done]\n",
      "Writing /hpc/igum002/codes/Hyperscanning2-redesign/data/EEG/raw_experimental_data/EEG-S15-direct_right_tracking_raw.fif\n",
      "Closing /hpc/igum002/codes/Hyperscanning2-redesign/data/EEG/raw_experimental_data/EEG-S15-direct_right_tracking_raw.fif\n",
      "[done]\n",
      "Writing /hpc/igum002/codes/Hyperscanning2-redesign/data/EEG/raw_experimental_data/EEG-S15-direct_post_right_point_raw.fif\n",
      "Closing /hpc/igum002/codes/Hyperscanning2-redesign/data/EEG/raw_experimental_data/EEG-S15-direct_post_right_point_raw.fif\n",
      "[done]\n",
      "Writing /hpc/igum002/codes/Hyperscanning2-redesign/data/EEG/raw_experimental_data/EEG-S15-direct_post_left_point_raw.fif\n",
      "Closing /hpc/igum002/codes/Hyperscanning2-redesign/data/EEG/raw_experimental_data/EEG-S15-direct_post_left_point_raw.fif\n",
      "[done]\n"
     ]
    },
    {
     "name": "stderr",
     "output_type": "stream",
     "text": [
      "Saving process...: 6it [00:00, 55.74it/s]\n",
      "In progress:  94%|████████████████████████████▏ | 15/16 [00:21<00:01,  1.41s/it]"
     ]
    },
    {
     "name": "stdout",
     "output_type": "stream",
     "text": [
      "Processing file : EEG-S16.csv\n"
     ]
    },
    {
     "name": "stderr",
     "output_type": "stream",
     "text": [
      "100%|████████████████████████████████████████████| 6/6 [00:00<00:00, 580.26it/s]\n"
     ]
    },
    {
     "name": "stdout",
     "output_type": "stream",
     "text": [
      "Writing /hpc/igum002/codes/Hyperscanning2-redesign/data/EEG/raw_experimental_data/EEG-S16-direct_pre_left_point_raw.fif\n",
      "Closing /hpc/igum002/codes/Hyperscanning2-redesign/data/EEG/raw_experimental_data/EEG-S16-direct_pre_left_point_raw.fif\n",
      "[done]\n",
      "Writing /hpc/igum002/codes/Hyperscanning2-redesign/data/EEG/raw_experimental_data/EEG-S16-direct_pre_right_point_raw.fif\n",
      "Closing /hpc/igum002/codes/Hyperscanning2-redesign/data/EEG/raw_experimental_data/EEG-S16-direct_pre_right_point_raw.fif\n",
      "[done]\n",
      "Writing /hpc/igum002/codes/Hyperscanning2-redesign/data/EEG/raw_experimental_data/EEG-S16-direct_right_tracking_raw.fif\n",
      "Closing /hpc/igum002/codes/Hyperscanning2-redesign/data/EEG/raw_experimental_data/EEG-S16-direct_right_tracking_raw.fif\n",
      "[done]\n",
      "Writing /hpc/igum002/codes/Hyperscanning2-redesign/data/EEG/raw_experimental_data/EEG-S16-direct_left_tracking_raw.fif\n",
      "Closing /hpc/igum002/codes/Hyperscanning2-redesign/data/EEG/raw_experimental_data/EEG-S16-direct_left_tracking_raw.fif\n",
      "[done]\n",
      "Writing /hpc/igum002/codes/Hyperscanning2-redesign/data/EEG/raw_experimental_data/EEG-S16-direct_post_left_point_raw.fif\n",
      "Closing /hpc/igum002/codes/Hyperscanning2-redesign/data/EEG/raw_experimental_data/EEG-S16-direct_post_left_point_raw.fif\n",
      "[done]\n",
      "Writing /hpc/igum002/codes/Hyperscanning2-redesign/data/EEG/raw_experimental_data/EEG-S16-direct_post_right_point_raw.fif\n",
      "Closing /hpc/igum002/codes/Hyperscanning2-redesign/data/EEG/raw_experimental_data/EEG-S16-direct_post_right_point_raw.fif\n",
      "[done]\n"
     ]
    },
    {
     "name": "stderr",
     "output_type": "stream",
     "text": [
      "Saving process...: 6it [00:00, 55.61it/s]\n",
      "In progress: 100%|██████████████████████████████| 16/16 [00:22<00:00,  1.41s/it]"
     ]
    },
    {
     "name": "stdout",
     "output_type": "stream",
     "text": [
      "All experimental files have been saved in fif format in this path /hpc/igum002/codes/Hyperscanning2-redesign/data/EEG/raw_experimental_data\n"
     ]
    },
    {
     "name": "stderr",
     "output_type": "stream",
     "text": [
      "\n"
     ]
    }
   ],
   "source": [
    "# # TODO Uncomment this when checked\n",
    "# labelsequence = [1,2,1,2,1,2,3,4,3,4,3,4,5,6,5,6]\n",
    "\n",
    "\n",
    "# # # TODO Uncomment this when checked\n",
    "# path_2_csv_files = \"/hpc/igum002/codes/Hyperscanning2-redesign/data/EEG/\"\n",
    "\n",
    "# # # TODO Uncomment this when checked\n",
    "# path_2_save_experimental_eeg_file = \"/hpc/igum002/codes/Hyperscanning2-redesign/data/EEG/raw_experimental_data\"\n",
    "\n",
    "# bad_file_list = [\"EEG-S07.csv\"]\n",
    "\n",
    "# path to csv files\n",
    "path_2_csv_files = \"/hpc/igum002/codes/Hyperscanning2-redesign/data/EEG/\"\n",
    "\n",
    "# path to save experimental file that has been extracted\n",
    "path_2_save_experimental_eeg_file = \"/hpc/igum002/codes/Hyperscanning2-redesign/data/EEG/raw_experimental_data\"\n",
    "\n",
    "# labelsequence_experiment\n",
    "labelsequence = [1,2,1,2,1,2,3,4,3,4,3,4,5,6,5,6]\n",
    "\n",
    "bad_files = []\n",
    "\n",
    "extract_experimental_eeg_data(path_2_csv_files, path_2_save_experimental_eeg_file, labelsequence)"
   ]
  },
  {
   "cell_type": "code",
   "execution_count": 120,
   "metadata": {},
   "outputs": [
    {
     "name": "stdout",
     "output_type": "stream",
     "text": [
      "['EEG-S1.csv', 'EEG-S2.csv', 'EEG-S3.csv', 'EEG-S4.csv', 'EEG-S5.csv', 'EEG-S6.csv', 'EEG-S7.csv', 'EEG-S8.csv']\n",
      "['/hpc/igum002/codes/Hyperscanning2-redesign/data/EEG/EEG-S1.csv', '/hpc/igum002/codes/Hyperscanning2-redesign/data/EEG/EEG-S2.csv', '/hpc/igum002/codes/Hyperscanning2-redesign/data/EEG/EEG-S3.csv', '/hpc/igum002/codes/Hyperscanning2-redesign/data/EEG/EEG-S4.csv', '/hpc/igum002/codes/Hyperscanning2-redesign/data/EEG/EEG-S5.csv', '/hpc/igum002/codes/Hyperscanning2-redesign/data/EEG/EEG-S6.csv', '/hpc/igum002/codes/Hyperscanning2-redesign/data/EEG/EEG-S7.csv', '/hpc/igum002/codes/Hyperscanning2-redesign/data/EEG/EEG-S8.csv']\n"
     ]
    }
   ],
   "source": [
    "import os\n",
    "path_2_csv_files = \"/hpc/igum002/codes/Hyperscanning2-redesign/data/EEG\"\n",
    "list_file_names = []\n",
    "full_path_4_each_file = []\n",
    "for (root, dirs, file) in os.walk(path_2_csv_files):\n",
    "    for f in file:\n",
    "        if \".csv\" in f:\n",
    "            # Populate all file names only\n",
    "            list_file_names.append(f)\n",
    "            list_file_names.sort()\n",
    "\n",
    "            # Populate all full path of filenames\n",
    "            full_path_4_each_file.append(os.path.join(root, f))\n",
    "            full_path_4_each_file.sort()\n",
    "\n",
    "    print(list_file_names)\n",
    "    print(full_path_4_each_file)\n",
    "    "
   ]
  },
  {
   "cell_type": "code",
   "execution_count": 104,
   "metadata": {},
   "outputs": [
    {
     "data": {
      "text/plain": [
       "['EEG-S1.csv',\n",
       " 'EEG-S2.csv',\n",
       " 'EEG-S3.csv',\n",
       " 'EEG-S4.csv',\n",
       " 'EEG-S5.csv',\n",
       " 'EEG-S6.csv',\n",
       " 'EEG-S7.csv',\n",
       " 'EEG-S8.csv']"
      ]
     },
     "execution_count": 104,
     "metadata": {},
     "output_type": "execute_result"
    }
   ],
   "source": [
    "list_file_names.sort()\n",
    "list_file_names"
   ]
  },
  {
   "cell_type": "code",
   "execution_count": 89,
   "metadata": {},
   "outputs": [
    {
     "name": "stdout",
     "output_type": "stream",
     "text": [
      "/igum002/codes/Hyperscanning2-redesign/data/EEG/EEG-S10-averted_baseline_raw.fif\n",
      "<re.Match object; span=(48, 55), match='EEG-S10'>\n",
      "Start index :  48\n",
      "End index :  55\n",
      "<class 'str'>\n"
     ]
    }
   ],
   "source": [
    "# stringA = filenames_fif_baseline[0]\n",
    "stringA = \"/igum002/codes/Hyperscanning2-redesign/data/EEG/EEG-S10-averted_baseline_raw.fif\"\n",
    "print(stringA)\n",
    "\n",
    "# Match pattern EEG-Sx (x = any number)\n",
    "regex = r\"\\D{3}-S\\d+\"\n",
    "\n",
    "\n",
    "test_file_name = re.search(regex,stringA)\n",
    "print(test_file_name)\n",
    "print(\"Start index : \", test_file_name.start())\n",
    "print(\"End index : \", test_file_name.end())\n",
    "print(type(stringA[test_file_name.start():test_file_name.end()]))\n",
    "\n"
   ]
  },
  {
   "cell_type": "markdown",
   "metadata": {},
   "source": [
    "ORIGINAL SCRIPT"
   ]
  },
  {
   "cell_type": "code",
   "execution_count": null,
   "metadata": {},
   "outputs": [],
   "source": [
    "import mne\n",
    "import pandas as pd\n",
    "from tqdm import tqdm\n",
    "import warnings\n",
    "warnings.filterwarnings(\"ignore\", category=DeprecationWarning)\n",
    "#%%\n",
    "def extract_eeg_data(filename, labelsequence):\n",
    "    try:\n",
    "        f = open(filename)\n",
    "        labelsequence = int(labelsequence)\n",
    "\n",
    "    except IOError as err_filename:\n",
    "        print(\"The format of file name is not correct or file doesn't exist \\nThe format must be 'EEG-Sx.csv' , x=subject number \")\n",
    "        raise\n",
    "    except ValueError as err_integer:\n",
    "        print(\"The labelsequence input must be integer : \", err_integer)\n",
    "        raise\n",
    "\n",
    "    else:\n",
    "        if  labelsequence < 1 or labelsequence > 12:\n",
    "            print(\"The value for labelsequence parameter is out of range. It must be be between 1 and 12\")\n",
    "            raise IndexError\n",
    "        else:\n",
    "\n",
    "            #%% Load the data\n",
    "            # filename = \"EEG-S1.csv\"\n",
    "            fileName = filename  # The format of file name of EEG must be like this\n",
    "            print(\"Processing file : \" + fileName)\n",
    "            df = pd.read_csv(fileName, delimiter=',')\n",
    "            # %% Define columns for raw csv file\n",
    "            df.columns = ['Index', 'FP1', 'FP2', 'F7', 'F3', 'F4', 'F8', 'T7', 'C3', 'C4', 'T8', 'P7', 'P3', 'P4', 'P8', 'O1',\n",
    "                          'O2', 'X1', 'X2', 'X3', 'X4', 'X5',\n",
    "                          'X6', 'X7', 'X8', 'X9', 'X10', 'X11', 'X12', 'X13', 'X14', 'Marker']\n",
    "            # Converting all markers (pandas data frame to list)\n",
    "            markers = df['Marker'].tolist()\n",
    "            # %%  Find all experimental markers and print them out.\n",
    "\n",
    "            indicesOfMarkers = []  # Empty list to contain indices of markers\n",
    "            for i, c in enumerate(markers):\n",
    "                if \"9999999\" in str(c) : #todo untuk data EEG-S1-6.csv, tambahkan \" : \"\n",
    "                    indicesOfMarkers.append(i) # check if the number of markers = 36\n",
    "            try:\n",
    "                number_markers = len(indicesOfMarkers)\n",
    "                if number_markers != 48:\n",
    "                    raise ValueError(\"The {} file has incorrect number of markers : {} ! It MUST be 36\".format(fileName,number_markers))\n",
    "            except ValueError as err_unmatch_markers:\n",
    "                print(err_unmatch_markers)\n",
    "                raise\n",
    "\n",
    "\n",
    "            # %% Loop the list of labels in sequence\n",
    "            # todo Create a list of labels with different sequences and put them into a list (list of list)\n",
    "            # Order = 1 (Averted/Direct/Natural)\n",
    "            oddOrder1 = [\"averted_pre_right_point\", \"averted_pre_left_point\", \"averted_left_tracking\", \"averted_right_tracking\",\n",
    "                         \"averted_post_right_point\", \"averted_post_left_point\", \"direct_pre_right_point\", \"direct_pre_left_point\",\n",
    "                         \"direct_left_tracking\", \"direct_right_tracking\", \"direct_post_right_point\", \"direct_post_left_point\",\n",
    "                         \"natural_pre_right_point\", \"natural_pre_left_point\", \"natural_left_tracking\", \"natural_right_tracking\",\n",
    "                         \"natural_post_right_point\", \"natural_post_left_point\"]\n",
    "\n",
    "            evenOrder1 = [\"averted_pre_left_point\", \"averted_pre_right_point\", \"averted_right_tracking\", \"averted_left_tracking\",\n",
    "                          \"averted_post_left_point\", \"averted_post_right_point\", \"direct_pre_left_point\", \"direct_pre_right_point\",\n",
    "                          \"direct_right_tracking\", \"direct_left_tracking\", \"direct_post_left_point\", \"direct_post_right_point\",\n",
    "                          \"natural_pre_left_point\", \"natural_pre_right_point\", \"natural_right_tracking\", \"natural_left_tracking\",\n",
    "                          \"natural_post_left_point\", \"natural_post_right_point\"]\n",
    "\n",
    "            # Order = 2 (Averted/Natural/Direct)\n",
    "            oddOrder2 = [\"averted_pre_right_point\", \"averted_pre_left_point\", \"averted_left_tracking\", \"averted_right_tracking\",\n",
    "                         \"averted_post_right_point\", \"averted_post_left_point\", \"natural_pre_right_point\", \"natural_pre_left_point\",\n",
    "                         \"natural_left_tracking\", \"natural_right_tracking\", \"natural_post_right_point\", \"natural_post_left_point\",\n",
    "                         \"direct_pre_right_point\", \"direct_pre_left_point\", \"direct_left_tracking\", \"direct_right_tracking\",\n",
    "                         \"direct_post_right_point\", \"direct_post_left_point\"]\n",
    "\n",
    "            evenOrder2 = [\"averted_pre_left_point\", \"averted_pre_right_point\", \"averted_right_tracking\", \"averted_left_tracking\",\n",
    "                          \"averted_post_left_point\", \"averted_post_right_point\", \"natural_pre_left_point\", \"natural_pre_right_point\",\n",
    "                          \"natural_right_tracking\", \"natural_left_tracking\", \"natural_post_left_point\", \"natural_post_right_point\",\n",
    "                          \"direct_pre_left_point\", \"direct_pre_right_point\", \"direct_right_tracking\", \"direct_left_tracking\",\n",
    "                          \"direct_post_left_point\", \"direct_post_right_point\"]\n",
    "\n",
    "            # Order = 3 (Direct / Natural / Averted)\n",
    "            oddOrder3 = [\"direct_pre_right_point\", \"direct_pre_left_point\", \"direct_left_tracking\", \"direct_right_tracking\",\n",
    "                         \"direct_post_right_point\", \"direct_post_left_point\", \"natural_pre_right_point\", \"natural_pre_left_point\",\n",
    "                         \"natural_left_tracking\", \"natural_right_tracking\", \"natural_post_right_point\", \"natural_post_left_point\",\n",
    "                         \"averted_pre_right_point\", \"averted_pre_left_point\", \"averted_left_tracking\", \"averted_right_tracking\",\n",
    "                         \"averted_post_right_point\", \"averted_post_left_point\"]\n",
    "\n",
    "            evenOrder3 = [\"direct_pre_left_point\", \"direct_pre_right_point\", \"direct_right_tracking\", \"direct_left_tracking\",\n",
    "                          \"direct_post_left_point\", \"direct_post_right_point\", \"natural_pre_left_point\", \"natural_pre_right_point\",\n",
    "                          \"natural_right_tracking\", \"natural_left_tracking\", \"natural_post_left_point\", \"natural_post_right_point\",\n",
    "                          \"averted_pre_left_point\", \"averted_pre_right_point\", \"averted_right_tracking\", \"averted_left_tracking\",\n",
    "                          \"averted_post_left_point\", \"averted_post_right_point\"]\n",
    "\n",
    "            # Order = 4 (Direct/Averted/Natural)\n",
    "            oddOrder4 = [\"direct_pre_right_point\", \"direct_pre_left_point\", \"direct_left_tracking\", \"direct_right_tracking\",\n",
    "                         \"direct_post_right_point\", \"direct_post_left_point\", \"averted_pre_right_point\", \"averted_pre_left_point\",\n",
    "                         \"averted_left_tracking\", \"averted_right_tracking\", \"averted_post_right_point\", \"averted_post_left_point\",\n",
    "                         \"natural_pre_right_point\", \"natural_pre_left_point\", \"natural_left_tracking\", \"natural_right_tracking\",\n",
    "                         \"natural_post_right_point\", \"natural_post_left_point\"]\n",
    "\n",
    "            evenOrder4 = [\"direct_pre_left_point\", \"direct_pre_right_point\", \"direct_right_tracking\", \"direct_left_tracking\",\n",
    "                          \"direct_post_left_point\", \"direct_post_right_point\", \"averted_pre_left_point\", \"averted_pre_right_point\",\n",
    "                          \"averted_right_tracking\", \"averted_left_tracking\", \"averted_post_left_point\", \"averted_post_right_point\",\n",
    "                          \"natural_pre_left_point\", \"natural_pre_right_point\", \"natural_right_tracking\", \"natural_left_tracking\",\n",
    "                          \"natural_post_left_point\", \"natural_post_right_point\"]\n",
    "\n",
    "            # Order = 5 (Natural/Direct/Averted)\n",
    "            oddOrder5 = [\"natural_pre_right_point\", \"natural_pre_left_point\", \"natural_left_tracking\", \"natural_right_tracking\",\n",
    "                         \"natural_post_right_point\", \"natural_post_left_point\", \"direct_pre_right_point\", \"direct_pre_left_point\",\n",
    "                         \"direct_left_tracking\", \"direct_right_tracking\", \"direct_post_right_point\", \"direct_post_left_point\",\n",
    "                         \"averted_pre_right_point\", \"averted_pre_left_point\", \"averted_left_tracking\", \"averted_right_tracking\",\n",
    "                         \"averted_post_right_point\", \"averted_post_left_point\"]\n",
    "\n",
    "            evenOrder5 = [\"natural_pre_left_point\", \"natural_pre_right_point\", \"natural_right_tracking\", \"natural_left_tracking\",\n",
    "                          \"natural_post_left_point\", \"natural_post_right_point\", \"direct_pre_left_point\", \"direct_pre_right_point\",\n",
    "                          \"direct_right_tracking\", \"direct_left_tracking\", \"direct_post_left_point\", \"direct_post_right_point\",\n",
    "                          \"averted_pre_left_point\", \"averted_pre_right_point\", \"averted_right_tracking\", \"averted_left_tracking\",\n",
    "                          \"averted_post_left_point\", \"averted_post_right_point\"]\n",
    "\n",
    "            # Order = 6 (Natural/Averted/Direct)\n",
    "            oddOrder6 = [\"natural_pre_right_point\", \"natural_pre_left_point\", \"natural_left_tracking\", \"natural_right_tracking\",\n",
    "                         \"natural_post_right_point\", \"natural_post_left_point\", \"averted_pre_right_point\", \"averted_pre_left_point\",\n",
    "                         \"averted_left_tracking\", \"averted_right_tracking\", \"averted_post_right_point\", \"averted_post_left_point\",\n",
    "                         \"direct_pre_right_point\", \"direct_pre_left_point\", \"direct_left_tracking\", \"direct_right_tracking\",\n",
    "                         \"direct_post_right_point\", \"direct_post_left_point\"]\n",
    "\n",
    "            evenOrder6 = [\"natural_pre_left_point\", \"natural_pre_right_point\", \"natural_right_tracking\", \"natural_left_tracking\",\n",
    "                          \"natural_post_left_point\", \"natural_post_right_point\", \"averted_pre_left_point\", \"averted_pre_right_point\",\n",
    "                          \"averted_right_tracking\", \"averted_left_tracking\", \"averted_post_left_point\", \"averted_post_right_point\",\n",
    "                          \"direct_pre_left_point\", \"direct_pre_right_point\", \"direct_right_tracking\", \"direct_left_tracking\",\n",
    "                          \"direct_post_left_point\", \"direct_post_right_point\"]\n",
    "            #%% Add all labels into a list\n",
    "\n",
    "            listOfOrders = []\n",
    "            for i in progressbar(range(6)):\n",
    "                listOfOrders.append(eval('oddOrder' + str(i+1)))\n",
    "                listOfOrders.append(eval('evenOrder' + str(i+1)))\n",
    "            print(\"Data have been extracted from : \" + fileName)\n",
    "            chosenOrder = listOfOrders[labelsequence-1]\n",
    "            # %% Chunk the data based on opening and closing markers and get only the 16 channels data (columns)\n",
    "            chunkedData = []\n",
    "            for i in range(0, 36, 2):\n",
    "                # averted_pre_right_point = df.iloc[indicesOfMarkers[0] : indicesOfMarkers[1] +1, 1:17]\n",
    "                # Change into numpy and convert it from uV (microvolts) / nV to V (volts)\n",
    "                chunkedData.append(df.iloc[indicesOfMarkers[i]: indicesOfMarkers[i + 1] + 1, 1:17].to_numpy() * 1e-6)\n",
    "            # %% Load each eye condition file into MNE Python\n",
    "            # Create 16 channels montage 10-20 international standard\n",
    "            montage = mne.channels.make_standard_montage('standard_1020')\n",
    "            # % Create info\n",
    "            # Pick only 16 channels that are used in Cyton+Daisy OpenBCI\n",
    "            ch_names = ['FP1', 'Fp2', 'F7', 'F3', 'F4', 'F8', 'T7', 'C3', 'C4', 'T8', 'P7', 'P3', 'P4', 'P8', 'O1', 'O2']\n",
    "            ch_types = ['eeg'] * 16\n",
    "            info = mne.create_info(\n",
    "                ch_names=ch_names,\n",
    "                sfreq=125,\n",
    "                ch_types=ch_types)\n",
    "            info.set_montage('standard_1020', match_case=False)\n",
    "            # %% Create filenames for *.fif based on the sequence of labels above\n",
    "            filenames_fif = []\n",
    "            for i in chosenOrder:\n",
    "                filenames_fif.append(fileName[4:fileName.index(\".\")] + \"-\" + i + \"_raw.fif\")\n",
    "            #%% Save into *.fif files\n",
    "            for i, val in enumerate(chunkedData):\n",
    "                data_need_label = mne.io.RawArray(val.transpose(), info, verbose=False)\n",
    "                data_need_label.save(join(filenames_fif[i]), overwrite=True)\n",
    "            # todo save it into MNE-BIDS format\n",
    "\n",
    "\n",
    "\n",
    "# extract_eeg_data(\"EEG-S10.csv\", 1)\n"
   ]
  }
 ],
 "metadata": {
  "kernelspec": {
   "display_name": "Python 3 (ipykernel)",
   "language": "python",
   "name": "python3"
  },
  "language_info": {
   "codemirror_mode": {
    "name": "ipython",
    "version": 3
   },
   "file_extension": ".py",
   "mimetype": "text/x-python",
   "name": "python",
   "nbconvert_exporter": "python",
   "pygments_lexer": "ipython3",
   "version": "3.8.10"
  },
  "orig_nbformat": 4,
  "vscode": {
   "interpreter": {
    "hash": "096a9cfb5dd708673d7bad520942c5652bd477bd1f0d767668ab378a8c2877fc"
   }
  }
 },
 "nbformat": 4,
 "nbformat_minor": 2
}
